{
 "cells": [
  {
   "cell_type": "code",
   "execution_count": 8,
   "metadata": {},
   "outputs": [],
   "source": [
    "import numpy as np\n",
    "import csv\n",
    "import os\n",
    "import math\n",
    "import random\n",
    "import pandas as pd\n",
    "import matplotlib.pyplot as plt\n",
    "random.seed(42)\n",
    "np.random.seed(42)"
   ]
  },
  {
   "cell_type": "code",
   "execution_count": 9,
   "metadata": {},
   "outputs": [],
   "source": [
    "from sklearn.model_selection import KFold\n",
    "from sklearn.linear_model import LinearRegression\n",
    "from sklearn.metrics import mean_squared_error\n",
    "from statistics import mean\n",
    "from sklearn.ensemble import RandomForestRegressor\n",
    "from sklearn.datasets import make_regression"
   ]
  },
  {
   "cell_type": "code",
   "execution_count": 10,
   "metadata": {},
   "outputs": [],
   "source": [
    "from sklearn.preprocessing import OneHotEncoder\n",
    "from sklearn.neural_network import MLPClassifier"
   ]
  },
  {
   "cell_type": "code",
   "execution_count": 11,
   "metadata": {},
   "outputs": [],
   "source": [
    "from sklearn import linear_model"
   ]
  },
  {
   "cell_type": "markdown",
   "metadata": {},
   "source": [
    "# Dataset 2: Linear Regression"
   ]
  },
  {
   "cell_type": "code",
   "execution_count": 12,
   "metadata": {},
   "outputs": [],
   "source": [
    "file_path= os.path.expanduser('~/EE219/hw4/housing_data.csv')\n",
    "df=pd.read_csv(file_path, sep=',',header=None)"
   ]
  },
  {
   "cell_type": "code",
   "execution_count": 13,
   "metadata": {},
   "outputs": [
    {
     "name": "stdout",
     "output_type": "stream",
     "text": [
      "MEDV\n",
      " 24.0\n"
     ]
    },
    {
     "data": {
      "text/plain": [
       "0      24.0\n",
       "1      21.6\n",
       "2      34.7\n",
       "3      33.4\n",
       "4      36.2\n",
       "5      28.7\n",
       "6      22.9\n",
       "7      27.1\n",
       "8      16.5\n",
       "9      18.9\n",
       "10     15.0\n",
       "11     18.9\n",
       "12     21.7\n",
       "13     20.4\n",
       "14     18.2\n",
       "15     19.9\n",
       "16     23.1\n",
       "17     17.5\n",
       "18     20.2\n",
       "19     18.2\n",
       "20     13.6\n",
       "21     19.6\n",
       "22     15.2\n",
       "23     14.5\n",
       "24     15.6\n",
       "25     13.9\n",
       "26     16.6\n",
       "27     14.8\n",
       "28     18.4\n",
       "29     21.0\n",
       "       ... \n",
       "476    16.7\n",
       "477    12.0\n",
       "478    14.6\n",
       "479    21.4\n",
       "480    23.0\n",
       "481    23.7\n",
       "482    25.0\n",
       "483    21.8\n",
       "484    20.6\n",
       "485    21.2\n",
       "486    19.1\n",
       "487    20.6\n",
       "488    15.2\n",
       "489     7.0\n",
       "490     8.1\n",
       "491    13.6\n",
       "492    20.1\n",
       "493    21.8\n",
       "494    24.5\n",
       "495    23.1\n",
       "496    19.7\n",
       "497    18.3\n",
       "498    21.2\n",
       "499    17.5\n",
       "500    16.8\n",
       "501    22.4\n",
       "502    20.6\n",
       "503    23.9\n",
       "504    22.0\n",
       "505    11.9\n",
       "Name: 13, Length: 506, dtype: float64"
      ]
     },
     "execution_count": 13,
     "metadata": {},
     "output_type": "execute_result"
    }
   ],
   "source": [
    "print(\"MEDV\\n\", df.loc[0,13])\n",
    "df[13]"
   ]
  },
  {
   "cell_type": "code",
   "execution_count": 14,
   "metadata": {},
   "outputs": [],
   "source": [
    "df_y=df[13]\n",
    "df=df.drop([13], axis = 1)"
   ]
  },
  {
   "cell_type": "code",
   "execution_count": 16,
   "metadata": {},
   "outputs": [
    {
     "name": "stdout",
     "output_type": "stream",
     "text": [
      "RMSE for train data= 4.670454144364911\n",
      "RMSE for test data= 4.792992536004586\n"
     ]
    }
   ],
   "source": [
    "kf = KFold(n_splits=10,random_state=42,shuffle=True)\n",
    "RMSE_train=[]\n",
    "RMSE_test=[]\n",
    "for train_index, test_index in kf.split(df):\n",
    "    X_train= df.loc[train_index]\n",
    "    y_train= df_y.loc[train_index]\n",
    "    X_test= df.loc[test_index]\n",
    "    y_test= df_y.loc[test_index]\n",
    "#     print(X_train)\n",
    "#     print(y_train)\n",
    "    reg = LinearRegression(normalize=True)\n",
    "    reg.fit(X_train, y_train)\n",
    "    pred_train = reg.predict(X_train)\n",
    "    pred_test = reg.predict(X_test)\n",
    "    RMSE_train.append(np.sqrt(mean_squared_error(y_train, pred_train)))\n",
    "    RMSE_test.append(np.sqrt(mean_squared_error(y_test, pred_test)))\n",
    "print('RMSE for train data=',mean(RMSE_train))\n",
    "print('RMSE for test data=',mean(RMSE_test))"
   ]
  },
  {
   "cell_type": "code",
   "execution_count": 37,
   "metadata": {},
   "outputs": [
    {
     "data": {
      "text/plain": [
       "array([-1.01889067e-01,  4.78657068e-02,  4.25242058e-02,  2.13065449e+00,\n",
       "       -1.77470186e+01,  3.71996316e+00,  9.25223548e-03, -1.45616126e+00,\n",
       "        2.91484760e-01, -1.27341960e-02, -9.58533414e-01,  9.34165225e-03,\n",
       "       -5.67212111e-01])"
      ]
     },
     "execution_count": 37,
     "metadata": {},
     "output_type": "execute_result"
    }
   ],
   "source": [
    "reg.coef_ "
   ]
  },
  {
   "cell_type": "code",
   "execution_count": null,
   "metadata": {},
   "outputs": [],
   "source": [
    "# 5th represent NOX: nitric oxides concentration (parts per 10 million)\n",
    "# 7th represent AGE: proportion of owner-occupied units built prior to 1940"
   ]
  },
  {
   "cell_type": "code",
   "execution_count": 15,
   "metadata": {},
   "outputs": [
    {
     "data": {
      "text/plain": [
       "Text(0.5, 0, 'fitted valuse')"
      ]
     },
     "execution_count": 15,
     "metadata": {},
     "output_type": "execute_result"
    },
    {
     "data": {
      "image/png": "[encoded data removed]",
      "text/plain": [
       "<Figure size 432x288 with 1 Axes>"
      ]
     },
     "metadata": {
      "needs_background": "light"
     },
     "output_type": "display_data"
    },
    {
     "data": {
      "image/png": "[encoded data removed]",
      "text/plain": [
       "<Figure size 432x288 with 1 Axes>"
      ]
     },
     "metadata": {
      "needs_background": "light"
     },
     "output_type": "display_data"
    }
   ],
   "source": [
    "reg = LinearRegression().fit(df, df_y)\n",
    "pred= reg.predict(df)\n",
    "plt.figure()\n",
    "plt.scatter(df_y, pred,marker='.')\n",
    "plt.plot(df_y,df_y,dashes=[5, 25],color='black')\n",
    "plt.xlabel('true values')\n",
    "plt.ylabel('fitted valuse')\n",
    "\n",
    "\n",
    "plt.figure()\n",
    "plt.scatter(pred,df_y-pred, marker='.')\n",
    "plt.ylabel('residuals')\n",
    "plt.xlabel('fitted valuse')"
   ]
  },
  {
   "cell_type": "markdown",
   "metadata": {},
   "source": [
    "# Overfitting and Regularization"
   ]
  },
  {
   "cell_type": "code",
   "execution_count": 17,
   "metadata": {},
   "outputs": [
    {
     "name": "stdout",
     "output_type": "stream",
     "text": [
      "alpha= 0.001\n",
      "RMSE for train data= 4.670454197985355\n",
      "RMSE for test data= 4.79299077053389\n",
      "alpha= 0.003\n",
      "RMSE for train data= 4.67045462555656\n",
      "RMSE for test data= 4.792987593013063\n",
      "alpha= 0.01\n",
      "RMSE for train data= 4.670459437315211\n",
      "RMSE for test data= 4.792980129418474\n",
      "alpha= 0.03\n",
      "RMSE for train data= 4.670500441305105\n",
      "RMSE for test data= 4.792988876733288\n",
      "alpha= 0.1\n",
      "RMSE for train data= 4.670921114118715\n",
      "RMSE for test data= 4.79332530775069\n",
      "alpha= 0.3\n",
      "RMSE for train data= 4.673716856410615\n",
      "RMSE for test data= 4.7960465276764275\n",
      "alpha= 0.5\n",
      "RMSE for train data= 4.677693530626827\n",
      "RMSE for test data= 4.800076755109023\n",
      "alpha= 1\n",
      "RMSE for train data= 4.688537840397278\n",
      "RMSE for test data= 4.811197259136555\n",
      "alpha= 3\n",
      "RMSE for train data= 4.718846284798789\n",
      "RMSE for test data= 4.84201469623383\n",
      "alpha= 5\n",
      "RMSE for train data= 4.734544781904732\n",
      "RMSE for test data= 4.857461516150736\n",
      "alpha= 10\n",
      "RMSE for train data= 4.75430804853925\n",
      "RMSE for test data= 4.875913122577868\n",
      "alpha= 30\n",
      "RMSE for train data= 4.791530791084515\n",
      "RMSE for test data= 4.909138071349505\n",
      "alpha= 50\n",
      "RMSE for train data= 4.820896677688354\n",
      "RMSE for test data= 4.93651130533923\n",
      "alpha= 100\n",
      "RMSE for train data= 4.884360461021295\n",
      "RMSE for test data= 4.997655556616498\n"
     ]
    }
   ],
   "source": [
    "#Ridge regularizer\n",
    "alphas=[0.001,0.003,0.01,0.03,0.1,0.3,0.5,1,3,5,10,30,50,100]\n",
    "kf = KFold(n_splits=10,random_state=42,shuffle=True)\n",
    "avg_RMSE_train=[]\n",
    "avg_RMSE_test=[]\n",
    "for alpha_value in alphas:\n",
    "    RMSE_train=[]\n",
    "    RMSE_test=[]\n",
    "    for train_index, test_index in kf.split(df):\n",
    "        X_train= df.loc[train_index]\n",
    "        y_train= df_y.loc[train_index]\n",
    "        X_test= df.loc[test_index]\n",
    "        y_test= df_y.loc[test_index]\n",
    "        reg = linear_model.Ridge(alpha=alpha_value)\n",
    "        reg.fit(X_train, y_train)\n",
    "        pred_train = reg.predict(X_train)\n",
    "        pred_test = reg.predict(X_test)\n",
    "        RMSE_train.append(np.sqrt(mean_squared_error(y_train, pred_train)))\n",
    "        RMSE_test.append(np.sqrt(mean_squared_error(y_test, pred_test)))\n",
    "    print('alpha=',alpha_value)\n",
    "    print('RMSE for train data=',mean(RMSE_train))\n",
    "    print('RMSE for test data=',mean(RMSE_test))\n",
    "    avg_RMSE_train.append(mean(RMSE_train))\n",
    "    avg_RMSE_test.append(mean(RMSE_test))"
   ]
  },
  {
   "cell_type": "code",
   "execution_count": 41,
   "metadata": {},
   "outputs": [
    {
     "data": {
      "text/plain": [
       "array([-1.01884964e-01,  4.78679848e-02,  4.24738809e-02,  2.13043466e+00,\n",
       "       -1.77339019e+01,  3.72007811e+00,  9.24143524e-03, -1.45595928e+00,\n",
       "        2.91458778e-01, -1.27352894e-02, -9.58388385e-01,  9.34247056e-03,\n",
       "       -5.67228569e-01])"
      ]
     },
     "execution_count": 41,
     "metadata": {},
     "output_type": "execute_result"
    }
   ],
   "source": [
    "for train_index, test_index in kf.split(df):\n",
    "    X_train= df.loc[train_index]\n",
    "    y_train= df_y.loc[train_index]\n",
    "    X_test= df.loc[test_index]\n",
    "    y_test= df_y.loc[test_index]\n",
    "    reg = linear_model.Ridge(alpha=0.001)\n",
    "    reg.fit(X_train, y_train)\n",
    "reg.coef_ "
   ]
  },
  {
   "cell_type": "code",
   "execution_count": 18,
   "metadata": {},
   "outputs": [
    {
     "name": "stdout",
     "output_type": "stream",
     "text": [
      "alpha= 0.001\n",
      "RMSE for train data= 4.670493416939514\n",
      "RMSE for test data= 4.793080855250757\n",
      "alpha= 0.003\n",
      "RMSE for train data= 4.6708074384816545\n",
      "RMSE for test data= 4.79350744279602\n",
      "alpha= 0.01\n",
      "RMSE for train data= 4.674366116730135\n",
      "RMSE for test data= 4.797535166240189\n",
      "alpha= 0.03\n",
      "RMSE for train data= 4.7052545517453055\n",
      "RMSE for test data= 4.831689718241363\n",
      "alpha= 0.1\n",
      "RMSE for train data= 4.7917697372284405\n",
      "RMSE for test data= 4.9211974916646355\n",
      "alpha= 0.3\n",
      "RMSE for train data= 4.8476255866782845\n",
      "RMSE for test data= 4.9641311217714215\n",
      "alpha= 0.5\n",
      "RMSE for train data= 4.9058902891037794\n",
      "RMSE for test data= 5.025393914716054\n",
      "alpha= 1\n",
      "RMSE for train data= 5.170088094751252\n",
      "RMSE for test data= 5.294695089614016\n",
      "alpha= 3\n",
      "RMSE for train data= 5.834668001702449\n",
      "RMSE for test data= 5.918719832669487\n",
      "alpha= 5\n",
      "RMSE for train data= 6.073418033043926\n",
      "RMSE for test data= 6.131783421071512\n",
      "alpha= 10\n",
      "RMSE for train data= 6.338830983440249\n",
      "RMSE for test data= 6.386479586597042\n",
      "alpha= 30\n",
      "RMSE for train data= 7.834511557291309\n",
      "RMSE for test data= 7.8770780799372355\n",
      "alpha= 50\n",
      "RMSE for train data= 8.0296540202212\n",
      "RMSE for test data= 8.046847108881435\n",
      "alpha= 100\n",
      "RMSE for train data= 8.086964752202087\n",
      "RMSE for test data= 8.105464630421434\n"
     ]
    }
   ],
   "source": [
    "#Lasso regularizer\n",
    "alphas=[0.001,0.003,0.01,0.03,0.1,0.3,0.5,1,3,5,10,30,50,100]\n",
    "kf = KFold(n_splits=10,random_state=42,shuffle=True)\n",
    "avg_RMSE_train=[]\n",
    "avg_RMSE_test=[]\n",
    "for alpha_value in alphas:\n",
    "    RMSE_train=[]\n",
    "    RMSE_test=[]\n",
    "    for train_index, test_index in kf.split(df):\n",
    "        X_train= df.loc[train_index]\n",
    "        y_train= df_y.loc[train_index]\n",
    "        X_test= df.loc[test_index]\n",
    "        y_test= df_y.loc[test_index]\n",
    "        reg = linear_model.Lasso(alpha=alpha_value)\n",
    "        reg.fit(X_train, y_train)\n",
    "        pred_train = reg.predict(X_train)\n",
    "        pred_test = reg.predict(X_test)\n",
    "        RMSE_train.append(np.sqrt(mean_squared_error(y_train, pred_train)))\n",
    "        RMSE_test.append(np.sqrt(mean_squared_error(y_test, pred_test)))\n",
    "    print('alpha=',alpha_value)\n",
    "    print('RMSE for train data=',mean(RMSE_train))\n",
    "    print('RMSE for test data=',mean(RMSE_test))\n",
    "    avg_RMSE_train.append(mean(RMSE_train))\n",
    "    avg_RMSE_test.append(mean(RMSE_test))"
   ]
  },
  {
   "cell_type": "code",
   "execution_count": 42,
   "metadata": {},
   "outputs": [
    {
     "data": {
      "text/plain": [
       "array([-1.01769102e-01,  4.79198219e-02,  4.12143925e-02,  2.11097153e+00,\n",
       "       -1.73990558e+01,  3.72102301e+00,  9.00722224e-03, -1.45045949e+00,\n",
       "        2.90833162e-01, -1.27665242e-02, -9.54799753e-01,  9.36338781e-03,\n",
       "       -5.67816353e-01])"
      ]
     },
     "execution_count": 42,
     "metadata": {},
     "output_type": "execute_result"
    }
   ],
   "source": [
    "for train_index, test_index in kf.split(df):\n",
    "    X_train= df.loc[train_index]\n",
    "    y_train= df_y.loc[train_index]\n",
    "    X_test= df.loc[test_index]\n",
    "    y_test= df_y.loc[test_index]\n",
    "    reg = linear_model.Lasso(alpha=0.001)\n",
    "    reg.fit(X_train, y_train)\n",
    "reg.coef_ "
   ]
  },
  {
   "cell_type": "code",
   "execution_count": null,
   "metadata": {},
   "outputs": [
    {
     "name": "stdout",
     "output_type": "stream",
     "text": [
      "alpha= 0.001 l1_ratio= 0.001\n",
      "RMSE for train data= 4.67674585822337\n",
      "RMSE for test data= 4.799111447191912\n",
      "alpha= 0.001 l1_ratio= 0.003\n",
      "RMSE for train data= 4.676728378644184\n",
      "RMSE for test data= 4.799093771753095\n",
      "alpha= 0.001 l1_ratio= 0.01\n",
      "RMSE for train data= 4.676667255591985\n",
      "RMSE for test data= 4.799031973137895\n",
      "alpha= 0.001 l1_ratio= 0.03\n",
      "RMSE for train data= 4.676493108095385\n",
      "RMSE for test data= 4.7988559720370425\n",
      "alpha= 0.001 l1_ratio= 0.1\n",
      "RMSE for train data= 4.6758899393430156\n",
      "RMSE for test data= 4.798247295076251\n",
      "alpha= 0.001 l1_ratio= 0.3\n",
      "RMSE for train data= 4.674239742317239\n",
      "RMSE for test data= 4.796591862502342\n",
      "alpha= 0.001 l1_ratio= 0.5\n",
      "RMSE for train data= 4.672753102886435\n",
      "RMSE for test data= 4.795122279250574\n",
      "alpha= 0.001 l1_ratio= 1\n",
      "RMSE for train data= 4.670493416939514\n",
      "RMSE for test data= 4.793080855250757\n",
      "alpha= 0.001 l1_ratio= 3\n",
      "RMSE for train data= 4.983842966302641\n",
      "RMSE for test data= 5.144697558965952\n",
      "alpha= 0.001 l1_ratio= 5\n",
      "RMSE for train data= 3.2032229101826034e+62\n",
      "RMSE for test data= 3.928370386033529e+62\n",
      "alpha= 0.001 l1_ratio= 10\n",
      "RMSE for train data= 9.187066923162694\n",
      "RMSE for test data= 9.17506805688015\n",
      "alpha= 0.001 l1_ratio= 30\n",
      "RMSE for train data= 4.799259054332667\n",
      "RMSE for test data= 4.945956719486658\n"
     ]
    },
    {
     "name": "stderr",
     "output_type": "stream",
     "text": [
      "F:\\Anaconda3\\lib\\site-packages\\sklearn\\linear_model\\coordinate_descent.py:492: ConvergenceWarning: Objective did not converge. You might want to increase the number of iterations. Fitting data with very small alpha may cause precision problems.\n",
      "  ConvergenceWarning)\n",
      "F:\\Anaconda3\\lib\\site-packages\\sklearn\\linear_model\\coordinate_descent.py:492: ConvergenceWarning: Objective did not converge. You might want to increase the number of iterations. Fitting data with very small alpha may cause precision problems.\n",
      "  ConvergenceWarning)\n",
      "F:\\Anaconda3\\lib\\site-packages\\sklearn\\linear_model\\coordinate_descent.py:492: ConvergenceWarning: Objective did not converge. You might want to increase the number of iterations. Fitting data with very small alpha may cause precision problems.\n",
      "  ConvergenceWarning)\n",
      "F:\\Anaconda3\\lib\\site-packages\\sklearn\\linear_model\\coordinate_descent.py:492: ConvergenceWarning: Objective did not converge. You might want to increase the number of iterations. Fitting data with very small alpha may cause precision problems.\n",
      "  ConvergenceWarning)\n",
      "F:\\Anaconda3\\lib\\site-packages\\sklearn\\linear_model\\coordinate_descent.py:492: ConvergenceWarning: Objective did not converge. You might want to increase the number of iterations. Fitting data with very small alpha may cause precision problems.\n",
      "  ConvergenceWarning)\n",
      "F:\\Anaconda3\\lib\\site-packages\\sklearn\\linear_model\\coordinate_descent.py:492: ConvergenceWarning: Objective did not converge. You might want to increase the number of iterations. Fitting data with very small alpha may cause precision problems.\n",
      "  ConvergenceWarning)\n",
      "F:\\Anaconda3\\lib\\site-packages\\sklearn\\linear_model\\coordinate_descent.py:492: ConvergenceWarning: Objective did not converge. You might want to increase the number of iterations. Fitting data with very small alpha may cause precision problems.\n",
      "  ConvergenceWarning)\n",
      "F:\\Anaconda3\\lib\\site-packages\\sklearn\\linear_model\\coordinate_descent.py:492: ConvergenceWarning: Objective did not converge. You might want to increase the number of iterations. Fitting data with very small alpha may cause precision problems.\n",
      "  ConvergenceWarning)\n",
      "F:\\Anaconda3\\lib\\site-packages\\sklearn\\linear_model\\coordinate_descent.py:492: ConvergenceWarning: Objective did not converge. You might want to increase the number of iterations. Fitting data with very small alpha may cause precision problems.\n",
      "  ConvergenceWarning)\n",
      "F:\\Anaconda3\\lib\\site-packages\\sklearn\\linear_model\\coordinate_descent.py:492: ConvergenceWarning: Objective did not converge. You might want to increase the number of iterations. Fitting data with very small alpha may cause precision problems.\n",
      "  ConvergenceWarning)\n",
      "F:\\Anaconda3\\lib\\site-packages\\sklearn\\linear_model\\coordinate_descent.py:492: ConvergenceWarning: Objective did not converge. You might want to increase the number of iterations. Fitting data with very small alpha may cause precision problems.\n",
      "  ConvergenceWarning)\n",
      "F:\\Anaconda3\\lib\\site-packages\\sklearn\\linear_model\\coordinate_descent.py:492: ConvergenceWarning: Objective did not converge. You might want to increase the number of iterations. Fitting data with very small alpha may cause precision problems.\n",
      "  ConvergenceWarning)\n",
      "F:\\Anaconda3\\lib\\site-packages\\sklearn\\linear_model\\coordinate_descent.py:492: ConvergenceWarning: Objective did not converge. You might want to increase the number of iterations. Fitting data with very small alpha may cause precision problems.\n",
      "  ConvergenceWarning)\n",
      "F:\\Anaconda3\\lib\\site-packages\\sklearn\\linear_model\\coordinate_descent.py:492: ConvergenceWarning: Objective did not converge. You might want to increase the number of iterations. Fitting data with very small alpha may cause precision problems.\n",
      "  ConvergenceWarning)\n",
      "F:\\Anaconda3\\lib\\site-packages\\sklearn\\linear_model\\coordinate_descent.py:492: ConvergenceWarning: Objective did not converge. You might want to increase the number of iterations. Fitting data with very small alpha may cause precision problems.\n",
      "  ConvergenceWarning)\n",
      "F:\\Anaconda3\\lib\\site-packages\\sklearn\\linear_model\\coordinate_descent.py:492: ConvergenceWarning: Objective did not converge. You might want to increase the number of iterations. Fitting data with very small alpha may cause precision problems.\n",
      "  ConvergenceWarning)\n",
      "F:\\Anaconda3\\lib\\site-packages\\sklearn\\linear_model\\coordinate_descent.py:492: ConvergenceWarning: Objective did not converge. You might want to increase the number of iterations. Fitting data with very small alpha may cause precision problems.\n",
      "  ConvergenceWarning)\n",
      "F:\\Anaconda3\\lib\\site-packages\\sklearn\\linear_model\\coordinate_descent.py:492: ConvergenceWarning: Objective did not converge. You might want to increase the number of iterations. Fitting data with very small alpha may cause precision problems.\n",
      "  ConvergenceWarning)\n"
     ]
    },
    {
     "name": "stdout",
     "output_type": "stream",
     "text": [
      "alpha= 0.001 l1_ratio= 50\n",
      "RMSE for train data= 5.102655992402937\n",
      "RMSE for test data= 5.342313579825566\n",
      "alpha= 0.001 l1_ratio= 100\n",
      "RMSE for train data= 4.9704062625196475\n",
      "RMSE for test data= 5.0546766771460225\n",
      "alpha= 0.003 l1_ratio= 0.001\n",
      "RMSE for train data= 4.695804672445969\n",
      "RMSE for test data= 4.818652055198589\n",
      "alpha= 0.003 l1_ratio= 0.003\n",
      "RMSE for train data= 4.69575941846522\n",
      "RMSE for test data= 4.818606028611292\n"
     ]
    },
    {
     "name": "stderr",
     "output_type": "stream",
     "text": [
      "F:\\Anaconda3\\lib\\site-packages\\sklearn\\linear_model\\coordinate_descent.py:492: ConvergenceWarning: Objective did not converge. You might want to increase the number of iterations. Fitting data with very small alpha may cause precision problems.\n",
      "  ConvergenceWarning)\n",
      "F:\\Anaconda3\\lib\\site-packages\\sklearn\\linear_model\\coordinate_descent.py:492: ConvergenceWarning: Objective did not converge. You might want to increase the number of iterations. Fitting data with very small alpha may cause precision problems.\n",
      "  ConvergenceWarning)\n",
      "F:\\Anaconda3\\lib\\site-packages\\sklearn\\linear_model\\coordinate_descent.py:492: ConvergenceWarning: Objective did not converge. You might want to increase the number of iterations. Fitting data with very small alpha may cause precision problems.\n",
      "  ConvergenceWarning)\n",
      "F:\\Anaconda3\\lib\\site-packages\\sklearn\\linear_model\\coordinate_descent.py:492: ConvergenceWarning: Objective did not converge. You might want to increase the number of iterations. Fitting data with very small alpha may cause precision problems.\n",
      "  ConvergenceWarning)\n",
      "F:\\Anaconda3\\lib\\site-packages\\sklearn\\linear_model\\coordinate_descent.py:492: ConvergenceWarning: Objective did not converge. You might want to increase the number of iterations. Fitting data with very small alpha may cause precision problems.\n",
      "  ConvergenceWarning)\n",
      "F:\\Anaconda3\\lib\\site-packages\\sklearn\\linear_model\\coordinate_descent.py:492: ConvergenceWarning: Objective did not converge. You might want to increase the number of iterations. Fitting data with very small alpha may cause precision problems.\n",
      "  ConvergenceWarning)\n",
      "F:\\Anaconda3\\lib\\site-packages\\sklearn\\linear_model\\coordinate_descent.py:492: ConvergenceWarning: Objective did not converge. You might want to increase the number of iterations. Fitting data with very small alpha may cause precision problems.\n",
      "  ConvergenceWarning)\n",
      "F:\\Anaconda3\\lib\\site-packages\\sklearn\\linear_model\\coordinate_descent.py:492: ConvergenceWarning: Objective did not converge. You might want to increase the number of iterations. Fitting data with very small alpha may cause precision problems.\n",
      "  ConvergenceWarning)\n"
     ]
    },
    {
     "name": "stdout",
     "output_type": "stream",
     "text": [
      "alpha= 0.003 l1_ratio= 0.01\n",
      "RMSE for train data= 4.695600642228891\n",
      "RMSE for test data= 4.818444532026053\n",
      "alpha= 0.003 l1_ratio= 0.03\n",
      "RMSE for train data= 4.695143665644805\n",
      "RMSE for test data= 4.817979646470151\n",
      "alpha= 0.003 l1_ratio= 0.1\n",
      "RMSE for train data= 4.693505139263012\n",
      "RMSE for test data= 4.816311884340679\n",
      "alpha= 0.003 l1_ratio= 0.3\n",
      "RMSE for train data= 4.688490139481793\n",
      "RMSE for test data= 4.811192002815087\n",
      "alpha= 0.003 l1_ratio= 0.5\n",
      "RMSE for train data= 4.683030545610797\n",
      "RMSE for test data= 4.805623243450896\n",
      "alpha= 0.003 l1_ratio= 1\n",
      "RMSE for train data= 4.6708074384816545\n",
      "RMSE for test data= 4.79350744279602\n"
     ]
    },
    {
     "name": "stderr",
     "output_type": "stream",
     "text": [
      "F:\\Anaconda3\\lib\\site-packages\\sklearn\\metrics\\regression.py:241: RuntimeWarning: overflow encountered in square\n",
      "  output_errors = np.average((y_true - y_pred) ** 2, axis=0,\n",
      "F:\\Anaconda3\\lib\\site-packages\\sklearn\\metrics\\regression.py:241: RuntimeWarning: overflow encountered in square\n",
      "  output_errors = np.average((y_true - y_pred) ** 2, axis=0,\n",
      "F:\\Anaconda3\\lib\\site-packages\\sklearn\\metrics\\regression.py:241: RuntimeWarning: overflow encountered in square\n",
      "  output_errors = np.average((y_true - y_pred) ** 2, axis=0,\n",
      "F:\\Anaconda3\\lib\\site-packages\\sklearn\\metrics\\regression.py:241: RuntimeWarning: overflow encountered in square\n",
      "  output_errors = np.average((y_true - y_pred) ** 2, axis=0,\n",
      "F:\\Anaconda3\\lib\\site-packages\\sklearn\\metrics\\regression.py:241: RuntimeWarning: overflow encountered in square\n",
      "  output_errors = np.average((y_true - y_pred) ** 2, axis=0,\n",
      "F:\\Anaconda3\\lib\\site-packages\\sklearn\\metrics\\regression.py:241: RuntimeWarning: overflow encountered in square\n",
      "  output_errors = np.average((y_true - y_pred) ** 2, axis=0,\n",
      "F:\\Anaconda3\\lib\\site-packages\\sklearn\\metrics\\regression.py:241: RuntimeWarning: overflow encountered in square\n",
      "  output_errors = np.average((y_true - y_pred) ** 2, axis=0,\n",
      "F:\\Anaconda3\\lib\\site-packages\\sklearn\\metrics\\regression.py:241: RuntimeWarning: overflow encountered in square\n",
      "  output_errors = np.average((y_true - y_pred) ** 2, axis=0,\n",
      "F:\\Anaconda3\\lib\\site-packages\\sklearn\\metrics\\regression.py:241: RuntimeWarning: overflow encountered in square\n",
      "  output_errors = np.average((y_true - y_pred) ** 2, axis=0,\n",
      "F:\\Anaconda3\\lib\\site-packages\\sklearn\\metrics\\regression.py:241: RuntimeWarning: overflow encountered in square\n",
      "  output_errors = np.average((y_true - y_pred) ** 2, axis=0,\n",
      "F:\\Anaconda3\\lib\\site-packages\\sklearn\\metrics\\regression.py:241: RuntimeWarning: overflow encountered in square\n",
      "  output_errors = np.average((y_true - y_pred) ** 2, axis=0,\n",
      "F:\\Anaconda3\\lib\\site-packages\\sklearn\\metrics\\regression.py:241: RuntimeWarning: overflow encountered in square\n",
      "  output_errors = np.average((y_true - y_pred) ** 2, axis=0,\n",
      "F:\\Anaconda3\\lib\\site-packages\\sklearn\\metrics\\regression.py:241: RuntimeWarning: overflow encountered in square\n",
      "  output_errors = np.average((y_true - y_pred) ** 2, axis=0,\n",
      "F:\\Anaconda3\\lib\\site-packages\\sklearn\\metrics\\regression.py:241: RuntimeWarning: overflow encountered in square\n",
      "  output_errors = np.average((y_true - y_pred) ** 2, axis=0,\n",
      "F:\\Anaconda3\\lib\\site-packages\\sklearn\\metrics\\regression.py:241: RuntimeWarning: overflow encountered in square\n",
      "  output_errors = np.average((y_true - y_pred) ** 2, axis=0,\n",
      "F:\\Anaconda3\\lib\\site-packages\\sklearn\\metrics\\regression.py:241: RuntimeWarning: overflow encountered in square\n",
      "  output_errors = np.average((y_true - y_pred) ** 2, axis=0,\n",
      "F:\\Anaconda3\\lib\\site-packages\\numpy\\core\\_methods.py:75: RuntimeWarning: overflow encountered in reduce\n",
      "  ret = umr_sum(arr, axis, dtype, out, keepdims)\n",
      "F:\\Anaconda3\\lib\\site-packages\\sklearn\\metrics\\regression.py:241: RuntimeWarning: overflow encountered in square\n",
      "  output_errors = np.average((y_true - y_pred) ** 2, axis=0,\n",
      "F:\\Anaconda3\\lib\\site-packages\\sklearn\\metrics\\regression.py:241: RuntimeWarning: overflow encountered in square\n",
      "  output_errors = np.average((y_true - y_pred) ** 2, axis=0,\n"
     ]
    },
    {
     "name": "stdout",
     "output_type": "stream",
     "text": [
      "alpha= 0.003 l1_ratio= 3\n",
      "RMSE for train data= inf\n",
      "RMSE for test data= inf\n",
      "alpha= 0.003 l1_ratio= 5\n",
      "RMSE for train data= 9.187066923162694\n",
      "RMSE for test data= 9.17506805688015\n"
     ]
    },
    {
     "name": "stderr",
     "output_type": "stream",
     "text": [
      "F:\\Anaconda3\\lib\\site-packages\\sklearn\\linear_model\\coordinate_descent.py:492: ConvergenceWarning: Objective did not converge. You might want to increase the number of iterations. Fitting data with very small alpha may cause precision problems.\n",
      "  ConvergenceWarning)\n",
      "F:\\Anaconda3\\lib\\site-packages\\sklearn\\linear_model\\coordinate_descent.py:492: ConvergenceWarning: Objective did not converge. You might want to increase the number of iterations. Fitting data with very small alpha may cause precision problems.\n",
      "  ConvergenceWarning)\n",
      "F:\\Anaconda3\\lib\\site-packages\\sklearn\\linear_model\\coordinate_descent.py:492: ConvergenceWarning: Objective did not converge. You might want to increase the number of iterations. Fitting data with very small alpha may cause precision problems.\n",
      "  ConvergenceWarning)\n",
      "F:\\Anaconda3\\lib\\site-packages\\sklearn\\linear_model\\coordinate_descent.py:492: ConvergenceWarning: Objective did not converge. You might want to increase the number of iterations. Fitting data with very small alpha may cause precision problems.\n",
      "  ConvergenceWarning)\n",
      "F:\\Anaconda3\\lib\\site-packages\\sklearn\\linear_model\\coordinate_descent.py:492: ConvergenceWarning: Objective did not converge. You might want to increase the number of iterations. Fitting data with very small alpha may cause precision problems.\n",
      "  ConvergenceWarning)\n",
      "F:\\Anaconda3\\lib\\site-packages\\sklearn\\linear_model\\coordinate_descent.py:492: ConvergenceWarning: Objective did not converge. You might want to increase the number of iterations. Fitting data with very small alpha may cause precision problems.\n",
      "  ConvergenceWarning)\n",
      "F:\\Anaconda3\\lib\\site-packages\\sklearn\\linear_model\\coordinate_descent.py:492: ConvergenceWarning: Objective did not converge. You might want to increase the number of iterations. Fitting data with very small alpha may cause precision problems.\n",
      "  ConvergenceWarning)\n",
      "F:\\Anaconda3\\lib\\site-packages\\sklearn\\linear_model\\coordinate_descent.py:492: ConvergenceWarning: Objective did not converge. You might want to increase the number of iterations. Fitting data with very small alpha may cause precision problems.\n",
      "  ConvergenceWarning)\n",
      "F:\\Anaconda3\\lib\\site-packages\\sklearn\\linear_model\\coordinate_descent.py:492: ConvergenceWarning: Objective did not converge. You might want to increase the number of iterations. Fitting data with very small alpha may cause precision problems.\n",
      "  ConvergenceWarning)\n",
      "F:\\Anaconda3\\lib\\site-packages\\sklearn\\linear_model\\coordinate_descent.py:492: ConvergenceWarning: Objective did not converge. You might want to increase the number of iterations. Fitting data with very small alpha may cause precision problems.\n",
      "  ConvergenceWarning)\n"
     ]
    },
    {
     "name": "stdout",
     "output_type": "stream",
     "text": [
      "alpha= 0.003 l1_ratio= 10\n",
      "RMSE for train data= 4.795472032329537\n",
      "RMSE for test data= 4.93981660144729\n",
      "alpha= 0.003 l1_ratio= 30\n",
      "RMSE for train data= 4.99048430640713\n",
      "RMSE for test data= 5.056854721638916\n"
     ]
    },
    {
     "name": "stderr",
     "output_type": "stream",
     "text": [
      "F:\\Anaconda3\\lib\\site-packages\\sklearn\\linear_model\\coordinate_descent.py:492: ConvergenceWarning: Objective did not converge. You might want to increase the number of iterations. Fitting data with very small alpha may cause precision problems.\n",
      "  ConvergenceWarning)\n",
      "F:\\Anaconda3\\lib\\site-packages\\sklearn\\linear_model\\coordinate_descent.py:492: ConvergenceWarning: Objective did not converge. You might want to increase the number of iterations. Fitting data with very small alpha may cause precision problems.\n",
      "  ConvergenceWarning)\n",
      "F:\\Anaconda3\\lib\\site-packages\\sklearn\\linear_model\\coordinate_descent.py:492: ConvergenceWarning: Objective did not converge. You might want to increase the number of iterations. Fitting data with very small alpha may cause precision problems.\n",
      "  ConvergenceWarning)\n",
      "F:\\Anaconda3\\lib\\site-packages\\sklearn\\linear_model\\coordinate_descent.py:492: ConvergenceWarning: Objective did not converge. You might want to increase the number of iterations. Fitting data with very small alpha may cause precision problems.\n",
      "  ConvergenceWarning)\n",
      "F:\\Anaconda3\\lib\\site-packages\\sklearn\\linear_model\\coordinate_descent.py:492: ConvergenceWarning: Objective did not converge. You might want to increase the number of iterations. Fitting data with very small alpha may cause precision problems.\n",
      "  ConvergenceWarning)\n",
      "F:\\Anaconda3\\lib\\site-packages\\sklearn\\linear_model\\coordinate_descent.py:492: ConvergenceWarning: Objective did not converge. You might want to increase the number of iterations. Fitting data with very small alpha may cause precision problems.\n",
      "  ConvergenceWarning)\n",
      "F:\\Anaconda3\\lib\\site-packages\\sklearn\\linear_model\\coordinate_descent.py:492: ConvergenceWarning: Objective did not converge. You might want to increase the number of iterations. Fitting data with very small alpha may cause precision problems.\n",
      "  ConvergenceWarning)\n",
      "F:\\Anaconda3\\lib\\site-packages\\sklearn\\linear_model\\coordinate_descent.py:492: ConvergenceWarning: Objective did not converge. You might want to increase the number of iterations. Fitting data with very small alpha may cause precision problems.\n",
      "  ConvergenceWarning)\n",
      "F:\\Anaconda3\\lib\\site-packages\\sklearn\\linear_model\\coordinate_descent.py:492: ConvergenceWarning: Objective did not converge. You might want to increase the number of iterations. Fitting data with very small alpha may cause precision problems.\n",
      "  ConvergenceWarning)\n",
      "F:\\Anaconda3\\lib\\site-packages\\sklearn\\linear_model\\coordinate_descent.py:492: ConvergenceWarning: Objective did not converge. You might want to increase the number of iterations. Fitting data with very small alpha may cause precision problems.\n",
      "  ConvergenceWarning)\n",
      "F:\\Anaconda3\\lib\\site-packages\\sklearn\\linear_model\\coordinate_descent.py:492: ConvergenceWarning: Objective did not converge. You might want to increase the number of iterations. Fitting data with very small alpha may cause precision problems.\n",
      "  ConvergenceWarning)\n",
      "F:\\Anaconda3\\lib\\site-packages\\sklearn\\linear_model\\coordinate_descent.py:492: ConvergenceWarning: Objective did not converge. You might want to increase the number of iterations. Fitting data with very small alpha may cause precision problems.\n",
      "  ConvergenceWarning)\n",
      "F:\\Anaconda3\\lib\\site-packages\\sklearn\\linear_model\\coordinate_descent.py:492: ConvergenceWarning: Objective did not converge. You might want to increase the number of iterations. Fitting data with very small alpha may cause precision problems.\n",
      "  ConvergenceWarning)\n"
     ]
    },
    {
     "name": "stdout",
     "output_type": "stream",
     "text": [
      "alpha= 0.003 l1_ratio= 50\n",
      "RMSE for train data= 5.279343261143631\n",
      "RMSE for test data= 5.415240347295011\n",
      "alpha= 0.003 l1_ratio= 100\n",
      "RMSE for train data= 1.6388839872833423e+95\n",
      "RMSE for test data= 2.1890601439933546e+95\n",
      "alpha= 0.01 l1_ratio= 0.001\n",
      "RMSE for train data= 4.7317147143574445\n",
      "RMSE for test data= 4.854727512778823\n",
      "alpha= 0.01 l1_ratio= 0.003\n",
      "RMSE for train data= 4.7316695066445575\n",
      "RMSE for test data= 4.854685320265899\n",
      "alpha= 0.01 l1_ratio= 0.01\n",
      "RMSE for train data= 4.7315103977271376\n",
      "RMSE for test data= 4.854536737353749\n",
      "alpha= 0.01 l1_ratio= 0.03\n",
      "RMSE for train data= 4.731048091527491\n",
      "RMSE for test data= 4.854104300339453\n",
      "alpha= 0.01 l1_ratio= 0.1\n",
      "RMSE for train data= 4.729333708095867\n",
      "RMSE for test data= 4.852491860783844\n",
      "alpha= 0.01 l1_ratio= 0.3\n",
      "RMSE for train data= 4.723407298417471\n",
      "RMSE for test data= 4.846825020376583\n",
      "alpha= 0.01 l1_ratio= 0.5\n",
      "RMSE for train data= 4.715249190965398\n",
      "RMSE for test data= 4.83882944295528\n",
      "alpha= 0.01 l1_ratio= 1\n",
      "RMSE for train data= 4.674366116730135\n",
      "RMSE for test data= 4.797535166240189\n"
     ]
    },
    {
     "name": "stderr",
     "output_type": "stream",
     "text": [
      "F:\\Anaconda3\\lib\\site-packages\\sklearn\\linear_model\\coordinate_descent.py:492: ConvergenceWarning: Objective did not converge. You might want to increase the number of iterations. Fitting data with very small alpha may cause precision problems.\n",
      "  ConvergenceWarning)\n",
      "F:\\Anaconda3\\lib\\site-packages\\sklearn\\linear_model\\coordinate_descent.py:492: ConvergenceWarning: Objective did not converge. You might want to increase the number of iterations. Fitting data with very small alpha may cause precision problems.\n",
      "  ConvergenceWarning)\n",
      "F:\\Anaconda3\\lib\\site-packages\\sklearn\\linear_model\\coordinate_descent.py:492: ConvergenceWarning: Objective did not converge. You might want to increase the number of iterations. Fitting data with very small alpha may cause precision problems.\n",
      "  ConvergenceWarning)\n",
      "F:\\Anaconda3\\lib\\site-packages\\sklearn\\linear_model\\coordinate_descent.py:492: ConvergenceWarning: Objective did not converge. You might want to increase the number of iterations. Fitting data with very small alpha may cause precision problems.\n",
      "  ConvergenceWarning)\n",
      "F:\\Anaconda3\\lib\\site-packages\\sklearn\\linear_model\\coordinate_descent.py:492: ConvergenceWarning: Objective did not converge. You might want to increase the number of iterations. Fitting data with very small alpha may cause precision problems.\n",
      "  ConvergenceWarning)\n",
      "F:\\Anaconda3\\lib\\site-packages\\sklearn\\linear_model\\coordinate_descent.py:492: ConvergenceWarning: Objective did not converge. You might want to increase the number of iterations. Fitting data with very small alpha may cause precision problems.\n",
      "  ConvergenceWarning)\n",
      "F:\\Anaconda3\\lib\\site-packages\\sklearn\\linear_model\\coordinate_descent.py:492: ConvergenceWarning: Objective did not converge. You might want to increase the number of iterations. Fitting data with very small alpha may cause precision problems.\n",
      "  ConvergenceWarning)\n",
      "F:\\Anaconda3\\lib\\site-packages\\sklearn\\linear_model\\coordinate_descent.py:492: ConvergenceWarning: Objective did not converge. You might want to increase the number of iterations. Fitting data with very small alpha may cause precision problems.\n",
      "  ConvergenceWarning)\n",
      "F:\\Anaconda3\\lib\\site-packages\\sklearn\\linear_model\\coordinate_descent.py:492: ConvergenceWarning: Objective did not converge. You might want to increase the number of iterations. Fitting data with very small alpha may cause precision problems.\n",
      "  ConvergenceWarning)\n",
      "F:\\Anaconda3\\lib\\site-packages\\sklearn\\linear_model\\coordinate_descent.py:492: ConvergenceWarning: Objective did not converge. You might want to increase the number of iterations. Fitting data with very small alpha may cause precision problems.\n",
      "  ConvergenceWarning)\n",
      "F:\\Anaconda3\\lib\\site-packages\\sklearn\\linear_model\\coordinate_descent.py:492: ConvergenceWarning: Objective did not converge. You might want to increase the number of iterations. Fitting data with very small alpha may cause precision problems.\n",
      "  ConvergenceWarning)\n",
      "F:\\Anaconda3\\lib\\site-packages\\sklearn\\linear_model\\coordinate_descent.py:492: ConvergenceWarning: Objective did not converge. You might want to increase the number of iterations. Fitting data with very small alpha may cause precision problems.\n",
      "  ConvergenceWarning)\n",
      "F:\\Anaconda3\\lib\\site-packages\\sklearn\\linear_model\\coordinate_descent.py:492: ConvergenceWarning: Objective did not converge. You might want to increase the number of iterations. Fitting data with very small alpha may cause precision problems.\n",
      "  ConvergenceWarning)\n",
      "F:\\Anaconda3\\lib\\site-packages\\sklearn\\linear_model\\coordinate_descent.py:492: ConvergenceWarning: Objective did not converge. You might want to increase the number of iterations. Fitting data with very small alpha may cause precision problems.\n",
      "  ConvergenceWarning)\n",
      "F:\\Anaconda3\\lib\\site-packages\\sklearn\\linear_model\\coordinate_descent.py:492: ConvergenceWarning: Objective did not converge. You might want to increase the number of iterations. Fitting data with very small alpha may cause precision problems.\n",
      "  ConvergenceWarning)\n",
      "F:\\Anaconda3\\lib\\site-packages\\sklearn\\linear_model\\coordinate_descent.py:492: ConvergenceWarning: Objective did not converge. You might want to increase the number of iterations. Fitting data with very small alpha may cause precision problems.\n",
      "  ConvergenceWarning)\n",
      "F:\\Anaconda3\\lib\\site-packages\\sklearn\\linear_model\\coordinate_descent.py:492: ConvergenceWarning: Objective did not converge. You might want to increase the number of iterations. Fitting data with very small alpha may cause precision problems.\n",
      "  ConvergenceWarning)\n",
      "F:\\Anaconda3\\lib\\site-packages\\sklearn\\linear_model\\coordinate_descent.py:492: ConvergenceWarning: Objective did not converge. You might want to increase the number of iterations. Fitting data with very small alpha may cause precision problems.\n",
      "  ConvergenceWarning)\n",
      "F:\\Anaconda3\\lib\\site-packages\\sklearn\\linear_model\\coordinate_descent.py:492: ConvergenceWarning: Objective did not converge. You might want to increase the number of iterations. Fitting data with very small alpha may cause precision problems.\n",
      "  ConvergenceWarning)\n"
     ]
    },
    {
     "name": "stdout",
     "output_type": "stream",
     "text": [
      "alpha= 0.01 l1_ratio= 3\n",
      "RMSE for train data= 4.825393161773608\n",
      "RMSE for test data= 4.961271178713188\n",
      "alpha= 0.01 l1_ratio= 5\n",
      "RMSE for train data= 4.825644829154877\n",
      "RMSE for test data= 4.992386641807546\n",
      "alpha= 0.01 l1_ratio= 10\n",
      "RMSE for train data= 4.963105218800016\n",
      "RMSE for test data= 5.036095422567999\n"
     ]
    },
    {
     "name": "stderr",
     "output_type": "stream",
     "text": [
      "F:\\Anaconda3\\lib\\site-packages\\sklearn\\linear_model\\coordinate_descent.py:492: ConvergenceWarning: Objective did not converge. You might want to increase the number of iterations. Fitting data with very small alpha may cause precision problems.\n",
      "  ConvergenceWarning)\n",
      "F:\\Anaconda3\\lib\\site-packages\\sklearn\\linear_model\\coordinate_descent.py:492: ConvergenceWarning: Objective did not converge. You might want to increase the number of iterations. Fitting data with very small alpha may cause precision problems.\n",
      "  ConvergenceWarning)\n",
      "F:\\Anaconda3\\lib\\site-packages\\sklearn\\linear_model\\coordinate_descent.py:492: ConvergenceWarning: Objective did not converge. You might want to increase the number of iterations. Fitting data with very small alpha may cause precision problems.\n",
      "  ConvergenceWarning)\n",
      "F:\\Anaconda3\\lib\\site-packages\\sklearn\\linear_model\\coordinate_descent.py:492: ConvergenceWarning: Objective did not converge. You might want to increase the number of iterations. Fitting data with very small alpha may cause precision problems.\n",
      "  ConvergenceWarning)\n",
      "F:\\Anaconda3\\lib\\site-packages\\sklearn\\linear_model\\coordinate_descent.py:492: ConvergenceWarning: Objective did not converge. You might want to increase the number of iterations. Fitting data with very small alpha may cause precision problems.\n",
      "  ConvergenceWarning)\n",
      "F:\\Anaconda3\\lib\\site-packages\\sklearn\\linear_model\\coordinate_descent.py:492: ConvergenceWarning: Objective did not converge. You might want to increase the number of iterations. Fitting data with very small alpha may cause precision problems.\n",
      "  ConvergenceWarning)\n"
     ]
    },
    {
     "name": "stdout",
     "output_type": "stream",
     "text": [
      "alpha= 0.01 l1_ratio= 30\n",
      "RMSE for train data= 3.989723962703964e+83\n",
      "RMSE for test data= 5.35947816470041e+83\n",
      "alpha= 0.01 l1_ratio= 50\n",
      "RMSE for train data= 9.187066923162694\n",
      "RMSE for test data= 9.17506805688015\n",
      "alpha= 0.01 l1_ratio= 100\n",
      "RMSE for train data= 5.567643265164773\n",
      "RMSE for test data= 5.788223923484189\n"
     ]
    },
    {
     "name": "stderr",
     "output_type": "stream",
     "text": [
      "F:\\Anaconda3\\lib\\site-packages\\sklearn\\linear_model\\coordinate_descent.py:492: ConvergenceWarning: Objective did not converge. You might want to increase the number of iterations. Fitting data with very small alpha may cause precision problems.\n",
      "  ConvergenceWarning)\n",
      "F:\\Anaconda3\\lib\\site-packages\\sklearn\\linear_model\\coordinate_descent.py:492: ConvergenceWarning: Objective did not converge. You might want to increase the number of iterations. Fitting data with very small alpha may cause precision problems.\n",
      "  ConvergenceWarning)\n",
      "F:\\Anaconda3\\lib\\site-packages\\sklearn\\linear_model\\coordinate_descent.py:492: ConvergenceWarning: Objective did not converge. You might want to increase the number of iterations. Fitting data with very small alpha may cause precision problems.\n",
      "  ConvergenceWarning)\n"
     ]
    },
    {
     "name": "stdout",
     "output_type": "stream",
     "text": [
      "alpha= 0.03 l1_ratio= 0.001\n",
      "RMSE for train data= 4.763161858943819\n",
      "RMSE for test data= 4.883833711182609\n",
      "alpha= 0.03 l1_ratio= 0.003\n",
      "RMSE for train data= 4.763132906882441\n",
      "RMSE for test data= 4.883813939820294\n",
      "alpha= 0.03 l1_ratio= 0.01\n",
      "RMSE for train data= 4.763031312539856\n",
      "RMSE for test data= 4.883744569112355\n",
      "alpha= 0.03 l1_ratio= 0.03\n",
      "RMSE for train data= 4.762738728514948\n",
      "RMSE for test data= 4.883544798026119\n",
      "alpha= 0.03 l1_ratio= 0.1\n",
      "RMSE for train data= 4.761684701808653\n",
      "RMSE for test data= 4.882824406748055\n",
      "alpha= 0.03 l1_ratio= 0.3\n",
      "RMSE for train data= 4.758311792113612\n",
      "RMSE for test data= 4.880487064037068\n",
      "alpha= 0.03 l1_ratio= 0.5\n",
      "RMSE for train data= 4.753946461398107\n",
      "RMSE for test data= 4.877297944080757\n",
      "alpha= 0.03 l1_ratio= 1\n",
      "RMSE for train data= 4.7052545517453055\n",
      "RMSE for test data= 4.831689718241363\n",
      "alpha= 0.03 l1_ratio= 3\n",
      "RMSE for train data= 6.081173888524596e+69\n",
      "RMSE for test data= 6.645340070016082e+69\n"
     ]
    },
    {
     "name": "stderr",
     "output_type": "stream",
     "text": [
      "F:\\Anaconda3\\lib\\site-packages\\sklearn\\linear_model\\coordinate_descent.py:492: ConvergenceWarning: Objective did not converge. You might want to increase the number of iterations. Fitting data with very small alpha may cause precision problems.\n",
      "  ConvergenceWarning)\n",
      "F:\\Anaconda3\\lib\\site-packages\\sklearn\\linear_model\\coordinate_descent.py:492: ConvergenceWarning: Objective did not converge. You might want to increase the number of iterations. Fitting data with very small alpha may cause precision problems.\n",
      "  ConvergenceWarning)\n",
      "F:\\Anaconda3\\lib\\site-packages\\sklearn\\linear_model\\coordinate_descent.py:492: ConvergenceWarning: Objective did not converge. You might want to increase the number of iterations. Fitting data with very small alpha may cause precision problems.\n",
      "  ConvergenceWarning)\n",
      "F:\\Anaconda3\\lib\\site-packages\\sklearn\\linear_model\\coordinate_descent.py:492: ConvergenceWarning: Objective did not converge. You might want to increase the number of iterations. Fitting data with very small alpha may cause precision problems.\n",
      "  ConvergenceWarning)\n",
      "F:\\Anaconda3\\lib\\site-packages\\sklearn\\linear_model\\coordinate_descent.py:492: ConvergenceWarning: Objective did not converge. You might want to increase the number of iterations. Fitting data with very small alpha may cause precision problems.\n",
      "  ConvergenceWarning)\n",
      "F:\\Anaconda3\\lib\\site-packages\\sklearn\\linear_model\\coordinate_descent.py:492: ConvergenceWarning: Objective did not converge. You might want to increase the number of iterations. Fitting data with very small alpha may cause precision problems.\n",
      "  ConvergenceWarning)\n",
      "F:\\Anaconda3\\lib\\site-packages\\sklearn\\linear_model\\coordinate_descent.py:492: ConvergenceWarning: Objective did not converge. You might want to increase the number of iterations. Fitting data with very small alpha may cause precision problems.\n",
      "  ConvergenceWarning)\n",
      "F:\\Anaconda3\\lib\\site-packages\\sklearn\\linear_model\\coordinate_descent.py:492: ConvergenceWarning: Objective did not converge. You might want to increase the number of iterations. Fitting data with very small alpha may cause precision problems.\n",
      "  ConvergenceWarning)\n"
     ]
    },
    {
     "name": "stdout",
     "output_type": "stream",
     "text": [
      "alpha= 0.03 l1_ratio= 5\n",
      "RMSE for train data= 4.99703976414594\n",
      "RMSE for test data= 5.110584832634331\n",
      "alpha= 0.03 l1_ratio= 10\n",
      "RMSE for train data= 1.3176470568603929e+53\n",
      "RMSE for test data= 1.8016250831748887e+53\n"
     ]
    },
    {
     "name": "stderr",
     "output_type": "stream",
     "text": [
      "F:\\Anaconda3\\lib\\site-packages\\sklearn\\linear_model\\coordinate_descent.py:492: ConvergenceWarning: Objective did not converge. You might want to increase the number of iterations. Fitting data with very small alpha may cause precision problems.\n",
      "  ConvergenceWarning)\n",
      "F:\\Anaconda3\\lib\\site-packages\\sklearn\\linear_model\\coordinate_descent.py:492: ConvergenceWarning: Objective did not converge. You might want to increase the number of iterations. Fitting data with very small alpha may cause precision problems.\n",
      "  ConvergenceWarning)\n",
      "F:\\Anaconda3\\lib\\site-packages\\sklearn\\linear_model\\coordinate_descent.py:492: ConvergenceWarning: Objective did not converge. You might want to increase the number of iterations. Fitting data with very small alpha may cause precision problems.\n",
      "  ConvergenceWarning)\n",
      "F:\\Anaconda3\\lib\\site-packages\\sklearn\\linear_model\\coordinate_descent.py:492: ConvergenceWarning: Objective did not converge. You might want to increase the number of iterations. Fitting data with very small alpha may cause precision problems.\n",
      "  ConvergenceWarning)\n",
      "F:\\Anaconda3\\lib\\site-packages\\sklearn\\linear_model\\coordinate_descent.py:492: ConvergenceWarning: Objective did not converge. You might want to increase the number of iterations. Fitting data with very small alpha may cause precision problems.\n",
      "  ConvergenceWarning)\n"
     ]
    },
    {
     "name": "stdout",
     "output_type": "stream",
     "text": [
      "alpha= 0.03 l1_ratio= 30\n",
      "RMSE for train data= 5.362268990251509\n",
      "RMSE for test data= 5.513699368439429\n",
      "alpha= 0.03 l1_ratio= 50\n",
      "RMSE for train data= 4.455220784258461e+61\n",
      "RMSE for test data= 5.478250983720843e+61\n",
      "alpha= 0.03 l1_ratio= 100\n",
      "RMSE for train data= 6.561337367657595\n",
      "RMSE for test data= 6.771333113978452\n",
      "alpha= 0.1 l1_ratio= 0.001\n",
      "RMSE for train data= 4.814542774884451\n",
      "RMSE for test data= 4.930554616290689\n",
      "alpha= 0.1 l1_ratio= 0.003\n",
      "RMSE for train data= 4.8144881453371955\n",
      "RMSE for test data= 4.930511735314691\n",
      "alpha= 0.1 l1_ratio= 0.01\n",
      "RMSE for train data= 4.814297228350121\n",
      "RMSE for test data= 4.930362178726474\n",
      "alpha= 0.1 l1_ratio= 0.03\n",
      "RMSE for train data= 4.813754286632456\n",
      "RMSE for test data= 4.929939229001791\n",
      "alpha= 0.1 l1_ratio= 0.1\n",
      "RMSE for train data= 4.811888392287888\n",
      "RMSE for test data= 4.928518094441328\n",
      "alpha= 0.1 l1_ratio= 0.3\n",
      "RMSE for train data= 4.807028273821219\n",
      "RMSE for test data= 4.925183314965093\n",
      "alpha= 0.1 l1_ratio= 0.5\n",
      "RMSE for train data= 4.803563205380606\n",
      "RMSE for test data= 4.923731828768249\n",
      "alpha= 0.1 l1_ratio= 1\n",
      "RMSE for train data= 4.7917697372284405\n",
      "RMSE for test data= 4.9211974916646355\n",
      "alpha= 0.1 l1_ratio= 3\n",
      "RMSE for train data= 6.994577275481727\n",
      "RMSE for test data= 7.2988226772350835\n"
     ]
    },
    {
     "name": "stderr",
     "output_type": "stream",
     "text": [
      "F:\\Anaconda3\\lib\\site-packages\\sklearn\\metrics\\regression.py:241: RuntimeWarning: overflow encountered in square\n",
      "  output_errors = np.average((y_true - y_pred) ** 2, axis=0,\n",
      "F:\\Anaconda3\\lib\\site-packages\\sklearn\\metrics\\regression.py:241: RuntimeWarning: overflow encountered in square\n",
      "  output_errors = np.average((y_true - y_pred) ** 2, axis=0,\n",
      "F:\\Anaconda3\\lib\\site-packages\\sklearn\\metrics\\regression.py:241: RuntimeWarning: overflow encountered in square\n",
      "  output_errors = np.average((y_true - y_pred) ** 2, axis=0,\n",
      "F:\\Anaconda3\\lib\\site-packages\\sklearn\\metrics\\regression.py:241: RuntimeWarning: overflow encountered in square\n",
      "  output_errors = np.average((y_true - y_pred) ** 2, axis=0,\n",
      "F:\\Anaconda3\\lib\\site-packages\\sklearn\\metrics\\regression.py:241: RuntimeWarning: overflow encountered in square\n",
      "  output_errors = np.average((y_true - y_pred) ** 2, axis=0,\n",
      "F:\\Anaconda3\\lib\\site-packages\\sklearn\\metrics\\regression.py:241: RuntimeWarning: overflow encountered in square\n",
      "  output_errors = np.average((y_true - y_pred) ** 2, axis=0,\n",
      "F:\\Anaconda3\\lib\\site-packages\\sklearn\\metrics\\regression.py:241: RuntimeWarning: overflow encountered in square\n",
      "  output_errors = np.average((y_true - y_pred) ** 2, axis=0,\n",
      "F:\\Anaconda3\\lib\\site-packages\\sklearn\\metrics\\regression.py:241: RuntimeWarning: overflow encountered in square\n",
      "  output_errors = np.average((y_true - y_pred) ** 2, axis=0,\n",
      "F:\\Anaconda3\\lib\\site-packages\\sklearn\\metrics\\regression.py:241: RuntimeWarning: overflow encountered in square\n",
      "  output_errors = np.average((y_true - y_pred) ** 2, axis=0,\n",
      "F:\\Anaconda3\\lib\\site-packages\\sklearn\\metrics\\regression.py:241: RuntimeWarning: overflow encountered in square\n",
      "  output_errors = np.average((y_true - y_pred) ** 2, axis=0,\n",
      "F:\\Anaconda3\\lib\\site-packages\\sklearn\\metrics\\regression.py:241: RuntimeWarning: overflow encountered in square\n",
      "  output_errors = np.average((y_true - y_pred) ** 2, axis=0,\n",
      "F:\\Anaconda3\\lib\\site-packages\\sklearn\\metrics\\regression.py:241: RuntimeWarning: overflow encountered in square\n",
      "  output_errors = np.average((y_true - y_pred) ** 2, axis=0,\n",
      "F:\\Anaconda3\\lib\\site-packages\\sklearn\\metrics\\regression.py:241: RuntimeWarning: overflow encountered in square\n",
      "  output_errors = np.average((y_true - y_pred) ** 2, axis=0,\n",
      "F:\\Anaconda3\\lib\\site-packages\\sklearn\\metrics\\regression.py:241: RuntimeWarning: overflow encountered in square\n",
      "  output_errors = np.average((y_true - y_pred) ** 2, axis=0,\n",
      "F:\\Anaconda3\\lib\\site-packages\\sklearn\\metrics\\regression.py:241: RuntimeWarning: overflow encountered in square\n",
      "  output_errors = np.average((y_true - y_pred) ** 2, axis=0,\n",
      "F:\\Anaconda3\\lib\\site-packages\\sklearn\\metrics\\regression.py:241: RuntimeWarning: overflow encountered in square\n",
      "  output_errors = np.average((y_true - y_pred) ** 2, axis=0,\n",
      "F:\\Anaconda3\\lib\\site-packages\\sklearn\\linear_model\\coordinate_descent.py:492: ConvergenceWarning: Objective did not converge. You might want to increase the number of iterations. Fitting data with very small alpha may cause precision problems.\n",
      "  ConvergenceWarning)\n",
      "F:\\Anaconda3\\lib\\site-packages\\sklearn\\linear_model\\coordinate_descent.py:492: ConvergenceWarning: Objective did not converge. You might want to increase the number of iterations. Fitting data with very small alpha may cause precision problems.\n",
      "  ConvergenceWarning)\n",
      "F:\\Anaconda3\\lib\\site-packages\\sklearn\\linear_model\\coordinate_descent.py:492: ConvergenceWarning: Objective did not converge. You might want to increase the number of iterations. Fitting data with very small alpha may cause precision problems.\n",
      "  ConvergenceWarning)\n",
      "F:\\Anaconda3\\lib\\site-packages\\sklearn\\linear_model\\coordinate_descent.py:492: ConvergenceWarning: Objective did not converge. You might want to increase the number of iterations. Fitting data with very small alpha may cause precision problems.\n",
      "  ConvergenceWarning)\n"
     ]
    },
    {
     "name": "stdout",
     "output_type": "stream",
     "text": [
      "alpha= 0.1 l1_ratio= 5\n",
      "RMSE for train data= inf\n",
      "RMSE for test data= inf\n",
      "alpha= 0.1 l1_ratio= 10\n",
      "RMSE for train data= 5.322581026423947\n",
      "RMSE for test data= 5.471959390413309\n"
     ]
    },
    {
     "name": "stderr",
     "output_type": "stream",
     "text": [
      "F:\\Anaconda3\\lib\\site-packages\\sklearn\\linear_model\\coordinate_descent.py:492: ConvergenceWarning: Objective did not converge. You might want to increase the number of iterations. Fitting data with very small alpha may cause precision problems.\n",
      "  ConvergenceWarning)\n",
      "F:\\Anaconda3\\lib\\site-packages\\sklearn\\linear_model\\coordinate_descent.py:492: ConvergenceWarning: Objective did not converge. You might want to increase the number of iterations. Fitting data with very small alpha may cause precision problems.\n",
      "  ConvergenceWarning)\n",
      "F:\\Anaconda3\\lib\\site-packages\\sklearn\\linear_model\\coordinate_descent.py:492: ConvergenceWarning: Objective did not converge. You might want to increase the number of iterations. Fitting data with very small alpha may cause precision problems.\n",
      "  ConvergenceWarning)\n",
      "F:\\Anaconda3\\lib\\site-packages\\sklearn\\linear_model\\coordinate_descent.py:492: ConvergenceWarning: Objective did not converge. You might want to increase the number of iterations. Fitting data with very small alpha may cause precision problems.\n",
      "  ConvergenceWarning)\n",
      "F:\\Anaconda3\\lib\\site-packages\\sklearn\\linear_model\\coordinate_descent.py:492: ConvergenceWarning: Objective did not converge. You might want to increase the number of iterations. Fitting data with very small alpha may cause precision problems.\n",
      "  ConvergenceWarning)\n"
     ]
    },
    {
     "name": "stdout",
     "output_type": "stream",
     "text": [
      "alpha= 0.1 l1_ratio= 30\n",
      "RMSE for train data= 5.868163567323117\n",
      "RMSE for test data= 6.01301016115168\n",
      "alpha= 0.1 l1_ratio= 50\n",
      "RMSE for train data= 5.99120256992379\n",
      "RMSE for test data= 6.054576232575646\n",
      "alpha= 0.1 l1_ratio= 100\n",
      "RMSE for train data= 6.047900086037336\n",
      "RMSE for test data= 6.120564023269544\n",
      "alpha= 0.3 l1_ratio= 0.001\n",
      "RMSE for train data= 4.922877674727479\n",
      "RMSE for test data= 5.035233492142564\n",
      "alpha= 0.3 l1_ratio= 0.003\n",
      "RMSE for train data= 4.922802151830431\n",
      "RMSE for test data= 5.035170807476259\n",
      "alpha= 0.3 l1_ratio= 0.01\n",
      "RMSE for train data= 4.9225376044733\n",
      "RMSE for test data= 5.034951434314089\n",
      "alpha= 0.3 l1_ratio= 0.03\n",
      "RMSE for train data= 4.9217802110956805\n",
      "RMSE for test data= 5.034325164677921\n",
      "alpha= 0.3 l1_ratio= 0.1\n",
      "RMSE for train data= 4.9191175654665145\n",
      "RMSE for test data= 5.032151287124808\n",
      "alpha= 0.3 l1_ratio= 0.3\n",
      "RMSE for train data= 4.909753998061021\n",
      "RMSE for test data= 5.0240045433297285\n",
      "alpha= 0.3 l1_ratio= 0.5\n",
      "RMSE for train data= 4.899053730435519\n",
      "RMSE for test data= 5.014398132592621\n",
      "alpha= 0.3 l1_ratio= 1\n",
      "RMSE for train data= 4.8476255866782845\n",
      "RMSE for test data= 4.9641311217714215\n"
     ]
    },
    {
     "name": "stderr",
     "output_type": "stream",
     "text": [
      "F:\\Anaconda3\\lib\\site-packages\\sklearn\\linear_model\\coordinate_descent.py:492: ConvergenceWarning: Objective did not converge. You might want to increase the number of iterations. Fitting data with very small alpha may cause precision problems.\n",
      "  ConvergenceWarning)\n",
      "F:\\Anaconda3\\lib\\site-packages\\sklearn\\linear_model\\coordinate_descent.py:492: ConvergenceWarning: Objective did not converge. You might want to increase the number of iterations. Fitting data with very small alpha may cause precision problems.\n",
      "  ConvergenceWarning)\n",
      "F:\\Anaconda3\\lib\\site-packages\\sklearn\\linear_model\\coordinate_descent.py:492: ConvergenceWarning: Objective did not converge. You might want to increase the number of iterations. Fitting data with very small alpha may cause precision problems.\n",
      "  ConvergenceWarning)\n",
      "F:\\Anaconda3\\lib\\site-packages\\sklearn\\linear_model\\coordinate_descent.py:492: ConvergenceWarning: Objective did not converge. You might want to increase the number of iterations. Fitting data with very small alpha may cause precision problems.\n",
      "  ConvergenceWarning)\n",
      "F:\\Anaconda3\\lib\\site-packages\\sklearn\\linear_model\\coordinate_descent.py:492: ConvergenceWarning: Objective did not converge. You might want to increase the number of iterations. Fitting data with very small alpha may cause precision problems.\n",
      "  ConvergenceWarning)\n",
      "F:\\Anaconda3\\lib\\site-packages\\sklearn\\linear_model\\coordinate_descent.py:492: ConvergenceWarning: Objective did not converge. You might want to increase the number of iterations. Fitting data with very small alpha may cause precision problems.\n",
      "  ConvergenceWarning)\n",
      "F:\\Anaconda3\\lib\\site-packages\\sklearn\\linear_model\\coordinate_descent.py:492: ConvergenceWarning: Objective did not converge. You might want to increase the number of iterations. Fitting data with very small alpha may cause precision problems.\n",
      "  ConvergenceWarning)\n",
      "F:\\Anaconda3\\lib\\site-packages\\sklearn\\linear_model\\coordinate_descent.py:492: ConvergenceWarning: Objective did not converge. You might want to increase the number of iterations. Fitting data with very small alpha may cause precision problems.\n",
      "  ConvergenceWarning)\n",
      "F:\\Anaconda3\\lib\\site-packages\\sklearn\\linear_model\\coordinate_descent.py:492: ConvergenceWarning: Objective did not converge. You might want to increase the number of iterations. Fitting data with very small alpha may cause precision problems.\n",
      "  ConvergenceWarning)\n",
      "F:\\Anaconda3\\lib\\site-packages\\sklearn\\linear_model\\coordinate_descent.py:492: ConvergenceWarning: Objective did not converge. You might want to increase the number of iterations. Fitting data with very small alpha may cause precision problems.\n",
      "  ConvergenceWarning)\n"
     ]
    },
    {
     "name": "stdout",
     "output_type": "stream",
     "text": [
      "alpha= 0.3 l1_ratio= 3\n",
      "RMSE for train data= 5.47820733028509\n",
      "RMSE for test data= 5.614400424669406\n",
      "alpha= 0.3 l1_ratio= 5\n",
      "RMSE for train data= 766598097795.2949\n",
      "RMSE for test data= 946829019275.924\n",
      "alpha= 0.3 l1_ratio= 10\n",
      "RMSE for train data= 5.595727493465377\n",
      "RMSE for test data= 5.69808471077204\n",
      "alpha= 0.3 l1_ratio= 30\n",
      "RMSE for train data= 6.0354787300412225\n",
      "RMSE for test data= 6.105720753407654\n",
      "alpha= 0.3 l1_ratio= 50\n",
      "RMSE for train data= 6.152971570250934\n",
      "RMSE for test data= 6.206430530630433\n",
      "alpha= 0.3 l1_ratio= 100\n",
      "RMSE for train data= 7.527991341405092\n",
      "RMSE for test data= 7.631055961068098\n",
      "alpha= 0.5 l1_ratio= 0.001\n",
      "RMSE for train data= 4.997615496827358\n",
      "RMSE for test data= 5.108055717695886\n",
      "alpha= 0.5 l1_ratio= 0.003\n",
      "RMSE for train data= 4.997584903955316\n",
      "RMSE for test data= 5.108041732696962\n",
      "alpha= 0.5 l1_ratio= 0.01\n",
      "RMSE for train data= 4.997478059500582\n",
      "RMSE for test data= 5.107993483080748\n",
      "alpha= 0.5 l1_ratio= 0.03\n",
      "RMSE for train data= 4.997174983538679\n",
      "RMSE for test data= 5.107860157206176\n",
      "alpha= 0.5 l1_ratio= 0.1\n",
      "RMSE for train data= 4.996094447546385\n",
      "RMSE for test data= 5.107370744743984\n",
      "alpha= 0.5 l1_ratio= 0.3\n",
      "RMSE for train data= 4.990597306527459\n",
      "RMSE for test data= 5.103776156170217\n",
      "alpha= 0.5 l1_ratio= 0.5\n",
      "RMSE for train data= 4.978115031372921\n",
      "RMSE for test data= 5.091754942167706\n",
      "alpha= 0.5 l1_ratio= 1\n",
      "RMSE for train data= 4.9058902891037794\n",
      "RMSE for test data= 5.025393914716054\n",
      "alpha= 0.5 l1_ratio= 3\n",
      "RMSE for train data= 5.287397284308148\n",
      "RMSE for test data= 5.433092049525654\n",
      "alpha= 0.5 l1_ratio= 5\n",
      "RMSE for train data= 5.543527472935548\n",
      "RMSE for test data= 5.6482702805472496\n",
      "alpha= 0.5 l1_ratio= 10\n",
      "RMSE for train data= 5.993922809620606\n",
      "RMSE for test data= 6.056807800867743\n",
      "alpha= 0.5 l1_ratio= 30\n",
      "RMSE for train data= 6.158607421075328\n",
      "RMSE for test data= 6.2102334405187465\n",
      "alpha= 0.5 l1_ratio= 50\n",
      "RMSE for train data= 6.365995671103562\n",
      "RMSE for test data= 6.412171440900549\n",
      "alpha= 0.5 l1_ratio= 100\n",
      "RMSE for train data= 8.029251789862569\n",
      "RMSE for test data= 8.046509552537593\n"
     ]
    }
   ],
   "source": [
    "#Elastic Net regularizer\n",
    "alphas=[0.001,0.003,0.01,0.03,0.1,0.3,0.5,1,3,5,10,30,50,100]\n",
    "l1_ratio=[0.001,0.003,0.01,0.03,0.1,0.3,0.5,1,3,5,10,30,50,100]\n",
    "kf = KFold(n_splits=10,random_state=42,shuffle=True)\n",
    "avg_RMSE_train=[]\n",
    "avg_RMSE_test=[]\n",
    "for alpha_value in alphas:\n",
    "    for l1_ratio_value in l1_ratio:\n",
    "        RMSE_train=[]\n",
    "        RMSE_test=[]\n",
    "        for train_index, test_index in kf.split(df):\n",
    "            X_train= df.loc[train_index]\n",
    "            y_train= df_y.loc[train_index]\n",
    "            X_test= df.loc[test_index]\n",
    "            y_test= df_y.loc[test_index]\n",
    "            reg = linear_model.ElasticNet(alpha=alpha_value,l1_ratio=l1_ratio_value)\n",
    "            reg.fit(X_train, y_train)\n",
    "            pred_train = reg.predict(X_train)\n",
    "            pred_test = reg.predict(X_test)\n",
    "            RMSE_train.append(np.sqrt(mean_squared_error(y_train, pred_train)))\n",
    "            RMSE_test.append(np.sqrt(mean_squared_error(y_test, pred_test)))\n",
    "        print('alpha=',alpha_value,'l1_ratio=',l1_ratio_value)\n",
    "        print('RMSE for train data=',mean(RMSE_train))\n",
    "        print('RMSE for test data=',mean(RMSE_test))\n",
    "        avg_RMSE_train.append(mean(RMSE_train))\n",
    "        avg_RMSE_test.append(mean(RMSE_test))"
   ]
  },
  {
   "cell_type": "code",
   "execution_count": 40,
   "metadata": {},
   "outputs": [
    {
     "data": {
      "text/plain": [
       "array([-1.01769102e-01,  4.79198219e-02,  4.12143925e-02,  2.11097153e+00,\n",
       "       -1.73990558e+01,  3.72102301e+00,  9.00722224e-03, -1.45045949e+00,\n",
       "        2.90833162e-01, -1.27665242e-02, -9.54799753e-01,  9.36338781e-03,\n",
       "       -5.67816353e-01])"
      ]
     },
     "execution_count": 40,
     "metadata": {},
     "output_type": "execute_result"
    }
   ],
   "source": [
    "#best model  alpha= 0.001 l1_ratio= 1\n",
    "for train_index, test_index in kf.split(df):\n",
    "    X_train= df.loc[train_index]\n",
    "    y_train= df_y.loc[train_index]\n",
    "    X_test= df.loc[test_index]\n",
    "    y_test= df_y.loc[test_index]\n",
    "    reg = linear_model.ElasticNet(alpha=0.001,l1_ratio=1)\n",
    "    reg.fit(X_train, y_train)\n",
    "reg.coef_ "
   ]
  }
 ],
 "metadata": {
  "kernelspec": {
   "display_name": "Python 3",
   "language": "python",
   "name": "python3"
  },
  "language_info": {
   "codemirror_mode": {
    "name": "ipython",
    "version": 3
   },
   "file_extension": ".py",
   "mimetype": "text/x-python",
   "name": "python",
   "nbconvert_exporter": "python",
   "pygments_lexer": "ipython3",
   "version": "3.7.1"
  }
 },
 "nbformat": 4,
 "nbformat_minor": 2
}
