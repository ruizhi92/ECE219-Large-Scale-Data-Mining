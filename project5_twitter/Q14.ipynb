{
 "cells": [
  {
   "cell_type": "code",
   "execution_count": 1,
   "metadata": {},
   "outputs": [],
   "source": [
    "import json\n",
    "import datetime\n",
    "import pytz\n",
    "import numpy as np\n",
    "import matplotlib.pyplot as plt\n",
    "import pandas as pd\n",
    "from sklearn.linear_model import LinearRegression\n",
    "from sklearn.model_selection import KFold\n",
    "from sklearn.metrics import mean_squared_error, r2_score\n",
    "from statistics import mean\n",
    "import statsmodels.api as sm\n",
    "from sklearn.model_selection import KFold\n",
    "from sklearn.linear_model import LinearRegression\n",
    "from sklearn.metrics import mean_squared_error\n",
    "from statistics import mean\n",
    "from sklearn.ensemble import RandomForestRegressor\n",
    "from sklearn.ensemble import GradientBoostingRegressor\n",
    "from sklearn.datasets import make_regression\n",
    "from sklearn.preprocessing import OneHotEncoder\n",
    "from sklearn.neural_network import MLPRegressor\n",
    "from sklearn.preprocessing import StandardScaler  \n",
    "from sklearn.preprocessing import PolynomialFeatures\n",
    "from sklearn.neighbors import KNeighborsRegressor\n",
    "import datetime,time"
   ]
  },
  {
   "cell_type": "code",
   "execution_count": 2,
   "metadata": {},
   "outputs": [
    {
     "name": "stdout",
     "output_type": "stream",
     "text": [
      "files[0] => tweets_#gohawks.txt\n",
      "files[1] => tweets_#gopatriots.txt\n",
      "files[2] => tweets_#nfl.txt\n",
      "files[3] => tweets_#patriots.txt\n",
      "files[4] => tweets_#sb49.txt\n",
      "files[5] => tweets_#superbowl.txt\n"
     ]
    }
   ],
   "source": [
    "path = \"tweet_data/\"\n",
    "\n",
    "files = [\"tweets_#gohawks.txt\", \"tweets_#gopatriots.txt\", \\\n",
    "        \"tweets_#nfl.txt\", \"tweets_#patriots.txt\", \\\n",
    "        \"tweets_#sb49.txt\", \"tweets_#superbowl.txt\"]\n",
    "topics = [\"gohawks\", \"gopatriots\", \"nfl\", \"patriots\", \"sb49\", \"superbowl\"]\n",
    "test_files =[\"sample0_period1.txt\",\"sample0_period2.txt\",\"sample0_period3.txt\", \\\n",
    "             \"sample1_period1.txt\",\"sample1_period2.txt\",\"sample1_period3.txt\",\"sample2_period1.txt\",\\\n",
    "             \"sample2_period2.txt\",\"sample2_period3.txt\"]\n",
    "\n",
    "for i, fl in enumerate(files):\n",
    "    print(\"files[\" + str(i) + \"] => \" + fl)"
   ]
  },
  {
   "cell_type": "code",
   "execution_count": 3,
   "metadata": {},
   "outputs": [],
   "source": [
    "def transfer_time(data_raw,time_type):\n",
    "    \n",
    "    pst_tz = pytz.timezone('America/Los_Angeles')\n",
    "    \n",
    "    # sort according to time\n",
    "    pddata_raw = pd.DataFrame(data_raw,columns=['time','tweets','retweets','followers','mentioned',\\\n",
    "                                                'media','active','author','favourites_count','title'])\n",
    "    pddata_raw = pddata_raw.sort_values(by = 'time')\n",
    "    pddata_raw = pddata_raw.reset_index(drop=True)               \n",
    "\n",
    "    # calculate hour index and minute index from time\n",
    "    if time_type == 'hour':\n",
    "        hour_accu = []\n",
    "        for index, row in pddata_raw.iterrows():  \n",
    "            p = datetime.datetime.fromtimestamp(row['time'], pst_tz)  \n",
    "            hour_accu.append(((p.month-1)*31+p.day-14)*24+p.hour)                             \n",
    "        pddata_raw['time'] = hour_accu\n",
    "    elif time_type == 'minute':\n",
    "        minu_accu = []\n",
    "        for index, row in pddata_raw.iterrows():  \n",
    "            p = datetime.datetime.fromtimestamp(row['time'], pst_tz)                    \n",
    "            minu_accu.append((((p.month-1)*31+p.day-14)*24 + (p.hour-0))*12 + p.minute//5)             \n",
    "        pddata_raw['time'] = minu_accu    \n",
    "    else:\n",
    "        print(\"Invalid time type\")\n",
    "        \n",
    "    return pddata_raw"
   ]
  },
  {
   "cell_type": "code",
   "execution_count": 4,
   "metadata": {},
   "outputs": [],
   "source": [
    "def generate_df(pddata_raw):\n",
    "    \"\"\"\n",
    "    Create a new dataframe with desired form\n",
    "    \"\"\"\n",
    "    df = pd.DataFrame([],columns=['time unit','tweets','retweets','followers sum','followers max',\\\n",
    "                                  'mentioned','media','active','author','favourites_count','title'])\n",
    "    \n",
    "    col = pddata_raw.columns.get_loc('time')\n",
    "    df['time unit'] = range(int(pddata_raw.iloc[len(pddata_raw.index)-1,col] - pddata_raw.iloc[0,col]+1))\n",
    "\n",
    "    df['tweets'] = pddata_raw.groupby(\"time\")['tweets'].sum()\n",
    "    df['retweets'] = pddata_raw.groupby(\"time\")['retweets'].sum()\n",
    "    df['followers sum'] = pddata_raw.groupby(\"time\")['followers'].sum()\n",
    "    df['followers max'] = pddata_raw.groupby(\"time\")[\"followers\"].max()\n",
    "    df['mentioned'] = pddata_raw.groupby(\"time\")['mentioned'].sum()\n",
    "    df['media'] = pddata_raw.groupby(\"time\")['media'].sum()\n",
    "    df['active'] = pddata_raw.groupby(\"time\")['active'].mean()  \n",
    "    df['author'] = pddata_raw.groupby(\"time\")['author'].nunique() # count number of not-repeating authors    \n",
    "    df['favourites_count'] = pddata_raw.groupby(\"time\")['favourites_count'].sum()\n",
    "    df['title'] = pddata_raw.groupby(\"time\")['title'].mean()\n",
    "            \n",
    "    # reset index of df\n",
    "    df = df.fillna(0).reset_index(drop=True)\n",
    "    \n",
    "    return df"
   ]
  },
  {
   "cell_type": "code",
   "execution_count": 5,
   "metadata": {},
   "outputs": [],
   "source": [
    "def parse_dataset(files):\n",
    "    \"\"\"\n",
    "    Prase x conponent of the dataset into pandas DataFrame including columns of:\n",
    "    tweets, retweets, total_followers, max_followers, mentioned, media, active, author, favourites_count, title\n",
    "    with lines of hours,\n",
    "    where mentioned: number of @ in tweets per hour\n",
    "          media: number of url in tweets per hour\n",
    "          active: a measure of active state of author\n",
    "          author: number of unique authors post tweet per hour\n",
    "          favourites_count: the total number of likes by this user\n",
    "          title: length of this tweet's title\n",
    "    Prase y of dataset as number of tweets in the next hour.\n",
    "    \"\"\"\n",
    "    start_time = time.mktime(time.strptime(\"2015-02-01 08:00:00\",'%Y-%m-%d %H:%M:%S'))\n",
    "    end_time = time.mktime(time.strptime(\"2015-02-01 20:00:00\",'%Y-%m-%d %H:%M:%S'))   \n",
    "\n",
    "    start_hour_idx = ((2-1)*31+1-14)*24+8\n",
    "    end_hour_idx = ((2-1)*31+1-14)*24+20\n",
    "    start_minute_idx = (((2-1)*31+1-14)*24 + (8-0))*12 + 0//5    \n",
    "        \n",
    "    # extract raw features\n",
    "    data_raw = [[],[],[]]\n",
    "    for file in files:\n",
    "        for line in open(path + file, 'r', encoding=\"utf-8\") :\n",
    "            row_tmp = []\n",
    "            a = json.loads(line)\n",
    "            citation_date = a['citation_date']\n",
    "            tweet = 1\n",
    "            retweet = a['metrics']['citations']['total']\n",
    "            foll = a['author']['followers']             \n",
    "            ment = len(a['tweet']['entities']['user_mentions'])        \n",
    "            medi = len(a['tweet']['extended_entities']['media']) if 'extended_entities' in a['tweet'] else 0\n",
    "            hist_tw = a['tweet']['user'][\"statuses_count\"]\n",
    "            hist_yr = a['tweet']['user']['created_at'][-4:]\n",
    "            acti = hist_tw/(2015-float(hist_yr)+1) \n",
    "            auth = a['author']['name']\n",
    "            favo = a['tweet']['user']['favourites_count']\n",
    "            titl = len(a['title'])\n",
    "\n",
    "            # append to row_tmp\n",
    "            row_tmp.append(citation_date)        \n",
    "            row_tmp.append(tweet)        \n",
    "            row_tmp.append(retweet)\n",
    "            row_tmp.append(foll)    \n",
    "            row_tmp.append(ment) \n",
    "            row_tmp.append(medi) \n",
    "            row_tmp.append(acti)  \n",
    "            row_tmp.append(auth)\n",
    "            row_tmp.append(favo)\n",
    "            row_tmp.append(titl)\n",
    "\n",
    "            # assign to 3 periods\n",
    "            if citation_date < start_time:\n",
    "                data_raw[0].append(row_tmp)\n",
    "            elif citation_date < end_time:\n",
    "                data_raw[1].append(row_tmp)\n",
    "            else:\n",
    "                data_raw[2].append(row_tmp)            \n",
    "\n",
    "    # generate raw pandas dataframe\n",
    "    pddata_raw_1 = transfer_time(data_raw[0],'hour')\n",
    "    pddata_raw_2 = transfer_time(data_raw[1],'minute')\n",
    "    pddata_raw_2['time'] = pddata_raw_2['time'] - start_minute_idx\n",
    "    pddata_raw_3 = transfer_time(data_raw[2],'hour')\n",
    "    pddata_raw_3['time'] = pddata_raw_3['time'] - end_hour_idx - 1    \n",
    "            \n",
    "    # generate df and df_y for each time slot\n",
    "    df_1 = generate_df(pddata_raw_1)  \n",
    "    df_y_1 = df_1.iloc[1:,1].reset_index(drop=True)\n",
    "    df_1 = df_1[:len(df_y_1)]\n",
    "    \n",
    "    df_2 = generate_df(pddata_raw_2)\n",
    "    df_y_2 = df_2.iloc[1:,1].reset_index(drop=True)\n",
    "    df_2 = df_2[:len(df_y_2)]\n",
    "   \n",
    "    df_3 = generate_df(pddata_raw_3)\n",
    "    df_y_3 = df_3.iloc[1:,1].reset_index(drop=True)\n",
    "    df_3 = df_3[:len(df_y_3)]\n",
    "    \n",
    "    return (df_1.iloc[:,1:],df_y_1), (df_2.iloc[:,1:],df_y_2), (df_3.iloc[:,1:],df_y_3)"
   ]
  },
  {
   "cell_type": "code",
   "execution_count": 6,
   "metadata": {},
   "outputs": [],
   "source": [
    "def plot_recipe(df_y, pred_y):\n",
    "    \"\"\"\n",
    "    This function plots fitted values vs true values\n",
    "    \"\"\"\n",
    "    plt.figure()\n",
    "    area = np.pi * (4)**2/4\n",
    "    plt.scatter(df_y, pred_y, s = area)\n",
    "    plt.plot([df_y.min(), df_y.max()], [df_y.min(), df_y.max()], 'k--', lw = 1)\n",
    "    plt.xlabel('true values')\n",
    "    plt.ylabel('fitted values')\n",
    "    plt.show()"
   ]
  },
  {
   "cell_type": "code",
   "execution_count": 59,
   "metadata": {},
   "outputs": [],
   "source": [
    "def six_times_window(df,df_y):\n",
    "    m=df.shape[0]\n",
    "    df_new= pd.DataFrame(np.zeros((m-4,10)),columns=['tweets','retweets','followers sum','followers max',\\\n",
    "                                  'mentioned','media','active','author','favourites_count','title'])\n",
    "    df_y_new= pd.DataFrame(np.zeros((m-4)),columns=['num'])\n",
    "    for i in range(m-4):\n",
    "        \n",
    "        for j in range(9):\n",
    "            df_new.iloc[i,j]=(df.iloc[i,j]+df.iloc[i+1,j]+df.iloc[i+2,j]+df.iloc[i+3,j]+df.iloc[i+4,j])/5\n",
    "        j=3\n",
    "        df_new.iloc[i,3]=np.max([df.iloc[i,j],df.iloc[i+1,j],df.iloc[i+2,j],df.iloc[i+3,j],df.iloc[i+4,j]])\n",
    "        j=6\n",
    "        df_new.iloc[i,j]=(df.iloc[i,j]*df.iloc[i,7]+df.iloc[i+1,j]*df.iloc[i+1,7]+df.iloc[i+2,j]*df.iloc[i+2,7]+df.iloc[i+3,j]*df.iloc[i+3,7]+df.iloc[i+4,j]*df.iloc[i+4,7])/(df.iloc[i,7]+df.iloc[i+1,7]+df.iloc[i+2,7]+df.iloc[i+3,7]+df.iloc[i+4,7])\n",
    "        j=9\n",
    "        df_new.iloc[i,j]=(df.iloc[i,j]*df.iloc[i,0]+df.iloc[i+1,j]*df.iloc[i+1,0]+df.iloc[i+2,j]*df.iloc[i+2,0]+df.iloc[i+3,j]*df.iloc[i+3,0]+df.iloc[i+4,j]*df.iloc[i+4,0])/(df.iloc[i,0]+df.iloc[i+1,0]+df.iloc[i+2,0]+df.iloc[i+3,0]+df.iloc[i+4,0])\n",
    "        df_y_new.iloc[i,0]=df_y.iloc[i+4]\n",
    "    \n",
    "    return df_new, df_y_new    "
   ]
  },
  {
   "cell_type": "code",
   "execution_count": 19,
   "metadata": {},
   "outputs": [],
   "source": [
    "\n",
    "def parse_testdataset(path,files):\n",
    "    \"\"\"\n",
    "    Parse x conponent of the dataset into pandas DataFrame including columns of:\n",
    "    tweets, retweets, total_followers, max_followers, mentioned, media, active, author, favourites_count, title\n",
    "    with lines of hours,\n",
    "    where mentioned: number of @ in tweets per hour\n",
    "          media: number of url in tweets per hour\n",
    "          active: a measure of active state of author\n",
    "          author: number of unique authors post tweet per hour\n",
    "          favourites_count: the total number of likes by this user\n",
    "          title: length of this tweet's title\n",
    "    Parse y of dataset as number of tweets in the next hour.\n",
    "    \"\"\"\n",
    "    start_time = time.mktime(time.strptime(\"2015-02-01 08:00:00\",'%Y-%m-%d %H:%M:%S'))\n",
    "    end_time = time.mktime(time.strptime(\"2015-02-01 20:00:00\",'%Y-%m-%d %H:%M:%S'))   \n",
    "\n",
    "    start_hour_idx = ((2-1)*31+1-14)*24+8\n",
    "    end_hour_idx = ((2-1)*31+1-14)*24+20\n",
    "    start_minute_idx = (((2-1)*31+1-14)*24 + (8-0))*12 + 0//5    \n",
    "        \n",
    "    # extract raw features\n",
    "    data_raw = [[],[],[]]\n",
    "    for file in files:\n",
    "        for line in open(path + file, 'r') :\n",
    "            row_tmp = []\n",
    "            a = json.loads(line)\n",
    "            citation_date = a['citation_date']\n",
    "            tweet = 1\n",
    "            retweet = a['metrics']['citations']['total']\n",
    "            foll = a['author']['followers']             \n",
    "            ment = len(a['tweet']['entities']['user_mentions'])        \n",
    "            medi = len(a['tweet']['extended_entities']['media']) if 'extended_entities' in a['tweet'] else 0\n",
    "            hist_tw = a['tweet']['user'][\"statuses_count\"]\n",
    "            hist_yr = a['tweet']['user']['created_at'][-4:]\n",
    "            acti = hist_tw/(2015-float(hist_yr)+1) \n",
    "            auth = a['author']['name']\n",
    "            favo = a['tweet']['user']['favourites_count']\n",
    "            titl = len(a['title'])\n",
    "\n",
    "            # append to row_tmp\n",
    "            row_tmp.append(citation_date)        \n",
    "            row_tmp.append(tweet)        \n",
    "            row_tmp.append(retweet)\n",
    "            row_tmp.append(foll)    \n",
    "            row_tmp.append(ment) \n",
    "            row_tmp.append(medi) \n",
    "            row_tmp.append(acti)  \n",
    "            row_tmp.append(auth)\n",
    "            row_tmp.append(favo)\n",
    "            row_tmp.append(titl)\n",
    "\n",
    "            # assign to 3 periods\n",
    "            if citation_date < start_time:\n",
    "                data_raw[0].append(row_tmp)\n",
    "            elif citation_date < end_time:\n",
    "                data_raw[1].append(row_tmp)\n",
    "            else:\n",
    "                data_raw[2].append(row_tmp)            \n",
    "\n",
    "    # generate raw pandas dataframe\n",
    "    pddata_raw_1 = transfer_time(data_raw[0],'hour')\n",
    "    pddata_raw_1['time'] = pddata_raw_1['time'] - pddata_raw_1.loc[0,'time']\n",
    "    \n",
    "    pddata_raw_2 = transfer_time(data_raw[1],'minute')\n",
    "#     pddata_raw_2['time'] = pddata_raw_2['time'] - start_minute_idx\n",
    "    pddata_raw_2['time'] = pddata_raw_2['time'] - pddata_raw_2.loc[0,'time']\n",
    "\n",
    "    pddata_raw_3 = transfer_time(data_raw[2],'hour')\n",
    "#     pddata_raw_3['time'] = pddata_raw_3['time'] - end_hour_idx - 1    \n",
    "    pddata_raw_3['time'] = pddata_raw_3['time'] - pddata_raw_3.loc[0,'time']\n",
    "    print('1',pddata_raw_1)\n",
    "    \n",
    "    # generate df and df_y for each time slot\n",
    "    df_1 = generate_df(pddata_raw_1)  \n",
    "    df_y_1 = df_1.iloc[1:,1].reset_index(drop=True)\n",
    "    df_1 = df_1[:len(df_y_1)]\n",
    "    print('2',df_1)\n",
    "    \n",
    "    df_2 = generate_df(pddata_raw_2)\n",
    "    df_y_2 = df_2.iloc[1:,1].reset_index(drop=True)\n",
    "    df_2 = df_2[:len(df_y_2)]\n",
    "   \n",
    "    df_3 = generate_df(pddata_raw_3)\n",
    "    df_y_3 = df_3.iloc[1:,1].reset_index(drop=True)\n",
    "    df_3 = df_3[:len(df_y_3)]\n",
    "    \n",
    "    return (df_1.iloc[:,1:],df_y_1), (df_2.iloc[:,1:],df_y_2), (df_3.iloc[:,1:],df_y_3)"
   ]
  },
  {
   "cell_type": "code",
   "execution_count": 47,
   "metadata": {},
   "outputs": [],
   "source": [
    "(dfo,dfo_y),(dfo_2,dfo_y_2),(dfo_3,dfo_y_3) = parse_dataset(files)"
   ]
  },
  {
   "cell_type": "code",
   "execution_count": 60,
   "metadata": {},
   "outputs": [],
   "source": [
    "df, df_y  =six_times_window(dfo,dfo_y)\n",
    "df_2, df_y_2  =six_times_window(dfo_2,dfo_y_2)\n",
    "df_3, df_y_3  =six_times_window(dfo_3,dfo_y_3)"
   ]
  },
  {
   "cell_type": "code",
   "execution_count": 32,
   "metadata": {},
   "outputs": [
    {
     "name": "stdout",
     "output_type": "stream",
     "text": [
      "(435, 10) (435, 1) (139, 10) (139, 1) (130, 10) (130, 1)\n"
     ]
    }
   ],
   "source": [
    "print(df.shape,df_y.shape,df_2.shape,df_y_2.shape,df_3.shape,df_y_3.shape)"
   ]
  },
  {
   "cell_type": "code",
   "execution_count": 55,
   "metadata": {},
   "outputs": [
    {
     "data": {
      "text/html": [
       "<div>\n",
       "<style scoped>\n",
       "    .dataframe tbody tr th:only-of-type {\n",
       "        vertical-align: middle;\n",
       "    }\n",
       "\n",
       "    .dataframe tbody tr th {\n",
       "        vertical-align: top;\n",
       "    }\n",
       "\n",
       "    .dataframe thead th {\n",
       "        text-align: right;\n",
       "    }\n",
       "</style>\n",
       "<table border=\"1\" class=\"dataframe\">\n",
       "  <thead>\n",
       "    <tr style=\"text-align: right;\">\n",
       "      <th></th>\n",
       "      <th>tweets</th>\n",
       "      <th>retweets</th>\n",
       "      <th>followers sum</th>\n",
       "      <th>followers max</th>\n",
       "      <th>mentioned</th>\n",
       "      <th>media</th>\n",
       "      <th>active</th>\n",
       "      <th>author</th>\n",
       "      <th>favourites_count</th>\n",
       "      <th>title</th>\n",
       "    </tr>\n",
       "  </thead>\n",
       "  <tbody>\n",
       "    <tr>\n",
       "      <th>0</th>\n",
       "      <td>111</td>\n",
       "      <td>714</td>\n",
       "      <td>223405.0</td>\n",
       "      <td>41818.0</td>\n",
       "      <td>45</td>\n",
       "      <td>14</td>\n",
       "      <td>16495.717600</td>\n",
       "      <td>68</td>\n",
       "      <td>169019</td>\n",
       "      <td>107.738739</td>\n",
       "    </tr>\n",
       "    <tr>\n",
       "      <th>1</th>\n",
       "      <td>89</td>\n",
       "      <td>663</td>\n",
       "      <td>187317.0</td>\n",
       "      <td>19558.0</td>\n",
       "      <td>25</td>\n",
       "      <td>23</td>\n",
       "      <td>14668.183788</td>\n",
       "      <td>63</td>\n",
       "      <td>126515</td>\n",
       "      <td>114.955056</td>\n",
       "    </tr>\n",
       "    <tr>\n",
       "      <th>2</th>\n",
       "      <td>110</td>\n",
       "      <td>640</td>\n",
       "      <td>1657090.0</td>\n",
       "      <td>1362401.0</td>\n",
       "      <td>30</td>\n",
       "      <td>20</td>\n",
       "      <td>18070.444596</td>\n",
       "      <td>68</td>\n",
       "      <td>219997</td>\n",
       "      <td>118.100000</td>\n",
       "    </tr>\n",
       "    <tr>\n",
       "      <th>3</th>\n",
       "      <td>100</td>\n",
       "      <td>267</td>\n",
       "      <td>165256.0</td>\n",
       "      <td>19558.0</td>\n",
       "      <td>25</td>\n",
       "      <td>14</td>\n",
       "      <td>15166.468933</td>\n",
       "      <td>66</td>\n",
       "      <td>96787</td>\n",
       "      <td>118.460000</td>\n",
       "    </tr>\n",
       "    <tr>\n",
       "      <th>4</th>\n",
       "      <td>137</td>\n",
       "      <td>468</td>\n",
       "      <td>444858.0</td>\n",
       "      <td>65150.0</td>\n",
       "      <td>77</td>\n",
       "      <td>18</td>\n",
       "      <td>11300.612887</td>\n",
       "      <td>96</td>\n",
       "      <td>164014</td>\n",
       "      <td>111.883212</td>\n",
       "    </tr>\n",
       "    <tr>\n",
       "      <th>5</th>\n",
       "      <td>169</td>\n",
       "      <td>346</td>\n",
       "      <td>683834.0</td>\n",
       "      <td>104412.0</td>\n",
       "      <td>58</td>\n",
       "      <td>42</td>\n",
       "      <td>9554.832580</td>\n",
       "      <td>123</td>\n",
       "      <td>287280</td>\n",
       "      <td>109.940828</td>\n",
       "    </tr>\n",
       "  </tbody>\n",
       "</table>\n",
       "</div>"
      ],
      "text/plain": [
       "   tweets  retweets  followers sum  followers max  mentioned  media  \\\n",
       "0     111       714       223405.0        41818.0         45     14   \n",
       "1      89       663       187317.0        19558.0         25     23   \n",
       "2     110       640      1657090.0      1362401.0         30     20   \n",
       "3     100       267       165256.0        19558.0         25     14   \n",
       "4     137       468       444858.0        65150.0         77     18   \n",
       "5     169       346       683834.0       104412.0         58     42   \n",
       "\n",
       "         active  author  favourites_count       title  \n",
       "0  16495.717600      68            169019  107.738739  \n",
       "1  14668.183788      63            126515  114.955056  \n",
       "2  18070.444596      68            219997  118.100000  \n",
       "3  15166.468933      66             96787  118.460000  \n",
       "4  11300.612887      96            164014  111.883212  \n",
       "5   9554.832580     123            287280  109.940828  "
      ]
     },
     "execution_count": 55,
     "metadata": {},
     "output_type": "execute_result"
    }
   ],
   "source": [
    "dfo[0:6]"
   ]
  },
  {
   "cell_type": "code",
   "execution_count": 56,
   "metadata": {},
   "outputs": [
    {
     "data": {
      "text/plain": [
       "0     89\n",
       "1    110\n",
       "2    100\n",
       "3    137\n",
       "4    169\n",
       "5    215\n",
       "Name: tweets, dtype: int64"
      ]
     },
     "execution_count": 56,
     "metadata": {},
     "output_type": "execute_result"
    }
   ],
   "source": [
    "dfo_y[0:6]"
   ]
  },
  {
   "cell_type": "code",
   "execution_count": 57,
   "metadata": {},
   "outputs": [
    {
     "data": {
      "text/html": [
       "<div>\n",
       "<style scoped>\n",
       "    .dataframe tbody tr th:only-of-type {\n",
       "        vertical-align: middle;\n",
       "    }\n",
       "\n",
       "    .dataframe tbody tr th {\n",
       "        vertical-align: top;\n",
       "    }\n",
       "\n",
       "    .dataframe thead th {\n",
       "        text-align: right;\n",
       "    }\n",
       "</style>\n",
       "<table border=\"1\" class=\"dataframe\">\n",
       "  <thead>\n",
       "    <tr style=\"text-align: right;\">\n",
       "      <th></th>\n",
       "      <th>tweets</th>\n",
       "      <th>retweets</th>\n",
       "      <th>followers sum</th>\n",
       "      <th>followers max</th>\n",
       "      <th>mentioned</th>\n",
       "      <th>media</th>\n",
       "      <th>active</th>\n",
       "      <th>author</th>\n",
       "      <th>favourites_count</th>\n",
       "      <th>title</th>\n",
       "    </tr>\n",
       "  </thead>\n",
       "  <tbody>\n",
       "    <tr>\n",
       "      <th>0</th>\n",
       "      <td>547.0</td>\n",
       "      <td>2752.0</td>\n",
       "      <td>2677926.0</td>\n",
       "      <td>1362401.0</td>\n",
       "      <td>202.0</td>\n",
       "      <td>89.0</td>\n",
       "      <td>14848.865359</td>\n",
       "      <td>361.0</td>\n",
       "      <td>776332.0</td>\n",
       "      <td>113.994516</td>\n",
       "    </tr>\n",
       "    <tr>\n",
       "      <th>1</th>\n",
       "      <td>605.0</td>\n",
       "      <td>2384.0</td>\n",
       "      <td>3138355.0</td>\n",
       "      <td>1362401.0</td>\n",
       "      <td>215.0</td>\n",
       "      <td>117.0</td>\n",
       "      <td>13014.365397</td>\n",
       "      <td>416.0</td>\n",
       "      <td>894593.0</td>\n",
       "      <td>114.009917</td>\n",
       "    </tr>\n",
       "  </tbody>\n",
       "</table>\n",
       "</div>"
      ],
      "text/plain": [
       "   tweets  retweets  followers sum  followers max  mentioned  media  \\\n",
       "0   547.0    2752.0      2677926.0      1362401.0      202.0   89.0   \n",
       "1   605.0    2384.0      3138355.0      1362401.0      215.0  117.0   \n",
       "\n",
       "         active  author  favourites_count       title  \n",
       "0  14848.865359   361.0          776332.0  113.994516  \n",
       "1  13014.365397   416.0          894593.0  114.009917  "
      ]
     },
     "execution_count": 57,
     "metadata": {},
     "output_type": "execute_result"
    }
   ],
   "source": [
    "df[0:2] "
   ]
  },
  {
   "cell_type": "code",
   "execution_count": 58,
   "metadata": {},
   "outputs": [
    {
     "data": {
      "text/html": [
       "<div>\n",
       "<style scoped>\n",
       "    .dataframe tbody tr th:only-of-type {\n",
       "        vertical-align: middle;\n",
       "    }\n",
       "\n",
       "    .dataframe tbody tr th {\n",
       "        vertical-align: top;\n",
       "    }\n",
       "\n",
       "    .dataframe thead th {\n",
       "        text-align: right;\n",
       "    }\n",
       "</style>\n",
       "<table border=\"1\" class=\"dataframe\">\n",
       "  <thead>\n",
       "    <tr style=\"text-align: right;\">\n",
       "      <th></th>\n",
       "      <th>num</th>\n",
       "    </tr>\n",
       "  </thead>\n",
       "  <tbody>\n",
       "    <tr>\n",
       "      <th>0</th>\n",
       "      <td>169.0</td>\n",
       "    </tr>\n",
       "    <tr>\n",
       "      <th>1</th>\n",
       "      <td>215.0</td>\n",
       "    </tr>\n",
       "  </tbody>\n",
       "</table>\n",
       "</div>"
      ],
      "text/plain": [
       "     num\n",
       "0  169.0\n",
       "1  215.0"
      ]
     },
     "execution_count": 58,
     "metadata": {},
     "output_type": "execute_result"
    }
   ],
   "source": [
    "df_y[0:2]"
   ]
  },
  {
   "cell_type": "code",
   "execution_count": null,
   "metadata": {},
   "outputs": [],
   "source": []
  },
  {
   "cell_type": "code",
   "execution_count": 33,
   "metadata": {},
   "outputs": [],
   "source": [
    "test_files_1 =[\"sample0_period1.txt\",\"sample0_period2.txt\",\"sample0_period3.txt\"]\n",
    "test_files_2 =[\"sample1_period1.txt\",\"sample1_period2.txt\",\"sample1_period3.txt\"]\n",
    "test_files_3 =[\"sample2_period1.txt\",\"sample2_period2.txt\",\"sample2_period3.txt\"]"
   ]
  },
  {
   "cell_type": "code",
   "execution_count": 61,
   "metadata": {},
   "outputs": [
    {
     "name": "stdout",
     "output_type": "stream",
     "text": [
      "1      time  tweets  retweets  followers  mentioned  media         active  \\\n",
      "0       0       1         1    98191.0          0      1    2715.428571   \n",
      "1       0       1         1      158.0          0      0    2385.250000   \n",
      "2       0       1         1      370.0          0      2     302.400000   \n",
      "3       0       1         2     6549.0          3      0    1987.142857   \n",
      "4       0       1         1      187.0          1      0    1324.000000   \n",
      "5       0       1         1     1352.0          0      0    2804.500000   \n",
      "6       0       1         1    18722.0          0      0     633.666667   \n",
      "7       0       1         2     1427.0          1      0    2031.428571   \n",
      "8       0       1         1      617.0          0      1     229.000000   \n",
      "9       0       1         3      213.0          1      1     608.200000   \n",
      "10      0       1         2      213.0          1      1     608.200000   \n",
      "11      0       1         1     3331.0          1      0    3434.125000   \n",
      "12      0       1         1      835.0          0      0     224.428571   \n",
      "13      0       1         1     2073.0          0      0     570.250000   \n",
      "14      0       1         1      157.0          0      1     228.500000   \n",
      "15      0       1         1       19.0          0      0     293.000000   \n",
      "16      0       1         1     1470.0          0      0  112861.250000   \n",
      "17      0       1         1      106.0          0      0     427.500000   \n",
      "18      0       1         1      215.0          0      0    1234.000000   \n",
      "19      0       1         1      189.0          0      0   30248.500000   \n",
      "20      0       1         1      333.0          0      0    5424.400000   \n",
      "21      0       1        33    41959.0          0      1    1750.000000   \n",
      "22      0       1         4   168371.0          0      0    6062.375000   \n",
      "23      0       1         1       63.0          0      0     244.000000   \n",
      "24      0       1         7     6492.0          0      0    2159.714286   \n",
      "25      0       1         1     5452.0          0      0    1147.285714   \n",
      "26      0       1         4     2053.0          5      0    1785.200000   \n",
      "27      0       1         1     5421.0          1      0    3468.142857   \n",
      "28      0       1         1       43.0          0      1      44.500000   \n",
      "29      0       1         1     1306.0          0      0     440.800000   \n",
      "..    ...     ...       ...        ...        ...    ...            ...   \n",
      "538     5       1         1        2.0          0      0   13980.000000   \n",
      "539     5       1         1      818.0          2      0    2835.714286   \n",
      "540     5       1         1      396.0          0      0    1926.000000   \n",
      "541     5       1         5      475.0          2      1    2819.500000   \n",
      "542     5       1         1      651.0          0      1     639.500000   \n",
      "543     5       1         1     3139.0          0      0    3008.500000   \n",
      "544     5       1         1      245.0          0      1   37577.000000   \n",
      "545     5       1         1     3351.0          0      0   16355.800000   \n",
      "546     5       1         1     1603.0          0      0     195.200000   \n",
      "547     5       1         1      495.0          0      0    1694.166667   \n",
      "548     5       1         1    11657.0          0      0    3858.666667   \n",
      "549     5       1         1       82.0          1      0     409.500000   \n",
      "550     5       1         1      715.0          1      1    4301.250000   \n",
      "551     5       1         1      495.0          1      0    1694.166667   \n",
      "552     5       1         1      123.0          0      0     314.000000   \n",
      "553     5       1         1      370.0          0      0      56.125000   \n",
      "554     5       1         1     1183.0          0      0     284.250000   \n",
      "555     5       1         1      143.0          1      0     570.200000   \n",
      "556     5       1         1      330.0          0      0     102.666667   \n",
      "557     5       1         1      106.0          1      0    5836.000000   \n",
      "558     5       1         1     1407.0          1      0     633.833333   \n",
      "559     5       1         1      270.0          2      1     615.600000   \n",
      "560     5       1         2      577.0          0      0    5268.600000   \n",
      "561     5       1         2      535.0          0      0     293.500000   \n",
      "562     5       1         1      755.0          2      0    2485.000000   \n",
      "563     5       1         4     2099.0          1      1    1107.333333   \n",
      "564     5       1         1    33767.0          1      1    2629.857143   \n",
      "565     5       1         1      125.0          1      0    1449.750000   \n",
      "566     5       1         1      548.0          0      0   12844.000000   \n",
      "567     5       1         1      121.0          0      0     706.800000   \n",
      "\n",
      "                   author  favourites_count  title  \n",
      "0                Lumia UK              1536    140  \n",
      "1            Netizen Nick              4662    129  \n",
      "2    #VSFSCasting fav/web                58     85  \n",
      "3      antoinette antonio              1622    138  \n",
      "4       reddit NFL Tweets                 2    139  \n",
      "5        Seattle Seahawks                 0    104  \n",
      "6          ÜberStrategist               237     97  \n",
      "7            Craig Milroy                 7    138  \n",
      "8           Jerry Freeman                 9    128  \n",
      "9           Kelly Fincher                29    134  \n",
      "10          Kelly Fincher                29    134  \n",
      "11      KindergartenRocks               275    123  \n",
      "12          CPAC Columbia                20    126  \n",
      "13             ChetTheDog               153    133  \n",
      "14    Z's Cafe & Catering                 1    138  \n",
      "15   Kamal Mukkamala (MK)                10     51  \n",
      "16      @jeisbontecnology              1137     59  \n",
      "17                   Matt               352     63  \n",
      "18    Shopulator Products               379    130  \n",
      "19               Owlo Owl                 0    123  \n",
      "20         Sean Gallagher                21    139  \n",
      "21        Masshole Sports               226    137  \n",
      "22       CBS This Morning               724    102  \n",
      "23              D.J.'s II                56    131  \n",
      "24      Croatia Exclusive                 0    119  \n",
      "25             Fox School               671    139  \n",
      "26     Happy Hour Network              1736    140  \n",
      "27                US103.5                35    117  \n",
      "28         Old Town Quito               103    134  \n",
      "29             max hansen               145    112  \n",
      "..                    ...               ...    ...  \n",
      "538              Dan Daly                 0    139  \n",
      "539      Ashley Tomlinson              4457     86  \n",
      "540          Danny Boy 3D              4739     62  \n",
      "541          Lengua Larga                29    137  \n",
      "542               32 SHEA                65     82  \n",
      "543     homes in virginia                 1    127  \n",
      "544     Investing Insight                 1    127  \n",
      "545   San Francisco 49ers                 0    122  \n",
      "546     Pauli's North End                59    120  \n",
      "547        Houston Texans                 0    105  \n",
      "548  Im The God of Terror                 2     99  \n",
      "549   THEHANDICAPPERFORUM                13    139  \n",
      "550    Chance James Jones              2726    108  \n",
      "551        Houston Texans                 0    114  \n",
      "552           Corbin Toll               440     49  \n",
      "553           Lisa Waters               256     72  \n",
      "554       ChargersFanTalk               771     71  \n",
      "555     Kellen Nascimento               898    118  \n",
      "556    Jonathan Georgeson                85    112  \n",
      "557  TheMercerStreetHouse               378    138  \n",
      "558          Albert Aydin              1426    139  \n",
      "559             Eliza G-F              6991     77  \n",
      "560                   Ben              3838     82  \n",
      "561                  Lara               160    101  \n",
      "562       Sheena Yap Chan               189    131  \n",
      "563               thirsty             11440    135  \n",
      "564          brandchannel             22245    135  \n",
      "565                 ❀ⓁⒾⓈⒶ               125    124  \n",
      "566  Amanda Melrose David               850     61  \n",
      "567         Kelvin Loyola               788    110  \n",
      "\n",
      "[568 rows x 10 columns]\n",
      "2    time unit  tweets  retweets  followers sum  followers max  mentioned  \\\n",
      "0          0      52       109       424498.0       168371.0         21   \n",
      "1          1      79       761      2975692.0      2034387.0         61   \n",
      "2          2      94       226       860594.0       328882.0         40   \n",
      "3          3     101       258      2349147.0       368626.0         49   \n",
      "4          4     122       483      1369748.0       291130.0         80   \n",
      "\n",
      "   media       active  author  favourites_count       title  \n",
      "0     17  4700.167720      50             44780  117.365385  \n",
      "1     29  6995.513442      70             84073  112.531646  \n",
      "2     30  4183.942693      91            178277  114.191489  \n",
      "3     34  4893.906436     100            112814  108.891089  \n",
      "4     36  5226.047307     121            304343  112.409836  \n"
     ]
    },
    {
     "name": "stdout",
     "output_type": "stream",
     "text": [
      "1       time  tweets  retweets  followers  mentioned  media         active  \\\n",
      "0        0       1         1      387.0          0      0     145.000000   \n",
      "1        0       1         1       96.0          0      1    7488.000000   \n",
      "2        0       1         1     1768.0          0      0     924.000000   \n",
      "3        0       1         1        0.0          0      0    1158.000000   \n",
      "4        0       1         2    54469.0          1      1   14011.833333   \n",
      "5        0       1         1      359.0          1      0     511.750000   \n",
      "6        0       1         1      751.0          0      0     122.600000   \n",
      "7        0       1         1        0.0          0      0    1159.000000   \n",
      "8        0       1         1      572.0          0      0      78.333333   \n",
      "9        0       1         1     4064.0          0      0    6412.000000   \n",
      "10       0       1         1        9.0          0      0      13.000000   \n",
      "11       0       1         1     3010.0          0      0    1691.000000   \n",
      "12       0       1         1     1519.0          0      0    3409.857143   \n",
      "13       0       1         1      869.0          0      0    1895.285714   \n",
      "14       0       1         1     3322.0          0      0    1217.142857   \n",
      "15       0       1         2    71721.0          0      1    1448.000000   \n",
      "16       0       1         2      185.0          0      0     511.333333   \n",
      "17       0       1         1      564.0          0      0   11903.000000   \n",
      "18       0       1         2      284.0          0      0     362.000000   \n",
      "19       0       1         1      350.0          0      0    1455.800000   \n",
      "20       0       1         1       59.0          0      0     246.500000   \n",
      "21       0       1         1       42.0          0      0    2137.666667   \n",
      "22       0       1         1       63.0          1      0      46.200000   \n",
      "23       0       1         1      316.0          0      0     539.000000   \n",
      "24       0       1         1       96.0          0      0     524.250000   \n",
      "25       0       1         1       96.0          0      0     525.500000   \n",
      "26       0       1         1     1588.0          0      0    1687.000000   \n",
      "27       0       1         1     2801.0          1      1   39040.333333   \n",
      "28       0       1         1     2460.0          0      0   17028.800000   \n",
      "29       0       1         1      769.0          0      0  105578.000000   \n",
      "...    ...     ...       ...        ...        ...    ...            ...   \n",
      "2250     5       1         2     5297.0          0      0    3494.000000   \n",
      "2251     5       1         1      825.0          2      0     536.833333   \n",
      "2252     5       1         1      232.0          0      1     980.666667   \n",
      "2253     5       1         1       28.0          0      1     139.666667   \n",
      "2254     5       1         1      371.0          1      1    1567.750000   \n",
      "2255     5       1         1      878.0          0      0     572.800000   \n",
      "2256     5       1         1      872.0          0      1     978.000000   \n",
      "2257     5       1         1      311.0          0      0     288.000000   \n",
      "2258     5       1         1      874.0          1      1    1051.000000   \n",
      "2259     5       1         1      345.0          0      0    1003.285714   \n",
      "2260     5       1         1       23.0          0      0     111.714286   \n",
      "2261     5       1         1     1540.0          0      0    1060.222222   \n",
      "2262     5       1         1      468.0          0      0    1209.000000   \n",
      "2263     5       1         1      350.0          1      0     838.000000   \n",
      "2264     5       1         1      428.0          0      0     311.000000   \n",
      "2265     5       1         1      313.0          1      0     519.250000   \n",
      "2266     5       1         1       12.0          0      0      27.000000   \n",
      "2267     5       1         1      189.0          3      0     109.666667   \n",
      "2268     5       1         2       78.0          0      1     328.000000   \n",
      "2269     5       1         1      164.0          0      0     234.800000   \n",
      "2270     5       1         1       68.0          0      0      58.750000   \n",
      "2271     5       1         1       15.0          0      0      69.000000   \n",
      "2272     5       1         1      147.0          0      1      23.000000   \n",
      "2273     5       1         1     7626.0          2      0     632.285714   \n",
      "2274     5       1         3      874.0          2      0    2430.500000   \n",
      "2275     5       1         1    55000.0          0      0    4218.857143   \n",
      "2276     5       1         1      189.0          0      0   31492.500000   \n",
      "2277     5       1         1      101.0          0      0      91.750000   \n",
      "2278     5       1         1      494.0          0      0     866.500000   \n",
      "2279     5       1         1       20.0          0      0      48.000000   \n",
      "\n",
      "                    author  favourites_count  title  \n",
      "0             Active Herts               135    138  \n",
      "1            WordLink #NFL                 0    110  \n",
      "2          Juliet Ann Love               189    129  \n",
      "3                 Dan Daly                 0    140  \n",
      "4               Moni Boyce             35565     97  \n",
      "5              Gavin McCoy              1109     69  \n",
      "6           Susanna Sisson                38    131  \n",
      "7                 Dan Daly                 0    140  \n",
      "8                    Marco                67     45  \n",
      "9                Vegaster®               127    143  \n",
      "10            Patrick Marr                 7     78  \n",
      "11      The Brees Brothers             23237     31  \n",
      "12       Michelle Kassorla               950     71  \n",
      "13                 Candace              2887     78  \n",
      "14              Sean Green              6860    104  \n",
      "15          Ahmad AbouAmmo              5192     46  \n",
      "16        Felix zur Nieden               419    130  \n",
      "17           Myriam _Bozak                 0    122  \n",
      "18              A&J Sports                69    137  \n",
      "19            Aubree Barry              1479     47  \n",
      "20                    Koji                70     80  \n",
      "21        James Baron Lang               631     90  \n",
      "22          Cristian Cruz                 19     84  \n",
      "23             TwerkOnline                 0     69  \n",
      "24          Teresa Johnson                 4     39  \n",
      "25          Teresa Johnson                 4     39  \n",
      "26        We're overdosing              1049     46  \n",
      "27                 Garrett             65295     85  \n",
      "28           Hot Trend Now                 0     85  \n",
      "29          Sports Gangsta                 0     98  \n",
      "...                    ...               ...    ...  \n",
      "2250     MIKEY PLS| Abbyyy             17043     32  \n",
      "2251           Edward Ford                84     65  \n",
      "2252      Michelle Hoffman              1415     83  \n",
      "2253           sunday paul                29     57  \n",
      "2254          Alex O'Brien              5608    127  \n",
      "2255        Norman Karkada                36    126  \n",
      "2256        C♥Jayhawk♥7273              2632     70  \n",
      "2257          Mike Quintas               857    148  \n",
      "2258                DJOVEN               867    138  \n",
      "2259           Shyam Patel              2991     21  \n",
      "2260     Leina Jayne Douka                12    121  \n",
      "2261  the.effing.librarian                96    138  \n",
      "2262       Hockeypicks.com                 3    113  \n",
      "2263                Austin                22    100  \n",
      "2264         Ethen Johnson                90     50  \n",
      "2265               MUN-E!!               202     55  \n",
      "2266          Jacob Wagner                 8    114  \n",
      "2267                 Warp☮                45     56  \n",
      "2268           Amaryllis                 105     93  \n",
      "2269       Philip Rafferty                80    125  \n",
      "2270                   Bex                 6     65  \n",
      "2271          spank_styles               102    121  \n",
      "2272          Hannah Hodge                22    110  \n",
      "2273        Ahmad Ktaech⚡️               951    116  \n",
      "2274          Mato Fajardo               146    111  \n",
      "2275            David Bain                28    140  \n",
      "2276              Owlo Owl                 0    131  \n",
      "2277            Will Paget               135     26  \n",
      "2278       Andrew Plastino              1432     25  \n",
      "2279     It's Cake By Gina                 0    138  \n",
      "\n",
      "[2280 rows x 10 columns]\n",
      "2    time unit  tweets  retweets  followers sum  followers max  mentioned  \\\n",
      "0          0     203       526       509311.0       104627.0        131   \n",
      "1          1     180       269      1676912.0       959176.0         69   \n",
      "2          2     202       382      3434565.0      1813823.0         88   \n",
      "3          3     294       549      2182170.0       372800.0        119   \n",
      "4          4     555       906      4242856.0       945273.0        241   \n",
      "\n",
      "   media       active  author  favourites_count       title  \n",
      "0     47  7574.478421     188            416661  101.295567  \n",
      "1     33  9592.529702     169            336201  101.105556  \n",
      "2     52  7200.795914     196            389427   99.059406  \n",
      "3     64  3730.383688     286            495565   97.564626  \n",
      "4    118  5234.146475     514           1004865   96.052252  \n"
     ]
    },
    {
     "name": "stdout",
     "output_type": "stream",
     "text": [
      "1      time  tweets  retweets  followers  mentioned  media         active  \\\n",
      "0       0       1         1      160.0          0      0     126.000000   \n",
      "1       0       1         1      135.0          0      0     404.750000   \n",
      "2       0       1         1      547.0          1      0     335.500000   \n",
      "3       0       1         1      123.0          1      0     168.750000   \n",
      "4       0       1         1       15.0          0      0      14.000000   \n",
      "5       0       1         1     1400.0          0      0    8654.000000   \n",
      "6       0       1         1      249.0          0      0     704.000000   \n",
      "7       0       1         1        2.0          0      0       4.000000   \n",
      "8       0       1         1      175.0          0      0     470.714286   \n",
      "9       0       1         1      381.0          2      0    2865.000000   \n",
      "10      0       1         1       33.0          0      0      72.000000   \n",
      "11      0       1         1        2.0          0      0       7.500000   \n",
      "12      0       1         1        1.0          0      0       5.250000   \n",
      "13      0       1         1      170.0          0      0    2113.500000   \n",
      "14      0       1         3       72.0          2      0     256.000000   \n",
      "15      0       1         1       30.0          0      0      59.428571   \n",
      "16      0       1         1        6.0          0      0      69.000000   \n",
      "17      0       1         1       50.0          0      0       5.500000   \n",
      "18      0       1         1      321.0          0      0     619.666667   \n",
      "19      0       1         1       13.0          0      0      86.000000   \n",
      "20      0       1         1      168.0          2      0     117.333333   \n",
      "21      0       1         1      546.0          0      0    1772.000000   \n",
      "22      0       1         1        5.0          0      0      19.000000   \n",
      "23      0       1         1       10.0          0      0       6.000000   \n",
      "24      0       1         1      275.0          0      0    1244.200000   \n",
      "25      0       1         1       25.0          0      1      18.000000   \n",
      "26      0       1         1      948.0          0      0    3253.714286   \n",
      "27      0       1         7      867.0          0      0    1697.833333   \n",
      "28      0       1         2      614.0          0      0    1964.142857   \n",
      "29      0       1         1      142.0          0      0      37.000000   \n",
      "..    ...     ...       ...        ...        ...    ...            ...   \n",
      "923     5       1         1      310.0          2      0    3042.666667   \n",
      "924     5       1         1      182.0          0      1    1899.666667   \n",
      "925     5       1         1        2.0          0      0   11870.000000   \n",
      "926     5       1         1       95.0          0      1     641.666667   \n",
      "927     5       1         3      574.0          1      0    2220.500000   \n",
      "928     5       1         1        2.0          0      0   11871.500000   \n",
      "929     5       1         1       26.0          2      0      44.000000   \n",
      "930     5       1         1       13.0          0      0      30.666667   \n",
      "931     5       1         1      115.0          0      0    4541.000000   \n",
      "932     5       1         1      310.0          2      0    3048.000000   \n",
      "933     5       1         1       63.0          0      0     175.333333   \n",
      "934     5       1         1       43.0          0      0     331.285714   \n",
      "935     5       1         1      310.0          2      0    3054.666667   \n",
      "936     5       1         1      137.0          0      1     546.500000   \n",
      "937     5       1         1      781.0          0      0   13489.750000   \n",
      "938     5       1         2     1484.0          0      0    4562.375000   \n",
      "939     5       1         1     2208.0          0      1   12068.333333   \n",
      "940     5       1         1     1084.0          1      0    1282.428571   \n",
      "941     5       1         1        9.0          0      0      33.714286   \n",
      "942     5       1         1        2.0          0      0   11895.000000   \n",
      "943     5       1         1      125.0          0      0     184.555556   \n",
      "944     5       1         1      783.0          0      0   13490.500000   \n",
      "945     5       1         1       43.0          1      0      71.500000   \n",
      "946     5       1         2      201.0          0      0     336.000000   \n",
      "947     5       1         3      211.0          0      1      17.500000   \n",
      "948     5       1         1      742.0          0      0  131676.000000   \n",
      "949     5       1         1        2.0          0      0   11907.000000   \n",
      "950     5       1         1     1542.0          0      0    3387.833333   \n",
      "951     5       1         1     2965.0          0      0   25125.000000   \n",
      "952     5       1         1      904.0          1      0    1012.666667   \n",
      "\n",
      "                   author  favourites_count  title  \n",
      "0             Hotel Cacao                 4     61  \n",
      "1            Lucas Bodine               955    106  \n",
      "2            stacey myers               249    120  \n",
      "3     Bethann Cancellieri               659     81  \n",
      "4            Zoen Kuchler                 8    134  \n",
      "5           Christian Gin                13     46  \n",
      "6             RevisIsland               477     34  \n",
      "7            Gavin Joiner                 0     72  \n",
      "8               Don Trail               191    113  \n",
      "9        Sally A. Buckley              5070    133  \n",
      "10         Joshua Clapper                70     39  \n",
      "11               Cool Man                 1     70  \n",
      "12               mackdady                 1     49  \n",
      "13                    Gus               821    107  \n",
      "14           Issaquah Law                21    140  \n",
      "15      Stephanie Labbate                 5     49  \n",
      "16                 LISTEN                47     96  \n",
      "17           Jenna Maddox                 1     72  \n",
      "18             Josh Silva              2376     55  \n",
      "19                 Tom R.                 7     49  \n",
      "20     RussellWilson#1Fan              1613     67  \n",
      "21    ColonyProudPatsFans                19     57  \n",
      "22            John Graham                 0     77  \n",
      "23                E Gruse                27     45  \n",
      "24             Zak Salant              1430     58  \n",
      "25           Zach Compton                 7     88  \n",
      "26           Solomon Syed              5701    138  \n",
      "27          tonya hammond             10919     61  \n",
      "28            jay svoboda              2975     70  \n",
      "29               BetMayor                 0    137  \n",
      "..                    ...               ...    ...  \n",
      "923         david escobar              1277    126  \n",
      "924         Shane Appling               627    138  \n",
      "925              Dan Daly                 0    139  \n",
      "926  The First Down! #NFL                 1    105  \n",
      "927        Nick Salerno                5403    140  \n",
      "928              Dan Daly                 0    139  \n",
      "929          Drew Vallejo                19    135  \n",
      "930                 Jana                 56    114  \n",
      "931           /r/Seahawks                 0     88  \n",
      "932         david escobar              1278    135  \n",
      "933  George Stefanopoulos               139    140  \n",
      "934                nostrx                 7    109  \n",
      "935         david escobar              1278    130  \n",
      "936                !IAMCJ               782     31  \n",
      "937  Seattle Seahawks Fan                 0    132  \n",
      "938        Kenyatta banks               457     73  \n",
      "939      Ralph M. Sherman              9077    140  \n",
      "940   Belinda's Babblings               345    121  \n",
      "941         James Gregory                 4     87  \n",
      "942              Dan Daly                 0    140  \n",
      "943            Alan Waite               570    139  \n",
      "944  Seattle Seahawks Fan                 0    119  \n",
      "945                 Dale               1362     50  \n",
      "946          Kajun Prince               149    103  \n",
      "947     Hawkaholic12thMan                53     45  \n",
      "948           Pirate News                 0    116  \n",
      "949              Dan Daly                 0    140  \n",
      "950        104.5 The Team               200    134  \n",
      "951           Adele Watch                 0    117  \n",
      "952               Tinitia              8981     89  \n",
      "\n",
      "[953 rows x 10 columns]\n",
      "2    time unit  tweets  retweets  followers sum  followers max  mentioned  \\\n",
      "0          0     401       540      2975173.0      2288647.0        131   \n",
      "1          1     141       400      1028252.0       519202.0         81   \n",
      "2          2     102       150       143752.0        30580.0         61   \n",
      "3          3     144       241       147110.0        17766.0         90   \n",
      "4          4     104       874      1257257.0       665769.0         51   \n",
      "\n",
      "   media       active  author  favourites_count       title  \n",
      "0     41  3759.814563     372            483190   91.341646  \n",
      "1     22  7465.784079     133            136821  107.007092  \n",
      "2     15  5923.468161      98            168024  106.764706  \n",
      "3     22  6241.786748     138            343688  101.319444  \n",
      "4     19  9626.265923      94            199753   99.701923  \n"
     ]
    }
   ],
   "source": [
    "(df_test1,df_y_test1),(df_2_test1,df_y_2_test1),(df_3_test1,df_y_3_test1) = parse_testdataset(path,test_files_1)\n",
    "(df_test2,df_y_test2),(df_2_test2,df_y_2_test2),(df_3_test2,df_y_3_test2) = parse_testdataset(path,test_files_2)\n",
    "(df_test3,df_y_test3),(df_2_test3,df_y_2_test3),(df_3_test3,df_y_3_test3) = parse_testdataset(path,test_files_3)"
   ]
  },
  {
   "cell_type": "code",
   "execution_count": 62,
   "metadata": {},
   "outputs": [],
   "source": [
    "df_test1, df_y_test1  =six_times_window(df_test1,df_y_test1)\n",
    "df_2_test1, df_y_2_test1  =six_times_window(df_2_test1,df_y_2_test1)\n",
    "df_3_test1, df_y_3_test1  =six_times_window(df_3_test1,df_y_3_test1)\n",
    "df_test2, df_y_test2  =six_times_window(df_test2,df_y_test2)\n",
    "df_2_test2, df_y_2_test2  =six_times_window(df_2_test2,df_y_2_test2)\n",
    "df_3_test2, df_y_3_test2  =six_times_window(df_3_test2,df_y_3_test2)\n",
    "df_test3, df_y_test3  =six_times_window(df_test3,df_y_test3)\n",
    "df_2_test3, df_y_2_test3  =six_times_window(df_2_test3,df_y_2_test3)\n",
    "df_3_test3, df_y_3_test3  =six_times_window(df_3_test3,df_y_3_test3)"
   ]
  },
  {
   "cell_type": "code",
   "execution_count": 63,
   "metadata": {},
   "outputs": [
    {
     "name": "stderr",
     "output_type": "stream",
     "text": [
      "F:\\Anaconda3\\lib\\site-packages\\ipykernel_launcher.py:2: DataConversionWarning: A column-vector y was passed when a 1d array was expected. Please change the shape of y to (n_samples,), for example using ravel().\n",
      "  \n"
     ]
    }
   ],
   "source": [
    "reg = RandomForestRegressor(oob_score=True,n_estimators=1800,max_depth=10,min_samples_leaf=1,min_samples_split=2, bootstrap=True,max_features='sqrt',random_state=42)\n",
    "reg.fit(df,df_y)\n",
    "pred = reg.predict(df)\n",
    "pred1=reg.predict(df_test1)\n",
    "pred2=reg.predict(df_test2)\n",
    "pred3=reg.predict(df_test3)"
   ]
  },
  {
   "cell_type": "code",
   "execution_count": 75,
   "metadata": {},
   "outputs": [
    {
     "name": "stdout",
     "output_type": "stream",
     "text": [
      "     num\n",
      "0  120.0      num\n",
      "0  846.0     num\n",
      "0  61.0\n",
      "[508.89237475] [651.18824667] [581.18774148]\n"
     ]
    }
   ],
   "source": [
    "print(df_y_test1,df_y_test2,df_y_test3)\n",
    "print(pred1,pred2,pred3)"
   ]
  },
  {
   "cell_type": "code",
   "execution_count": 43,
   "metadata": {},
   "outputs": [
    {
     "name": "stderr",
     "output_type": "stream",
     "text": [
      "F:\\Anaconda3\\lib\\site-packages\\ipykernel_launcher.py:2: DataConversionWarning: A column-vector y was passed when a 1d array was expected. Please change the shape of y to (n_samples,), for example using ravel().\n",
      "  \n"
     ]
    }
   ],
   "source": [
    "reg = RandomForestRegressor(oob_score=True,n_estimators=1800,max_depth=10,min_samples_leaf=1,min_samples_split=2, bootstrap=True,max_features='sqrt',random_state=42)\n",
    "reg.fit(df_2,df_y_2)\n",
    "pred = reg.predict(df_2)\n",
    "pred1=reg.predict(df_2_test1)\n",
    "pred2=reg.predict(df_2_test2)\n",
    "pred3=reg.predict(df_2_test3)"
   ]
  },
  {
   "cell_type": "code",
   "execution_count": 44,
   "metadata": {},
   "outputs": [
    {
     "name": "stdout",
     "output_type": "stream",
     "text": [
      "      num\n",
      "0  1123.0      num\n",
      "0  903.0     num\n",
      "0  28.0\n",
      "[10555.0317017] [5492.2012037] [549.39083333]\n"
     ]
    }
   ],
   "source": [
    "print(df_y_2_test1,df_y_2_test2,df_y_2_test3)\n",
    "print(pred1,pred2,pred3)"
   ]
  },
  {
   "cell_type": "code",
   "execution_count": 45,
   "metadata": {},
   "outputs": [
    {
     "name": "stderr",
     "output_type": "stream",
     "text": [
      "F:\\Anaconda3\\lib\\site-packages\\ipykernel_launcher.py:2: DataConversionWarning: A column-vector y was passed when a 1d array was expected. Please change the shape of y to (n_samples,), for example using ravel().\n",
      "  \n"
     ]
    }
   ],
   "source": [
    "reg = RandomForestRegressor(oob_score=True,n_estimators=1800,max_depth=10,min_samples_leaf=1,min_samples_split=2, bootstrap=True,max_features='sqrt',random_state=42)\n",
    "reg.fit(df_3,df_y_3)\n",
    "pred = reg.predict(df_3)\n",
    "pred1=reg.predict(df_3_test1)\n",
    "pred2=reg.predict(df_3_test2)\n",
    "pred3=reg.predict(df_3_test3)"
   ]
  },
  {
   "cell_type": "code",
   "execution_count": 46,
   "metadata": {},
   "outputs": [
    {
     "name": "stdout",
     "output_type": "stream",
     "text": [
      "    num\n",
      "0  87.0     num\n",
      "0  46.0     num\n",
      "0  43.0\n",
      "[62.94666667] [66.89222222] [67.55141077]\n"
     ]
    }
   ],
   "source": [
    "print(df_y_3_test1,df_y_3_test2,df_y_3_test3)\n",
    "print(pred1,pred2,pred3)"
   ]
  },
  {
   "cell_type": "markdown",
   "metadata": {},
   "source": [
    "# GradientBoostingRegressor"
   ]
  },
  {
   "cell_type": "code",
   "execution_count": null,
   "metadata": {},
   "outputs": [],
   "source": []
  },
  {
   "cell_type": "markdown",
   "metadata": {},
   "source": [
    "# Neural Network"
   ]
  },
  {
   "cell_type": "code",
   "execution_count": 76,
   "metadata": {},
   "outputs": [
    {
     "name": "stderr",
     "output_type": "stream",
     "text": [
      "F:\\Anaconda3\\lib\\site-packages\\sklearn\\neural_network\\multilayer_perceptron.py:1316: DataConversionWarning: A column-vector y was passed when a 1d array was expected. Please change the shape of y to (n_samples, ), for example using ravel().\n",
      "  y = column_or_1d(y, warn=True)\n",
      "F:\\Anaconda3\\lib\\site-packages\\sklearn\\neural_network\\multilayer_perceptron.py:562: ConvergenceWarning: Stochastic Optimizer: Maximum iterations (200) reached and the optimization hasn't converged yet.\n",
      "  % self.max_iter, ConvergenceWarning)\n"
     ]
    },
    {
     "name": "stdout",
     "output_type": "stream",
     "text": [
      "MSE= 3935615.2016385505\n"
     ]
    }
   ],
   "source": [
    "scaler = StandardScaler()\n",
    "scaler.fit(df)\n",
    "df_trans=scaler.transform(df)\n",
    "reg = MLPRegressor(hidden_layer_sizes=(50,600,300,),activation='relu', solver='adam', alpha=1e-5, random_state=42) \n",
    "reg.fit(df_trans,df_y)\n",
    "pred = reg.predict(df_trans)\n",
    "print(\"MSE=\",mean_squared_error(df_y, pred))"
   ]
  },
  {
   "cell_type": "code",
   "execution_count": 77,
   "metadata": {},
   "outputs": [
    {
     "name": "stdout",
     "output_type": "stream",
     "text": [
      "     num\n",
      "0  120.0      num\n",
      "0  846.0     num\n",
      "0  61.0\n",
      "[815.42367993] [296.79283755] [256.69073654]\n"
     ]
    }
   ],
   "source": [
    "pred1=reg.predict(scaler.transform(df_test1))\n",
    "pred2=reg.predict(scaler.transform(df_test2))\n",
    "pred3=reg.predict(scaler.transform(df_test3))\n",
    "print(df_y_test1,df_y_test2,df_y_test3)\n",
    "print(pred1,pred2,pred3)"
   ]
  },
  {
   "cell_type": "code",
   "execution_count": 78,
   "metadata": {},
   "outputs": [
    {
     "name": "stderr",
     "output_type": "stream",
     "text": [
      "F:\\Anaconda3\\lib\\site-packages\\sklearn\\neural_network\\multilayer_perceptron.py:1316: DataConversionWarning: A column-vector y was passed when a 1d array was expected. Please change the shape of y to (n_samples, ), for example using ravel().\n",
      "  y = column_or_1d(y, warn=True)\n"
     ]
    },
    {
     "name": "stdout",
     "output_type": "stream",
     "text": [
      "MSE= 33743118.10965791\n",
      "      num\n",
      "0  1123.0      num\n",
      "0  903.0     num\n",
      "0  28.0\n",
      "[9085.7320654] [8762.86407745] [1721.38888915]\n"
     ]
    },
    {
     "name": "stderr",
     "output_type": "stream",
     "text": [
      "F:\\Anaconda3\\lib\\site-packages\\sklearn\\neural_network\\multilayer_perceptron.py:562: ConvergenceWarning: Stochastic Optimizer: Maximum iterations (200) reached and the optimization hasn't converged yet.\n",
      "  % self.max_iter, ConvergenceWarning)\n"
     ]
    }
   ],
   "source": [
    "scaler = StandardScaler()\n",
    "scaler.fit(df_2)\n",
    "df_2_trans=scaler.transform(df_2)\n",
    "reg = MLPRegressor(hidden_layer_sizes=(50,600,300,),activation='relu', solver='adam', alpha=1e-5, random_state=42) \n",
    "reg.fit(df_2_trans,df_y_2)\n",
    "pred = reg.predict(df_2_trans)\n",
    "print(\"MSE=\",mean_squared_error(df_y_2, pred))\n",
    "pred1=reg.predict(scaler.transform(df_2_test1))\n",
    "pred2=reg.predict(scaler.transform(df_2_test2))\n",
    "pred3=reg.predict(scaler.transform(df_2_test3))\n",
    "print(df_y_2_test1,df_y_2_test2,df_y_2_test3)\n",
    "print(pred1,pred2,pred3)"
   ]
  },
  {
   "cell_type": "code",
   "execution_count": null,
   "metadata": {},
   "outputs": [],
   "source": []
  },
  {
   "cell_type": "code",
   "execution_count": 94,
   "metadata": {},
   "outputs": [
    {
     "data": {
      "text/plain": [
       "num    321.0\n",
       "Name: 0, dtype: float64"
      ]
     },
     "execution_count": 94,
     "metadata": {},
     "output_type": "execute_result"
    }
   ],
   "source": [
    "df_y_2.iloc[0]"
   ]
  },
  {
   "cell_type": "code",
   "execution_count": 95,
   "metadata": {},
   "outputs": [
    {
     "data": {
      "text/plain": [
       "1994.9289373057418"
      ]
     },
     "execution_count": 95,
     "metadata": {},
     "output_type": "execute_result"
    }
   ],
   "source": [
    "pred[0]"
   ]
  },
  {
   "cell_type": "code",
   "execution_count": 96,
   "metadata": {},
   "outputs": [],
   "source": [
    "def plot_recipe(df_y, pred_y):\n",
    "    \"\"\"\n",
    "    This function plots fitted values vs true values\n",
    "    \"\"\"\n",
    "    plt.figure()\n",
    "    area = np.pi * (4)**2/4\n",
    "    plt.scatter(df_y, pred_y, s = area)\n",
    "    plt.plot([df_y.min(), df_y.max()], [df_y.min(), df_y.max()], 'k--', lw = 1)\n",
    "    plt.xlabel('true values')\n",
    "    plt.ylabel('fitted values')\n",
    "    plt.show()"
   ]
  },
  {
   "cell_type": "code",
   "execution_count": 97,
   "metadata": {},
   "outputs": [
    {
     "data": {
      "image/png": "[encoded data removed]",
      "text/plain": [
       "<Figure size 432x288 with 1 Axes>"
      ]
     },
     "metadata": {
      "needs_background": "light"
     },
     "output_type": "display_data"
    }
   ],
   "source": [
    "plot_recipe(df_y_2,pred)"
   ]
  },
  {
   "cell_type": "code",
   "execution_count": 98,
   "metadata": {},
   "outputs": [
    {
     "name": "stderr",
     "output_type": "stream",
     "text": [
      "F:\\Anaconda3\\lib\\site-packages\\sklearn\\preprocessing\\data.py:625: DataConversionWarning: Data with input dtype int64, float64 were all converted to float64 by StandardScaler.\n",
      "  return self.partial_fit(X, y)\n",
      "F:\\Anaconda3\\lib\\site-packages\\ipykernel_launcher.py:3: DataConversionWarning: Data with input dtype int64, float64 were all converted to float64 by StandardScaler.\n",
      "  This is separate from the ipykernel package so we can avoid doing imports until\n"
     ]
    },
    {
     "name": "stdout",
     "output_type": "stream",
     "text": [
      "MSE= 24966940.773291156\n"
     ]
    },
    {
     "name": "stderr",
     "output_type": "stream",
     "text": [
      "F:\\Anaconda3\\lib\\site-packages\\sklearn\\neural_network\\multilayer_perceptron.py:562: ConvergenceWarning: Stochastic Optimizer: Maximum iterations (200) reached and the optimization hasn't converged yet.\n",
      "  % self.max_iter, ConvergenceWarning)\n"
     ]
    }
   ],
   "source": [
    "scaler = StandardScaler()\n",
    "scaler.fit(dfo_2)\n",
    "dfo_2_trans=scaler.transform(dfo_2)\n",
    "reg = MLPRegressor(hidden_layer_sizes=(50,600,300,),activation='relu', solver='adam', alpha=1e-5, random_state=42) \n",
    "reg.fit(dfo_2_trans,dfo_y_2)\n",
    "pred = reg.predict(dfo_2_trans)\n",
    "print(\"MSE=\",mean_squared_error(dfo_y_2, pred))"
   ]
  },
  {
   "cell_type": "code",
   "execution_count": 99,
   "metadata": {},
   "outputs": [
    {
     "data": {
      "image/png": "[encoded data removed]",
      "text/plain": [
       "<Figure size 432x288 with 1 Axes>"
      ]
     },
     "metadata": {
      "needs_background": "light"
     },
     "output_type": "display_data"
    }
   ],
   "source": [
    "plot_recipe(dfo_y_2,pred)"
   ]
  },
  {
   "cell_type": "code",
   "execution_count": null,
   "metadata": {},
   "outputs": [],
   "source": []
  },
  {
   "cell_type": "code",
   "execution_count": null,
   "metadata": {},
   "outputs": [],
   "source": []
  },
  {
   "cell_type": "code",
   "execution_count": null,
   "metadata": {},
   "outputs": [],
   "source": []
  },
  {
   "cell_type": "code",
   "execution_count": null,
   "metadata": {},
   "outputs": [],
   "source": []
  }
 ],
 "metadata": {
  "kernelspec": {
   "display_name": "Python 3",
   "language": "python",
   "name": "python3"
  },
  "language_info": {
   "codemirror_mode": {
    "name": "ipython",
    "version": 3
   },
   "file_extension": ".py",
   "mimetype": "text/x-python",
   "name": "python",
   "nbconvert_exporter": "python",
   "pygments_lexer": "ipython3",
   "version": "3.7.1"
  }
 },
 "nbformat": 4,
 "nbformat_minor": 2
}
