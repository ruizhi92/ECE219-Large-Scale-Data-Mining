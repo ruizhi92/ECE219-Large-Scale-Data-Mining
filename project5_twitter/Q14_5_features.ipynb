{
 "cells": [
  {
   "cell_type": "code",
   "execution_count": 35,
   "metadata": {},
   "outputs": [],
   "source": [
    "import json\n",
    "import datetime,time\n",
    "import pytz\n",
    "import numpy as np\n",
    "import matplotlib.pyplot as plt\n",
    "import pandas as pd\n",
    "from sklearn.linear_model import LinearRegression\n",
    "from sklearn.model_selection import KFold\n",
    "from sklearn.metrics import mean_squared_error, r2_score\n",
    "from statistics import mean\n",
    "import statsmodels.api as sm\n",
    "from sklearn.model_selection import KFold\n",
    "from sklearn.linear_model import LinearRegression\n",
    "from sklearn.metrics import mean_squared_error\n",
    "from statistics import mean\n",
    "from sklearn.ensemble import RandomForestRegressor\n",
    "from sklearn.ensemble import GradientBoostingRegressor\n",
    "from sklearn.datasets import make_regression\n",
    "from sklearn.preprocessing import OneHotEncoder\n",
    "from sklearn.neural_network import MLPRegressor\n",
    "from sklearn.preprocessing import StandardScaler  \n",
    "from sklearn.preprocessing import PolynomialFeatures\n",
    "from sklearn.neighbors import KNeighborsRegressor"
   ]
  },
  {
   "cell_type": "code",
   "execution_count": 2,
   "metadata": {},
   "outputs": [
    {
     "name": "stdout",
     "output_type": "stream",
     "text": [
      "files[0] => tweets_#gohawks.txt\n",
      "files[1] => tweets_#gopatriots.txt\n",
      "files[2] => tweets_#nfl.txt\n",
      "files[3] => tweets_#patriots.txt\n",
      "files[4] => tweets_#sb49.txt\n",
      "files[5] => tweets_#superbowl.txt\n"
     ]
    }
   ],
   "source": [
    "path = \"tweet_data/\"\n",
    "\n",
    "files = [\"tweets_#gohawks.txt\", \"tweets_#gopatriots.txt\", \\\n",
    "        \"tweets_#nfl.txt\", \"tweets_#patriots.txt\", \\\n",
    "        \"tweets_#sb49.txt\", \"tweets_#superbowl.txt\"]\n",
    "topics = [\"gohawks\", \"gopatriots\", \"nfl\", \"patriots\", \"sb49\", \"superbowl\"]\n",
    "\n",
    "for i, fl in enumerate(files):\n",
    "    print(\"files[\" + str(i) + \"] => \" + fl)"
   ]
  },
  {
   "cell_type": "code",
   "execution_count": null,
   "metadata": {},
   "outputs": [],
   "source": []
  },
  {
   "cell_type": "code",
   "execution_count": 5,
   "metadata": {},
   "outputs": [],
   "source": []
  },
  {
   "cell_type": "code",
   "execution_count": 42,
   "metadata": {},
   "outputs": [],
   "source": [
    "def generate_df(pddata_raw):\n",
    "    \"\"\"\n",
    "    Create a new dataframe with desired form\n",
    "    \"\"\"\n",
    "    df = pd.DataFrame([],columns=['time unit','tweets','retweets','followers sum','followers max','time'])\n",
    "    \n",
    "    col = pddata_raw.columns.get_loc('time')\n",
    "    df['time unit'] = range(int(pddata_raw.iloc[len(pddata_raw.index)-1,col] - pddata_raw.iloc[0,col]+1))\n",
    "    df['tweets'] = pddata_raw.groupby(\"time\")['tweets'].sum()\n",
    "    df['retweets'] = pddata_raw.groupby(\"time\")['retweets'].sum()\n",
    "    df['followers sum'] = pddata_raw.groupby(\"time\")['followers'].sum()\n",
    "    df['followers max'] = pddata_raw.groupby(\"time\")[\"followers\"].max()\n",
    "    df['time'] = pddata_raw.groupby(\"time\")['time'].mean()        \n",
    "    # reset index of df\n",
    "    df = df.fillna(0).reset_index(drop=True)\n",
    "    \n",
    "    return df"
   ]
  },
  {
   "cell_type": "code",
   "execution_count": 47,
   "metadata": {},
   "outputs": [],
   "source": [
    "\n",
    "def parse_dataset(path,files):\n",
    "    \"\"\"\n",
    "    Parse x conponent of the dataset into pandas DataFrame including columns of:\n",
    "    tweets, retweets, total_followers, max_followers, mentioned, media, active, author, favourites_count, title\n",
    "    with lines of hours,\n",
    "    where mentioned: number of @ in tweets per hour\n",
    "          media: number of url in tweets per hour\n",
    "          active: a measure of active state of author\n",
    "          author: number of unique authors post tweet per hour\n",
    "          favourites_count: the total number of likes by this user\n",
    "          title: length of this tweet's title\n",
    "    Parse y of dataset as number of tweets in the next hour.\n",
    "    \"\"\"\n",
    "    start_time = time.mktime(time.strptime(\"2015-02-01 08:00:00\",'%Y-%m-%d %H:%M:%S'))\n",
    "    end_time = time.mktime(time.strptime(\"2015-02-01 20:00:00\",'%Y-%m-%d %H:%M:%S'))   \n",
    "\n",
    "    start_hour_idx = ((2-1)*31+1-14)*24+8\n",
    "    end_hour_idx = ((2-1)*31+1-14)*24+20\n",
    "    start_minute_idx = (((2-1)*31+1-14)*24 + (8-0))*12 + 0//5    \n",
    "        \n",
    "    # extract raw features\n",
    "    data_raw = [[],[],[]]\n",
    "    for file in files:\n",
    "        for line in open(path + file, 'r', encoding=\"utf-8\") :\n",
    "            row_tmp = []\n",
    "            a = json.loads(line)\n",
    "            citation_date = a['citation_date']\n",
    "            tweet = 1\n",
    "            retweet = a['metrics']['citations']['total']\n",
    "            foll = a['author']['followers']  \n",
    "\n",
    "            # append to row_tmp\n",
    "            row_tmp.append(citation_date)        \n",
    "            row_tmp.append(tweet)        \n",
    "            row_tmp.append(retweet)\n",
    "            row_tmp.append(foll)  \n",
    "            # assign to 3 periods\n",
    "            if citation_date < start_time:\n",
    "                data_raw[0].append(row_tmp)\n",
    "            elif citation_date < end_time:\n",
    "                data_raw[1].append(row_tmp)\n",
    "            else:\n",
    "                data_raw[2].append(row_tmp)            \n",
    "\n",
    "    # generate raw pandas dataframe\n",
    "    pddata_raw_1 = transfer_time(data_raw[0],'hour')\n",
    "    pddata_raw_1['time'] = pddata_raw_1['time'] - pddata_raw_1.loc[0,'time']\n",
    "    \n",
    "    pddata_raw_2 = transfer_time(data_raw[1],'minute')\n",
    "#     pddata_raw_2['time'] = pddata_raw_2['time'] - start_minute_idx\n",
    "    pddata_raw_2['time'] = pddata_raw_2['time'] - pddata_raw_2.loc[0,'time']\n",
    "\n",
    "    pddata_raw_3 = transfer_time(data_raw[2],'hour')\n",
    "#     pddata_raw_3['time'] = pddata_raw_3['time'] - end_hour_idx - 1    \n",
    "    pddata_raw_3['time'] = pddata_raw_3['time'] - pddata_raw_3.loc[0,'time']\n",
    "    print('1',pddata_raw_1)\n",
    "    \n",
    "    # generate df and df_y for each time slot\n",
    "    df_1 = generate_df(pddata_raw_1)  \n",
    "    df_y_1 = df_1.iloc[1:,1].reset_index(drop=True)\n",
    "    df_1 = df_1[:len(df_y_1)]\n",
    "    print('2',df_1)\n",
    "    \n",
    "    df_2 = generate_df(pddata_raw_2)\n",
    "    df_y_2 = df_2.iloc[1:,1].reset_index(drop=True)\n",
    "    df_2 = df_2[:len(df_y_2)]\n",
    "   \n",
    "    df_3 = generate_df(pddata_raw_3)\n",
    "    df_y_3 = df_3.iloc[1:,1].reset_index(drop=True)\n",
    "    df_3 = df_3[:len(df_y_3)]\n",
    "    \n",
    "    return (df_1.iloc[:,1:],df_y_1), (df_2.iloc[:,1:],df_y_2), (df_3.iloc[:,1:],df_y_3)"
   ]
  },
  {
   "cell_type": "code",
   "execution_count": 43,
   "metadata": {},
   "outputs": [],
   "source": [
    "def transfer_time(data_raw,time_type):\n",
    "    \n",
    "    pst_tz = pytz.timezone('America/Los_Angeles')\n",
    "    \n",
    "    # sort according to time\n",
    "    pddata_raw = pd.DataFrame(data_raw,columns=['time','tweets','retweets','followers'])\n",
    "    pddata_raw = pddata_raw.sort_values(by = 'time')\n",
    "    pddata_raw = pddata_raw.reset_index(drop=True)               \n",
    "\n",
    "    # calculate hour index and minute index from time\n",
    "    if time_type == 'hour':\n",
    "        hour_accu = []\n",
    "        for index, row in pddata_raw.iterrows():  \n",
    "            p = datetime.datetime.fromtimestamp(row['time'], pst_tz)  \n",
    "            hour_accu.append(((p.month-1)*31+p.day-14)*24+p.hour)                             \n",
    "        pddata_raw['time'] = hour_accu\n",
    "    elif time_type == 'minute':\n",
    "        minu_accu = []\n",
    "        for index, row in pddata_raw.iterrows():  \n",
    "            p = datetime.datetime.fromtimestamp(row['time'], pst_tz)                    \n",
    "            minu_accu.append((((p.month-1)*31+p.day-14)*24 + (p.hour-0))*12 + p.minute//5)             \n",
    "        pddata_raw['time'] = minu_accu    \n",
    "    else:\n",
    "        print(\"Invalid time type\")\n",
    "        \n",
    "    return pddata_raw"
   ]
  },
  {
   "cell_type": "code",
   "execution_count": 58,
   "metadata": {},
   "outputs": [],
   "source": [
    "def six_times_window(df,df_y):\n",
    "    m=df.shape[0]\n",
    "    df_new= pd.DataFrame(np.zeros((m-4,5)),columns=['tweets','retweets','followers sum','followers max',\\\n",
    "                                  'time'])\n",
    "    df_y_new= pd.DataFrame(np.zeros((m-4)))\n",
    "    for i in range(m-4):\n",
    "        \n",
    "        for j in range(5):\n",
    "            df_new.iloc[i,j]=(df.iloc[i,j]+df.iloc[i+1,j]+df.iloc[i+2,j]+df.iloc[i+3,j]+df.iloc[i+4,j])\n",
    "        j=3\n",
    "        df_new.iloc[i,3]=np.max([df.iloc[i,j],df.iloc[i+1,j],df.iloc[i+2,j],df.iloc[i+3,j],df.iloc[i+4,j]])\n",
    "        df_y_new.iloc[i,0]=df_y.iloc[i+4]\n",
    "    \n",
    "    return df_new, df_y_new    "
   ]
  },
  {
   "cell_type": "code",
   "execution_count": 76,
   "metadata": {},
   "outputs": [],
   "source": [
    "def plot_recipe(df_y, pred_y):\n",
    "    \"\"\"\n",
    "    This function plots fitted values vs true values\n",
    "    \"\"\"\n",
    "    plt.figure()\n",
    "    area = np.pi * (4)**2/4\n",
    "    plt.scatter(df_y, pred_y, s = area)\n",
    "    plt.plot([df_y.min(), df_y.max()], [df_y.min(), df_y.max()], 'k--', lw = 1)\n",
    "    plt.xlabel('true values')\n",
    "    plt.ylabel('fitted values')\n",
    "    plt.show()"
   ]
  },
  {
   "cell_type": "code",
   "execution_count": 48,
   "metadata": {},
   "outputs": [
    {
     "name": "stdout",
     "output_type": "stream",
     "text": [
      "1         time  tweets  retweets  followers\n",
      "0          0       1         1      145.0\n",
      "1          0       1         1     3050.0\n",
      "2          0       1         3     3457.0\n",
      "3          0       1         2    10658.0\n",
      "4          0       1         1      570.0\n",
      "5          0       1         1      833.0\n",
      "6          0       1         2       85.0\n",
      "7          0       1         3      120.0\n",
      "8          0       1         1      331.0\n",
      "9          0       1         1      166.0\n",
      "10         0       1         1      785.0\n",
      "11         0       1         1     2794.0\n",
      "12         0       1         1     2693.0\n",
      "13         0       1         1     1176.0\n",
      "14         0       1         1     1175.0\n",
      "15         0       1         1     3853.0\n",
      "16         0       1         1     3310.0\n",
      "17         0       1         1      165.0\n",
      "18         0       1         1      165.0\n",
      "19         0       1         1      419.0\n",
      "20         0       1         2       39.0\n",
      "21         0       1         1       20.0\n",
      "22         0       1         1       17.0\n",
      "23         0       1         1     1495.0\n",
      "24         0       1         1     1495.0\n",
      "25         0       1         1     1495.0\n",
      "26         0       1         1      331.0\n",
      "27         0       1         1      331.0\n",
      "28         0       1         1       69.0\n",
      "29         0       1         3    10658.0\n",
      "...      ...     ...       ...        ...\n",
      "603703   439       1         1      324.0\n",
      "603704   439       1         3     2678.0\n",
      "603705   439       1         1    14975.0\n",
      "603706   439       1         1      517.0\n",
      "603707   439       1         4     2799.0\n",
      "603708   439       1         1       21.0\n",
      "603709   439       1         4     2799.0\n",
      "603710   439       1         1      517.0\n",
      "603711   439       1         1      199.0\n",
      "603712   439       1         2      437.0\n",
      "603713   439       1         1     2313.0\n",
      "603714   439       1         1        8.0\n",
      "603715   439       1         1      146.0\n",
      "603716   439       1         5     1470.0\n",
      "603717   439       1         1     1563.0\n",
      "603718   439       1         1     1621.0\n",
      "603719   439       1         1      185.0\n",
      "603720   439       1         1       12.0\n",
      "603721   439       1         1     4121.0\n",
      "603722   439       1         1      278.0\n",
      "603723   439       1         1      927.0\n",
      "603724   439       1         1     3721.0\n",
      "603725   439       1         2     8811.0\n",
      "603726   439       1         1     3324.0\n",
      "603727   439       1         1     1428.0\n",
      "603728   439       1         1       75.0\n",
      "603729   439       1         1      121.0\n",
      "603730   439       1         1      208.0\n",
      "603731   439       1         1      148.0\n",
      "603732   439       1         1      117.0\n",
      "\n",
      "[603733 rows x 4 columns]\n",
      "2      time unit  tweets  retweets  followers sum  followers max  time\n",
      "0            0     111       714       223405.0        41818.0     0\n",
      "1            1      89       663       187317.0        19558.0     1\n",
      "2            2     110       640      1657090.0      1362401.0     2\n",
      "3            3     100       267       165256.0        19558.0     3\n",
      "4            4     137       468       444858.0        65150.0     4\n",
      "5            5     169       346       683834.0       104412.0     5\n",
      "6            6     215       580       993090.0       105750.0     6\n",
      "7            7     353      1054      1694989.0       174922.0     7\n",
      "8            8     569      3224      5685647.0      1300862.0     8\n",
      "9            9     533      1982      1838262.0       358231.0     9\n",
      "10          10     529      1127      4111731.0       811823.0    10\n",
      "11          11     545      1928      3703322.0      1608967.0    11\n",
      "12          12     525       858      3429457.0       651531.0    12\n",
      "13          13     628      1424      4985408.0      1265184.0    13\n",
      "14          14     611      2279      1789472.0       118210.0    14\n",
      "15          15     675      1644      1496979.0       320334.0    15\n",
      "16          16     260       512       875756.0        94513.0    16\n",
      "17          17     255       414      2563954.0      1265345.0    17\n",
      "18          18     234       592      1620935.0       563343.0    18\n",
      "19          19     342       877      3403853.0      1031791.0    19\n",
      "20          20     402       947      1740081.0       358231.0    20\n",
      "21          21     334       441       488871.0        24906.0    21\n",
      "22          22     258      4399       365911.0        50314.0    22\n",
      "23          23     119       158       197199.0        30539.0    23\n",
      "24          24      88       119       952816.0       195149.0    24\n",
      "25          25     275       404      3744035.0      3305624.0    25\n",
      "26          26     155       176       228582.0        32212.0    26\n",
      "27          27     173       203       411592.0        76932.0    27\n",
      "28          28     336       483      1015212.0       148356.0    28\n",
      "29          29     160       327       869166.0       260968.0    29\n",
      "..         ...     ...       ...            ...            ...   ...\n",
      "409        409     294       411      3868622.0      1554323.0   409\n",
      "410        410     249       465     14434201.0      6052617.0   410\n",
      "411        411     282      3819      4499321.0      1554323.0   411\n",
      "412        412     376      1258     20933396.0      5883066.0   412\n",
      "413        413     524      1331     20359648.0      5883066.0   413\n",
      "414        414     709      1329     20316157.0      2697285.0   414\n",
      "415        415     916      2474     19748097.0      2401241.0   415\n",
      "416        416    1111      3588     55722793.0      6052617.0   416\n",
      "417        417    1260      2750     38753252.0      7494438.0   417\n",
      "418        418    1328      3753     57007941.0      9617680.0   418\n",
      "419        419    1187      5815     65446389.0      9617680.0   419\n",
      "420        420    1617      4211     50353220.0      9617680.0   420\n",
      "421        421    1434      7979     87036464.0      9617680.0   421\n",
      "422        422    1573      4169     49530858.0      6052617.0   422\n",
      "423        423    1470      7877     53754105.0      5030514.0   423\n",
      "424        424    3974      9568     71985388.0     10167262.0   424\n",
      "425        425    4934     12444     65096588.0      6461338.0   425\n",
      "426        426    4864     11531     49669132.0      4522237.0   426\n",
      "427        427    2369      6689     41725359.0      4749700.0   427\n",
      "428        428    3729     10070     43155097.0      5044065.0   428\n",
      "429        429    3318     15586     52359126.0      6151054.0   429\n",
      "430        430    3031     11588     35816098.0      6052623.0   430\n",
      "431        431    2143      6497     35978537.0      6052623.0   431\n",
      "432        432    2013     11118     37144894.0      9617680.0   432\n",
      "433        433    2173      6624     21925118.0      6052623.0   433\n",
      "434        434    2265      4300     40332453.0      6052623.0   434\n",
      "435        435    2506      4674     22179781.0      6052623.0   435\n",
      "436        436    3265      8015     49036845.0      6052623.0   436\n",
      "437        437    5788     21652     82273460.0      9617680.0   437\n",
      "438        438    9024     23183    101115911.0     12007049.0   438\n",
      "\n",
      "[439 rows x 6 columns]\n"
     ]
    }
   ],
   "source": [
    "(dfo,dfo_y),(dfo_2,dfo_y_2),(dfo_3,dfo_y_3) =parse_dataset(path,files)"
   ]
  },
  {
   "cell_type": "code",
   "execution_count": null,
   "metadata": {},
   "outputs": [],
   "source": []
  },
  {
   "cell_type": "code",
   "execution_count": 59,
   "metadata": {},
   "outputs": [],
   "source": [
    "df, df_y  =six_times_window(dfo,dfo_y)\n",
    "df_2, df_y_2  =six_times_window(dfo_2,dfo_y_2)\n",
    "df_3, df_y_3  =six_times_window(dfo_3,dfo_y_3)"
   ]
  },
  {
   "cell_type": "code",
   "execution_count": 51,
   "metadata": {},
   "outputs": [],
   "source": [
    "test_files_1 =[\"sample0_period1.txt\",\"sample0_period2.txt\",\"sample0_period3.txt\"]\n",
    "test_files_2 =[\"sample1_period1.txt\",\"sample1_period2.txt\",\"sample1_period3.txt\"]\n",
    "test_files_3 =[\"sample2_period1.txt\",\"sample2_period2.txt\",\"sample2_period3.txt\"]"
   ]
  },
  {
   "cell_type": "code",
   "execution_count": 60,
   "metadata": {},
   "outputs": [
    {
     "name": "stdout",
     "output_type": "stream",
     "text": [
      "1      time  tweets  retweets  followers\n",
      "0       0       1         1    98191.0\n",
      "1       0       1         1      158.0\n",
      "2       0       1         1      370.0\n",
      "3       0       1         2     6549.0\n",
      "4       0       1         1      187.0\n",
      "5       0       1         1     1352.0\n",
      "6       0       1         1    18722.0\n",
      "7       0       1         2     1427.0\n",
      "8       0       1         1      617.0\n",
      "9       0       1         3      213.0\n",
      "10      0       1         2      213.0\n",
      "11      0       1         1     3331.0\n",
      "12      0       1         1      835.0\n",
      "13      0       1         1     2073.0\n",
      "14      0       1         1      157.0\n",
      "15      0       1         1       19.0\n",
      "16      0       1         1     1470.0\n",
      "17      0       1         1      106.0\n",
      "18      0       1         1      215.0\n",
      "19      0       1         1      189.0\n",
      "20      0       1         1      333.0\n",
      "21      0       1        33    41959.0\n",
      "22      0       1         4   168371.0\n",
      "23      0       1         1       63.0\n",
      "24      0       1         7     6492.0\n",
      "25      0       1         1     5452.0\n",
      "26      0       1         4     2053.0\n",
      "27      0       1         1     5421.0\n",
      "28      0       1         1       43.0\n",
      "29      0       1         1     1306.0\n",
      "..    ...     ...       ...        ...\n",
      "538     5       1         1        2.0\n",
      "539     5       1         1      818.0\n",
      "540     5       1         1      396.0\n",
      "541     5       1         5      475.0\n",
      "542     5       1         1      651.0\n",
      "543     5       1         1     3139.0\n",
      "544     5       1         1      245.0\n",
      "545     5       1         1     3351.0\n",
      "546     5       1         1     1603.0\n",
      "547     5       1         1      495.0\n",
      "548     5       1         1    11657.0\n",
      "549     5       1         1       82.0\n",
      "550     5       1         1      715.0\n",
      "551     5       1         1      495.0\n",
      "552     5       1         1      123.0\n",
      "553     5       1         1      370.0\n",
      "554     5       1         1     1183.0\n",
      "555     5       1         1      143.0\n",
      "556     5       1         1      330.0\n",
      "557     5       1         1      106.0\n",
      "558     5       1         1     1407.0\n",
      "559     5       1         1      270.0\n",
      "560     5       1         2      577.0\n",
      "561     5       1         2      535.0\n",
      "562     5       1         1      755.0\n",
      "563     5       1         4     2099.0\n",
      "564     5       1         1    33767.0\n",
      "565     5       1         1      125.0\n",
      "566     5       1         1      548.0\n",
      "567     5       1         1      121.0\n",
      "\n",
      "[568 rows x 4 columns]\n",
      "2    time unit  tweets  retweets  followers sum  followers max  time\n",
      "0          0      52       109       424498.0       168371.0     0\n",
      "1          1      79       761      2975692.0      2034387.0     1\n",
      "2          2      94       226       860594.0       328882.0     2\n",
      "3          3     101       258      2349147.0       368626.0     3\n",
      "4          4     122       483      1369748.0       291130.0     4\n",
      "1       time  tweets  retweets  followers\n",
      "0        0       1         1      387.0\n",
      "1        0       1         1       96.0\n",
      "2        0       1         1     1768.0\n",
      "3        0       1         1        0.0\n",
      "4        0       1         2    54469.0\n",
      "5        0       1         1      359.0\n",
      "6        0       1         1      751.0\n",
      "7        0       1         1        0.0\n",
      "8        0       1         1      572.0\n",
      "9        0       1         1     4064.0\n",
      "10       0       1         1        9.0\n",
      "11       0       1         1     3010.0\n",
      "12       0       1         1     1519.0\n",
      "13       0       1         1      869.0\n",
      "14       0       1         1     3322.0\n",
      "15       0       1         2    71721.0\n",
      "16       0       1         2      185.0\n",
      "17       0       1         1      564.0\n",
      "18       0       1         2      284.0\n",
      "19       0       1         1      350.0\n",
      "20       0       1         1       59.0\n",
      "21       0       1         1       42.0\n",
      "22       0       1         1       63.0\n",
      "23       0       1         1      316.0\n",
      "24       0       1         1       96.0\n",
      "25       0       1         1       96.0\n",
      "26       0       1         1     1588.0\n",
      "27       0       1         1     2801.0\n",
      "28       0       1         1     2460.0\n",
      "29       0       1         1      769.0\n",
      "...    ...     ...       ...        ...\n",
      "2250     5       1         2     5297.0\n",
      "2251     5       1         1      825.0\n",
      "2252     5       1         1      232.0\n",
      "2253     5       1         1       28.0\n",
      "2254     5       1         1      371.0\n",
      "2255     5       1         1      878.0\n",
      "2256     5       1         1      872.0\n",
      "2257     5       1         1      311.0\n",
      "2258     5       1         1      874.0\n",
      "2259     5       1         1      345.0\n",
      "2260     5       1         1       23.0\n",
      "2261     5       1         1     1540.0\n",
      "2262     5       1         1      468.0\n",
      "2263     5       1         1      350.0\n",
      "2264     5       1         1      428.0\n",
      "2265     5       1         1      313.0\n",
      "2266     5       1         1       12.0\n",
      "2267     5       1         1      189.0\n",
      "2268     5       1         2       78.0\n",
      "2269     5       1         1      164.0\n",
      "2270     5       1         1       68.0\n",
      "2271     5       1         1       15.0\n",
      "2272     5       1         1      147.0\n",
      "2273     5       1         1     7626.0\n",
      "2274     5       1         3      874.0\n",
      "2275     5       1         1    55000.0\n",
      "2276     5       1         1      189.0\n",
      "2277     5       1         1      101.0\n",
      "2278     5       1         1      494.0\n",
      "2279     5       1         1       20.0\n",
      "\n",
      "[2280 rows x 4 columns]\n",
      "2    time unit  tweets  retweets  followers sum  followers max  time\n",
      "0          0     203       526       509311.0       104627.0     0\n",
      "1          1     180       269      1676912.0       959176.0     1\n",
      "2          2     202       382      3434565.0      1813823.0     2\n",
      "3          3     294       549      2182170.0       372800.0     3\n",
      "4          4     555       906      4242856.0       945273.0     4\n",
      "1      time  tweets  retweets  followers\n",
      "0       0       1         1      160.0\n",
      "1       0       1         1      135.0\n",
      "2       0       1         1      547.0\n",
      "3       0       1         1      123.0\n",
      "4       0       1         1       15.0\n",
      "5       0       1         1     1400.0\n",
      "6       0       1         1      249.0\n",
      "7       0       1         1        2.0\n",
      "8       0       1         1      175.0\n",
      "9       0       1         1      381.0\n",
      "10      0       1         1       33.0\n",
      "11      0       1         1        2.0\n",
      "12      0       1         1        1.0\n",
      "13      0       1         1      170.0\n",
      "14      0       1         3       72.0\n",
      "15      0       1         1       30.0\n",
      "16      0       1         1        6.0\n",
      "17      0       1         1       50.0\n",
      "18      0       1         1      321.0\n",
      "19      0       1         1       13.0\n",
      "20      0       1         1      168.0\n",
      "21      0       1         1      546.0\n",
      "22      0       1         1        5.0\n",
      "23      0       1         1       10.0\n",
      "24      0       1         1      275.0\n",
      "25      0       1         1       25.0\n",
      "26      0       1         1      948.0\n",
      "27      0       1         7      867.0\n",
      "28      0       1         2      614.0\n",
      "29      0       1         1      142.0\n",
      "..    ...     ...       ...        ...\n",
      "923     5       1         1      310.0\n",
      "924     5       1         1      182.0\n",
      "925     5       1         1        2.0\n",
      "926     5       1         1       95.0\n",
      "927     5       1         3      574.0\n",
      "928     5       1         1        2.0\n",
      "929     5       1         1       26.0\n",
      "930     5       1         1       13.0\n",
      "931     5       1         1      115.0\n",
      "932     5       1         1      310.0\n",
      "933     5       1         1       63.0\n",
      "934     5       1         1       43.0\n",
      "935     5       1         1      310.0\n",
      "936     5       1         1      137.0\n",
      "937     5       1         1      781.0\n",
      "938     5       1         2     1484.0\n",
      "939     5       1         1     2208.0\n",
      "940     5       1         1     1084.0\n",
      "941     5       1         1        9.0\n",
      "942     5       1         1        2.0\n",
      "943     5       1         1      125.0\n",
      "944     5       1         1      783.0\n",
      "945     5       1         1       43.0\n",
      "946     5       1         2      201.0\n",
      "947     5       1         3      211.0\n",
      "948     5       1         1      742.0\n",
      "949     5       1         1        2.0\n",
      "950     5       1         1     1542.0\n",
      "951     5       1         1     2965.0\n",
      "952     5       1         1      904.0\n",
      "\n",
      "[953 rows x 4 columns]\n",
      "2    time unit  tweets  retweets  followers sum  followers max  time\n",
      "0          0     401       540      2975173.0      2288647.0     0\n",
      "1          1     141       400      1028252.0       519202.0     1\n",
      "2          2     102       150       143752.0        30580.0     2\n",
      "3          3     144       241       147110.0        17766.0     3\n",
      "4          4     104       874      1257257.0       665769.0     4\n"
     ]
    }
   ],
   "source": [
    "(df_test1,df_y_test1),(df_2_test1,df_y_2_test1),(df_3_test1,df_y_3_test1) = parse_dataset(path,test_files_1)\n",
    "(df_test2,df_y_test2),(df_2_test2,df_y_2_test2),(df_3_test2,df_y_3_test2) = parse_dataset(path,test_files_2)\n",
    "(df_test3,df_y_test3),(df_2_test3,df_y_2_test3),(df_3_test3,df_y_3_test3) = parse_dataset(path,test_files_3)"
   ]
  },
  {
   "cell_type": "code",
   "execution_count": 61,
   "metadata": {},
   "outputs": [],
   "source": [
    "df_test1, df_y_test1  =six_times_window(df_test1,df_y_test1)\n",
    "df_2_test1, df_y_2_test1  =six_times_window(df_2_test1,df_y_2_test1)\n",
    "df_3_test1, df_y_3_test1  =six_times_window(df_3_test1,df_y_3_test1)\n",
    "df_test2, df_y_test2  =six_times_window(df_test2,df_y_test2)\n",
    "df_2_test2, df_y_2_test2  =six_times_window(df_2_test2,df_y_2_test2)\n",
    "df_3_test2, df_y_3_test2  =six_times_window(df_3_test2,df_y_3_test2)\n",
    "df_test3, df_y_test3  =six_times_window(df_test3,df_y_test3)\n",
    "df_2_test3, df_y_2_test3  =six_times_window(df_2_test3,df_y_2_test3)\n",
    "df_3_test3, df_y_3_test3  =six_times_window(df_3_test3,df_y_3_test3)"
   ]
  },
  {
   "cell_type": "markdown",
   "metadata": {},
   "source": [
    "# RandomForest"
   ]
  },
  {
   "cell_type": "code",
   "execution_count": 62,
   "metadata": {},
   "outputs": [
    {
     "name": "stderr",
     "output_type": "stream",
     "text": [
      "F:\\Anaconda3\\lib\\site-packages\\ipykernel_launcher.py:2: DataConversionWarning: A column-vector y was passed when a 1d array was expected. Please change the shape of y to (n_samples,), for example using ravel().\n",
      "  \n"
     ]
    },
    {
     "name": "stdout",
     "output_type": "stream",
     "text": [
      "       0\n",
      "0  120.0        0\n",
      "0  846.0       0\n",
      "0  61.0\n",
      "[313.44513279] [445.89946864] [302.05164752]\n"
     ]
    }
   ],
   "source": [
    "reg = RandomForestRegressor(oob_score=True,n_estimators=1800,max_depth=10,min_samples_leaf=1,min_samples_split=2, bootstrap=True,max_features='sqrt',random_state=42)\n",
    "reg.fit(df,df_y)\n",
    "pred = reg.predict(df)\n",
    "pred1=reg.predict(df_test1)\n",
    "pred2=reg.predict(df_test2)\n",
    "pred3=reg.predict(df_test3)\n",
    "print(df_y_test1,df_y_test2,df_y_test3)\n",
    "print(pred1,pred2,pred3)"
   ]
  },
  {
   "cell_type": "code",
   "execution_count": 63,
   "metadata": {},
   "outputs": [
    {
     "name": "stderr",
     "output_type": "stream",
     "text": [
      "F:\\Anaconda3\\lib\\site-packages\\ipykernel_launcher.py:2: DataConversionWarning: A column-vector y was passed when a 1d array was expected. Please change the shape of y to (n_samples,), for example using ravel().\n",
      "  \n"
     ]
    },
    {
     "name": "stdout",
     "output_type": "stream",
     "text": [
      "        0\n",
      "0  1123.0        0\n",
      "0  903.0       0\n",
      "0  28.0\n",
      "[4083.03511045] [447.14194444] [480.53444444]\n"
     ]
    }
   ],
   "source": [
    "reg = RandomForestRegressor(oob_score=True,n_estimators=1800,max_depth=10,min_samples_leaf=1,min_samples_split=2, bootstrap=True,max_features='sqrt',random_state=42)\n",
    "reg.fit(df_2,df_y_2)\n",
    "pred = reg.predict(df_2)\n",
    "pred1=reg.predict(df_2_test1)\n",
    "pred2=reg.predict(df_2_test2)\n",
    "pred3=reg.predict(df_2_test3)\n",
    "print(df_y_2_test1,df_y_2_test2,df_y_2_test3)\n",
    "print(pred1,pred2,pred3)"
   ]
  },
  {
   "cell_type": "code",
   "execution_count": 64,
   "metadata": {},
   "outputs": [
    {
     "name": "stderr",
     "output_type": "stream",
     "text": [
      "F:\\Anaconda3\\lib\\site-packages\\ipykernel_launcher.py:2: DataConversionWarning: A column-vector y was passed when a 1d array was expected. Please change the shape of y to (n_samples,), for example using ravel().\n",
      "  \n"
     ]
    },
    {
     "name": "stdout",
     "output_type": "stream",
     "text": [
      "      0\n",
      "0  87.0       0\n",
      "0  46.0       0\n",
      "0  43.0\n",
      "[1963.00261376] [2010.18745635] [2013.08078968]\n"
     ]
    }
   ],
   "source": [
    "reg = RandomForestRegressor(oob_score=True,n_estimators=1800,max_depth=10,min_samples_leaf=1,min_samples_split=2, bootstrap=True,max_features='sqrt',random_state=42)\n",
    "reg.fit(df_3,df_y_3)\n",
    "pred = reg.predict(df_3)\n",
    "pred1=reg.predict(df_3_test1)\n",
    "pred2=reg.predict(df_3_test2)\n",
    "pred3=reg.predict(df_3_test3)\n",
    "print(df_y_3_test1,df_y_3_test2,df_y_3_test3)\n",
    "print(pred1,pred2,pred3)"
   ]
  },
  {
   "cell_type": "code",
   "execution_count": null,
   "metadata": {},
   "outputs": [],
   "source": []
  },
  {
   "cell_type": "markdown",
   "metadata": {},
   "source": [
    "# GradientBoostingRegressor"
   ]
  },
  {
   "cell_type": "code",
   "execution_count": null,
   "metadata": {},
   "outputs": [],
   "source": [
    "reg = GradientBoostingRegressor(n_estimators=1800,max_depth=10,min_samples_leaf=1,min_samples_split=2, max_features='sqrt',random_state=42)\n",
    "reg.fit(df,df_y)\n",
    "pred = reg.predict(df)\n",
    "pred1=reg.predict(df_test1)\n",
    "pred2=reg.predict(df_test2)\n",
    "pred3=reg.predict(df_test3)\n",
    "print(df_y_test1,df_y_test2,df_y_test3)\n",
    "print(pred1,pred2,pred3)"
   ]
  },
  {
   "cell_type": "code",
   "execution_count": null,
   "metadata": {},
   "outputs": [],
   "source": [
    "reg = GradientBoostingRegressor(n_estimators=1800,max_depth=10,min_samples_leaf=1,min_samples_split=2, max_features='sqrt',random_state=42)\n",
    "reg.fit(df_2,df_y_2)\n",
    "pred = reg.predict(df_2)\n",
    "pred1=reg.predict(df_2_test1)\n",
    "pred2=reg.predict(df_2_test2)\n",
    "pred3=reg.predict(df_2_test3)\n",
    "print(df_y_2_test1,df_y_2_test2,df_y_2_test3)\n",
    "print(pred1,pred2,pred3)"
   ]
  },
  {
   "cell_type": "code",
   "execution_count": null,
   "metadata": {},
   "outputs": [],
   "source": [
    "reg = GradientBoostingRegressor(n_estimators=1800,max_depth=10,min_samples_leaf=1,min_samples_split=2, max_features='sqrt',random_state=42)\n",
    "reg.fit(df_3,df_y_3)\n",
    "pred = reg.predict(df_3)\n",
    "pred1=reg.predict(df_3_test1)\n",
    "pred2=reg.predict(df_3_test2)\n",
    "pred3=reg.predict(df_3_test3)\n",
    "print(df_y_3_test1,df_y_3_test2,df_y_3_test3)\n",
    "print(pred1,pred2,pred3)"
   ]
  },
  {
   "cell_type": "markdown",
   "metadata": {},
   "source": [
    "# Neural Network"
   ]
  },
  {
   "cell_type": "code",
   "execution_count": 75,
   "metadata": {},
   "outputs": [
    {
     "name": "stderr",
     "output_type": "stream",
     "text": [
      "F:\\Anaconda3\\lib\\site-packages\\sklearn\\neural_network\\multilayer_perceptron.py:1316: DataConversionWarning: A column-vector y was passed when a 1d array was expected. Please change the shape of y to (n_samples, ), for example using ravel().\n",
      "  y = column_or_1d(y, warn=True)\n"
     ]
    },
    {
     "name": "stdout",
     "output_type": "stream",
     "text": [
      "MSE= 4654979.667617774\n",
      "       0\n",
      "0  120.0        0\n",
      "0  846.0       0\n",
      "0  61.0\n",
      "[354.5808791] [475.1309108] [426.36961269]\n"
     ]
    },
    {
     "name": "stderr",
     "output_type": "stream",
     "text": [
      "F:\\Anaconda3\\lib\\site-packages\\sklearn\\neural_network\\multilayer_perceptron.py:562: ConvergenceWarning: Stochastic Optimizer: Maximum iterations (200) reached and the optimization hasn't converged yet.\n",
      "  % self.max_iter, ConvergenceWarning)\n"
     ]
    }
   ],
   "source": [
    "scaler = StandardScaler()\n",
    "scaler.fit(df)\n",
    "df_trans=scaler.transform(df)\n",
    "reg = MLPRegressor(hidden_layer_sizes=(50,600,300,),activation='relu', solver='adam', alpha=1e-5, random_state=42) \n",
    "reg.fit(df_trans,df_y)\n",
    "pred = reg.predict(df_trans)\n",
    "print(\"MSE=\",mean_squared_error(df_y, pred))\n",
    "pred1=reg.predict(scaler.transform(df_test1))\n",
    "pred2=reg.predict(scaler.transform(df_test2))\n",
    "pred3=reg.predict(scaler.transform(df_test3))\n",
    "print(df_y_test1,df_y_test2,df_y_test3)\n",
    "print(pred1,pred2,pred3)"
   ]
  },
  {
   "cell_type": "code",
   "execution_count": 77,
   "metadata": {},
   "outputs": [
    {
     "name": "stderr",
     "output_type": "stream",
     "text": [
      "F:\\Anaconda3\\lib\\site-packages\\sklearn\\neural_network\\multilayer_perceptron.py:1316: DataConversionWarning: A column-vector y was passed when a 1d array was expected. Please change the shape of y to (n_samples, ), for example using ravel().\n",
      "  y = column_or_1d(y, warn=True)\n"
     ]
    },
    {
     "name": "stdout",
     "output_type": "stream",
     "text": [
      "MSE= 34971679.41333595\n",
      "        0\n",
      "0  1123.0        0\n",
      "0  903.0       0\n",
      "0  28.0\n",
      "[4126.05657568] [4505.05741753] [5353.98825553]\n"
     ]
    },
    {
     "name": "stderr",
     "output_type": "stream",
     "text": [
      "F:\\Anaconda3\\lib\\site-packages\\sklearn\\neural_network\\multilayer_perceptron.py:562: ConvergenceWarning: Stochastic Optimizer: Maximum iterations (200) reached and the optimization hasn't converged yet.\n",
      "  % self.max_iter, ConvergenceWarning)\n"
     ]
    }
   ],
   "source": [
    "scaler = StandardScaler()\n",
    "scaler.fit(df_2)\n",
    "df_2_trans=scaler.transform(df_2)\n",
    "reg = MLPRegressor(hidden_layer_sizes=(600,600,600,),activation='relu', solver='adam', alpha=1e-5, random_state=42) \n",
    "reg.fit(df_2_trans,df_y_2)\n",
    "pred = reg.predict(df_2_trans)\n",
    "print(\"MSE=\",mean_squared_error(df_y_2, pred))\n",
    "pred1=reg.predict(scaler.transform(df_2_test1))\n",
    "pred2=reg.predict(scaler.transform(df_2_test2))\n",
    "pred3=reg.predict(scaler.transform(df_2_test3))\n",
    "print(df_y_2_test1,df_y_2_test2,df_y_2_test3)\n",
    "print(pred1,pred2,pred3)"
   ]
  },
  {
   "cell_type": "code",
   "execution_count": 78,
   "metadata": {},
   "outputs": [
    {
     "data": {
      "image/png": "[encoded data removed]",
      "text/plain": [
       "<Figure size 432x288 with 1 Axes>"
      ]
     },
     "metadata": {
      "needs_background": "light"
     },
     "output_type": "display_data"
    }
   ],
   "source": [
    "plot_recipe(df_y_2,pred)"
   ]
  },
  {
   "cell_type": "code",
   "execution_count": 71,
   "metadata": {},
   "outputs": [
    {
     "name": "stdout",
     "output_type": "stream",
     "text": [
      "MSE= 3645394.08023241\n",
      "      0\n",
      "0  87.0       0\n",
      "0  46.0       0\n",
      "0  43.0\n",
      "[228.12192698] [193.09509418] [192.79872034]\n"
     ]
    },
    {
     "name": "stderr",
     "output_type": "stream",
     "text": [
      "F:\\Anaconda3\\lib\\site-packages\\sklearn\\neural_network\\multilayer_perceptron.py:1316: DataConversionWarning: A column-vector y was passed when a 1d array was expected. Please change the shape of y to (n_samples, ), for example using ravel().\n",
      "  y = column_or_1d(y, warn=True)\n",
      "F:\\Anaconda3\\lib\\site-packages\\sklearn\\neural_network\\multilayer_perceptron.py:562: ConvergenceWarning: Stochastic Optimizer: Maximum iterations (200) reached and the optimization hasn't converged yet.\n",
      "  % self.max_iter, ConvergenceWarning)\n"
     ]
    }
   ],
   "source": [
    "scaler = StandardScaler()\n",
    "scaler.fit(df_3)\n",
    "df_3_trans=scaler.transform(df_3)\n",
    "reg = MLPRegressor(hidden_layer_sizes=(40,20,15,),activation='relu', solver='adam', alpha=1e-5, random_state=42) \n",
    "reg.fit(df_3_trans,df_y_3)\n",
    "pred = reg.predict(df_3_trans)\n",
    "print(\"MSE=\",mean_squared_error(df_y_3, pred))\n",
    "pred1=reg.predict(scaler.transform(df_3_test1))\n",
    "pred2=reg.predict(scaler.transform(df_3_test2))\n",
    "pred3=reg.predict(scaler.transform(df_3_test3))\n",
    "print(df_y_3_test1,df_y_3_test2,df_y_3_test3)\n",
    "print(pred1,pred2,pred3)"
   ]
  },
  {
   "cell_type": "code",
   "execution_count": null,
   "metadata": {},
   "outputs": [],
   "source": []
  },
  {
   "cell_type": "code",
   "execution_count": null,
   "metadata": {},
   "outputs": [],
   "source": []
  },
  {
   "cell_type": "code",
   "execution_count": null,
   "metadata": {},
   "outputs": [],
   "source": []
  },
  {
   "cell_type": "code",
   "execution_count": null,
   "metadata": {},
   "outputs": [],
   "source": []
  },
  {
   "cell_type": "code",
   "execution_count": null,
   "metadata": {},
   "outputs": [],
   "source": []
  }
 ],
 "metadata": {
  "kernelspec": {
   "display_name": "Python 3",
   "language": "python",
   "name": "python3"
  },
  "language_info": {
   "codemirror_mode": {
    "name": "ipython",
    "version": 3
   },
   "file_extension": ".py",
   "mimetype": "text/x-python",
   "name": "python",
   "nbconvert_exporter": "python",
   "pygments_lexer": "ipython3",
   "version": "3.7.1"
  }
 },
 "nbformat": 4,
 "nbformat_minor": 2
}
