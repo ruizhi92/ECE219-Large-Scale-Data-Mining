{
 "cells": [
  {
   "cell_type": "markdown",
   "metadata": {},
   "source": [
    "# Question 3, linear regression"
   ]
  },
  {
   "cell_type": "code",
   "execution_count": 1,
   "metadata": {},
   "outputs": [],
   "source": [
    "import json\n",
    "import datetime\n",
    "import pytz\n",
    "import numpy as np\n",
    "import matplotlib.pyplot as plt\n",
    "import pandas as pd\n",
    "from sklearn.linear_model import LinearRegression\n",
    "from sklearn.model_selection import KFold\n",
    "from sklearn.metrics import mean_squared_error, r2_score\n",
    "from statistics import mean\n",
    "import statsmodels.api as sm"
   ]
  },
  {
   "cell_type": "code",
   "execution_count": 2,
   "metadata": {},
   "outputs": [
    {
     "name": "stdout",
     "output_type": "stream",
     "text": [
      "files[0] => tweets_#gohawks.txt\n",
      "files[1] => tweets_#gopatriots.txt\n",
      "files[2] => tweets_#nfl.txt\n",
      "files[3] => tweets_#patriots.txt\n",
      "files[4] => tweets_#sb49.txt\n",
      "files[5] => tweets_#superbowl.txt\n"
     ]
    }
   ],
   "source": [
    "path = \"../../projects/project_5/ECE219_tweet_data/\"\n",
    "\n",
    "files = [\"tweets_#gohawks.txt\", \"tweets_#gopatriots.txt\", \\\n",
    "        \"tweets_#nfl.txt\", \"tweets_#patriots.txt\", \\\n",
    "        \"tweets_#sb49.txt\", \"tweets_#superbowl.txt\"]\n",
    "topics = [\"gohawks\", \"gopatriots\", \"nfl\", \"patriots\", \"sb49\", \"superbowl\"]\n",
    "\n",
    "for i, fl in enumerate(files):\n",
    "    print(\"files[\" + str(i) + \"] => \" + fl)"
   ]
  },
  {
   "cell_type": "markdown",
   "metadata": {},
   "source": [
    "#### Prepare for data"
   ]
  },
  {
   "cell_type": "code",
   "execution_count": 25,
   "metadata": {},
   "outputs": [],
   "source": [
    "def prase_dataset(file):\n",
    "    \"\"\"\n",
    "    Prase x conponent of the dataset into pandas DataFrame including columns of:\n",
    "    tweets, retweets, total_followers, max_followers, hour of the day\n",
    "    with lines of hours,\n",
    "    Prase y of dataset as number of tweets in the next hour.\n",
    "    \"\"\"\n",
    "   \n",
    "    # extract raw features\n",
    "    pst_tz = pytz.timezone('America/Los_Angeles')\n",
    "    data_raw = []\n",
    "    for line in open(path + file, 'r') :\n",
    "        row_tmp = []\n",
    "        a = json.loads(line)\n",
    "        time = a['citation_date']\n",
    "        retweet = a['metrics']['citations']['total']\n",
    "        foll = a['author']['followers']        \n",
    "        row_tmp.append(time)\n",
    "        row_tmp.append(retweet)\n",
    "        row_tmp.append(foll)        \n",
    "        data_raw.append(row_tmp)\n",
    "    \n",
    "    # sort according to time\n",
    "    pddata_raw = pd.DataFrame(data_raw,columns=['time','retweets','followers'])\n",
    "    pddata_raw = pddata_raw.sort_values(by = 'time')\n",
    "    pddata_raw = pddata_raw.reset_index(drop=True)\n",
    "    pddata_raw['tweets'] = 1    \n",
    "#     print(pddata_raw)\n",
    "\n",
    "    # reset time to hour index\n",
    "    hour_accu = []\n",
    "    hour_day = []\n",
    "    for index, row in pddata_raw.iterrows():  \n",
    "        p = datetime.datetime.fromtimestamp(row[\"time\"], pst_tz)  \n",
    "        hour_accu.append(((p.month-1)*31+p.day-14)*24+p.hour)\n",
    "        hour_day.append(p.hour)    \n",
    "    pddata_raw[\"time\"] = hour_accu\n",
    "    pddata_raw[\"hour of day\"] = hour_day\n",
    "    \n",
    "    # create a new dataframe with desired form\n",
    "    df = pd.DataFrame([],columns=['hour index','tweets','retweets','followers sum','followers max','hour of day'])\n",
    "    df['hour index'] = range(pddata_raw.iloc[len(pddata_raw.index)-1,0]+1)\n",
    "    df['tweets'] = pddata_raw.groupby(\"time\")['tweets'].sum()\n",
    "    df['retweets'] = pddata_raw.groupby(\"time\")['retweets'].sum()\n",
    "    df['followers sum'] = pddata_raw.groupby(\"time\")['followers'].sum()\n",
    "    df['followers max'] = pddata_raw.groupby(\"time\")[\"followers\"].max()\n",
    "    df['hour of day'] = pddata_raw.groupby(\"time\")['hour of day'].mean()\n",
    "    df = df.drop([0]).fillna(0).reset_index(drop=True)\n",
    "\n",
    "    # assign number of tweets of the next hour to be the target value\n",
    "    df_y = df.iloc[1:,1].reset_index(drop=True)\n",
    "    df = df[:len(df_y)]\n",
    "    \n",
    "    return df.iloc[:,1:],df_y"
   ]
  },
  {
   "cell_type": "markdown",
   "metadata": {},
   "source": [
    "#### Train linear regression model"
   ]
  },
  {
   "cell_type": "code",
   "execution_count": 58,
   "metadata": {},
   "outputs": [],
   "source": [
    "def train_lr(i):\n",
    "    \"\"\"\n",
    "    This function gets data and train using a linear regression model\n",
    "    \"\"\"    \n",
    "    df, df_y = prase_dataset(files[i])\n",
    "\n",
    "    reg = LinearRegression().fit(df, df_y)\n",
    "    pred_y = reg.predict(df)\n",
    "    MSE = mean_squared_error(df_y, pred_y)\n",
    "    R2 = r2_score(df_y, pred_y)\n",
    "    \n",
    "    print(topics[i])\n",
    "    print('MSE for test data = ',MSE)\n",
    "    print('R2 score for test data = ',R2)   \n",
    "    \n",
    "    return df, df_y, pred_y"
   ]
  },
  {
   "cell_type": "code",
   "execution_count": 59,
   "metadata": {},
   "outputs": [],
   "source": [
    "def plot_recipe(df_y, pred_y):\n",
    "    \"\"\"\n",
    "    This function plots fitted values vs true values\n",
    "    \"\"\"\n",
    "    plt.figure()\n",
    "    area = np.pi * (4)**2/4\n",
    "    plt.scatter(df_y, pred_y, s = area)\n",
    "    plt.plot([df_y.min(), df_y.max()], [df_y.min(), df_y.max()], 'k--', lw = 1)\n",
    "    plt.xlabel('true values')\n",
    "    plt.ylabel('fitted values')\n",
    "    plt.show()"
   ]
  },
  {
   "cell_type": "code",
   "execution_count": 60,
   "metadata": {},
   "outputs": [],
   "source": [
    "def ols_regression(df, df_y):\n",
    "    X2 = sm.add_constant(df)\n",
    "    y = df_y.as_matrix()\n",
    "    lm = sm.OLS(y, X2).fit()\n",
    "    print(lm.summary())\n",
    "    print(list(df))"
   ]
  },
  {
   "cell_type": "markdown",
   "metadata": {},
   "source": [
    "## Results"
   ]
  },
  {
   "cell_type": "markdown",
   "metadata": {},
   "source": [
    "#### gohawks"
   ]
  },
  {
   "cell_type": "code",
   "execution_count": 61,
   "metadata": {},
   "outputs": [
    {
     "name": "stdout",
     "output_type": "stream",
     "text": [
      "gohawks\n",
      "MSE for test data =  759843.8445222701\n",
      "R2 score for test data =  0.4764399847953503\n"
     ]
    },
    {
     "data": {
      "image/png": "[encoded data removed]",
      "text/plain": [
       "<matplotlib.figure.Figure at 0x7f9da96ddb38>"
      ]
     },
     "metadata": {},
     "output_type": "display_data"
    },
    {
     "name": "stdout",
     "output_type": "stream",
     "text": [
      "                            OLS Regression Results                            \n",
      "==============================================================================\n",
      "Dep. Variable:                      y   R-squared:                       0.476\n",
      "Model:                            OLS   Adj. R-squared:                  0.472\n",
      "Method:                 Least Squares   F-statistic:                     103.9\n",
      "Date:                Tue, 19 Mar 2019   Prob (F-statistic):           7.03e-78\n",
      "Time:                        01:13:46   Log-Likelihood:                -4725.3\n",
      "No. Observations:                 577   AIC:                             9463.\n",
      "Df Residuals:                     571   BIC:                             9489.\n",
      "Df Model:                           5                                         \n",
      "Covariance Type:            nonrobust                                         \n",
      "=================================================================================\n",
      "                    coef    std err          t      P>|t|      [0.025      0.975]\n",
      "---------------------------------------------------------------------------------\n",
      "const            94.2103     70.292      1.340      0.181     -43.852     232.273\n",
      "tweets            1.2824      0.164      7.822      0.000       0.960       1.604\n",
      "retweets         -0.1365      0.044     -3.135      0.002      -0.222      -0.051\n",
      "followers sum    -0.0002   8.01e-05     -2.425      0.016      -0.000   -3.69e-05\n",
      "followers max  6.102e-05      0.000      0.409      0.683      -0.000       0.000\n",
      "hour of day       1.7189      5.316      0.323      0.747      -8.722      12.159\n",
      "==============================================================================\n",
      "Omnibus:                      914.731   Durbin-Watson:                   2.216\n",
      "Prob(Omnibus):                  0.000   Jarque-Bera (JB):           778994.704\n",
      "Skew:                           8.683   Prob(JB):                         0.00\n",
      "Kurtosis:                     182.165   Cond. No.                     5.11e+06\n",
      "==============================================================================\n",
      "\n",
      "Warnings:\n",
      "[1] Standard Errors assume that the covariance matrix of the errors is correctly specified.\n",
      "[2] The condition number is large, 5.11e+06. This might indicate that there are\n",
      "strong multicollinearity or other numerical problems.\n",
      "['tweets', 'retweets', 'followers sum', 'followers max', 'hour of day']\n"
     ]
    }
   ],
   "source": [
    "df, df_y, pred_y = train_lr(0)\n",
    "plot_recipe(df_y,pred_y)\n",
    "ols_regression(df, df_y)"
   ]
  },
  {
   "cell_type": "markdown",
   "metadata": {},
   "source": [
    "#### gopatriots"
   ]
  },
  {
   "cell_type": "code",
   "execution_count": 62,
   "metadata": {},
   "outputs": [
    {
     "name": "stdout",
     "output_type": "stream",
     "text": [
      "gopatriots\n",
      "MSE for test data =  27588.58568971645\n",
      "R2 score for test data =  0.6293383566038233\n"
     ]
    },
    {
     "data": {
      "image/png": "[encoded data removed]",
      "text/plain": [
       "<matplotlib.figure.Figure at 0x7f9d9fa9b198>"
      ]
     },
     "metadata": {},
     "output_type": "display_data"
    },
    {
     "name": "stdout",
     "output_type": "stream",
     "text": [
      "                            OLS Regression Results                            \n",
      "==============================================================================\n",
      "Dep. Variable:                      y   R-squared:                       0.629\n",
      "Model:                            OLS   Adj. R-squared:                  0.626\n",
      "Method:                 Least Squares   F-statistic:                     192.9\n",
      "Date:                Tue, 19 Mar 2019   Prob (F-statistic):          7.06e-120\n",
      "Time:                        01:13:48   Log-Likelihood:                -3749.1\n",
      "No. Observations:                 574   AIC:                             7510.\n",
      "Df Residuals:                     568   BIC:                             7536.\n",
      "Df Model:                           5                                         \n",
      "Covariance Type:            nonrobust                                         \n",
      "=================================================================================\n",
      "                    coef    std err          t      P>|t|      [0.025      0.975]\n",
      "---------------------------------------------------------------------------------\n",
      "const             6.0229     10.869      0.554      0.580     -15.325      27.371\n",
      "tweets            0.3073      0.285      1.079      0.281      -0.252       0.866\n",
      "retweets          0.4892      0.192      2.550      0.011       0.112       0.866\n",
      "followers sum    -0.0001      0.000     -0.504      0.614      -0.001       0.000\n",
      "followers max  -2.36e-05      0.000     -0.108      0.914      -0.000       0.000\n",
      "hour of day       0.1144      0.938      0.122      0.903      -1.728       1.956\n",
      "==============================================================================\n",
      "Omnibus:                      485.015   Durbin-Watson:                   1.908\n",
      "Prob(Omnibus):                  0.000   Jarque-Bera (JB):           290846.979\n",
      "Skew:                           2.515   Prob(JB):                         0.00\n",
      "Kurtosis:                     113.161   Cond. No.                     6.00e+05\n",
      "==============================================================================\n",
      "\n",
      "Warnings:\n",
      "[1] Standard Errors assume that the covariance matrix of the errors is correctly specified.\n",
      "[2] The condition number is large,  6e+05. This might indicate that there are\n",
      "strong multicollinearity or other numerical problems.\n",
      "['tweets', 'retweets', 'followers sum', 'followers max', 'hour of day']\n"
     ]
    }
   ],
   "source": [
    "df, df_y, pred_y = train_lr(1)\n",
    "plot_recipe(df_y,pred_y)\n",
    "ols_regression(df, df_y)"
   ]
  },
  {
   "cell_type": "markdown",
   "metadata": {},
   "source": [
    "#### nfl"
   ]
  },
  {
   "cell_type": "code",
   "execution_count": 63,
   "metadata": {},
   "outputs": [
    {
     "name": "stdout",
     "output_type": "stream",
     "text": [
      "nfl\n",
      "MSE for test data =  270401.9140603445\n",
      "R2 score for test data =  0.5707688538937594\n"
     ]
    },
    {
     "data": {
      "image/png": "[encoded data removed]",
      "text/plain": [
       "<matplotlib.figure.Figure at 0x7f9d9fa6e7b8>"
      ]
     },
     "metadata": {},
     "output_type": "display_data"
    },
    {
     "name": "stdout",
     "output_type": "stream",
     "text": [
      "                            OLS Regression Results                            \n",
      "==============================================================================\n",
      "Dep. Variable:                      y   R-squared:                       0.571\n",
      "Model:                            OLS   Adj. R-squared:                  0.567\n",
      "Method:                 Least Squares   F-statistic:                     154.0\n",
      "Date:                Tue, 19 Mar 2019   Prob (F-statistic):          7.45e-104\n",
      "Time:                        01:14:23   Log-Likelihood:                -4488.6\n",
      "No. Observations:                 585   AIC:                             8989.\n",
      "Df Residuals:                     579   BIC:                             9015.\n",
      "Df Model:                           5                                         \n",
      "Covariance Type:            nonrobust                                         \n",
      "=================================================================================\n",
      "                    coef    std err          t      P>|t|      [0.025      0.975]\n",
      "---------------------------------------------------------------------------------\n",
      "const           123.7556     42.809      2.891      0.004      39.676     207.835\n",
      "tweets            0.5667      0.135      4.196      0.000       0.301       0.832\n",
      "retweets         -0.1653      0.064     -2.590      0.010      -0.291      -0.040\n",
      "followers sum     0.0001    2.5e-05      4.577      0.000    6.53e-05       0.000\n",
      "followers max    -0.0001   3.31e-05     -3.525      0.000      -0.000   -5.17e-05\n",
      "hour of day       0.4475      3.148      0.142      0.887      -5.736       6.631\n",
      "==============================================================================\n",
      "Omnibus:                      668.832   Durbin-Watson:                   2.373\n",
      "Prob(Omnibus):                  0.000   Jarque-Bera (JB):           349115.930\n",
      "Skew:                           4.594   Prob(JB):                         0.00\n",
      "Kurtosis:                     122.324   Cond. No.                     8.57e+06\n",
      "==============================================================================\n",
      "\n",
      "Warnings:\n",
      "[1] Standard Errors assume that the covariance matrix of the errors is correctly specified.\n",
      "[2] The condition number is large, 8.57e+06. This might indicate that there are\n",
      "strong multicollinearity or other numerical problems.\n",
      "['tweets', 'retweets', 'followers sum', 'followers max', 'hour of day']\n"
     ]
    }
   ],
   "source": [
    "df, df_y, pred_y = train_lr(2)\n",
    "plot_recipe(df_y,pred_y)\n",
    "ols_regression(df, df_y)"
   ]
  },
  {
   "cell_type": "markdown",
   "metadata": {},
   "source": [
    "#### patriots"
   ]
  },
  {
   "cell_type": "code",
   "execution_count": 64,
   "metadata": {},
   "outputs": [
    {
     "name": "stdout",
     "output_type": "stream",
     "text": [
      "patriots\n",
      "MSE for test data =  5189695.980567308\n",
      "R2 score for test data =  0.6684079890987789\n"
     ]
    },
    {
     "data": {
      "image/png": "[encoded data removed]",
      "text/plain": [
       "<matplotlib.figure.Figure at 0x7f9de4f35eb8>"
      ]
     },
     "metadata": {},
     "output_type": "display_data"
    },
    {
     "name": "stdout",
     "output_type": "stream",
     "text": [
      "                            OLS Regression Results                            \n",
      "==============================================================================\n",
      "Dep. Variable:                      y   R-squared:                       0.668\n",
      "Model:                            OLS   Adj. R-squared:                  0.666\n",
      "Method:                 Least Squares   F-statistic:                     233.4\n",
      "Date:                Tue, 19 Mar 2019   Prob (F-statistic):          3.35e-136\n",
      "Time:                        01:14:56   Log-Likelihood:                -5352.8\n",
      "No. Observations:                 585   AIC:                         1.072e+04\n",
      "Df Residuals:                     579   BIC:                         1.074e+04\n",
      "Df Model:                           5                                         \n",
      "Covariance Type:            nonrobust                                         \n",
      "=================================================================================\n",
      "                    coef    std err          t      P>|t|      [0.025      0.975]\n",
      "---------------------------------------------------------------------------------\n",
      "const           181.2843    184.677      0.982      0.327    -181.435     544.003\n",
      "tweets            0.9144      0.071     12.926      0.000       0.775       1.053\n",
      "retweets         -0.0680      0.058     -1.177      0.240      -0.182       0.045\n",
      "followers sum -1.098e-05   2.63e-05     -0.417      0.677   -6.27e-05    4.08e-05\n",
      "followers max     0.0001   9.17e-05      1.338      0.182   -5.75e-05       0.000\n",
      "hour of day      -5.9285     13.808     -0.429      0.668     -33.048      21.191\n",
      "==============================================================================\n",
      "Omnibus:                      885.848   Durbin-Watson:                   1.998\n",
      "Prob(Omnibus):                  0.000   Jarque-Bera (JB):           686964.092\n",
      "Skew:                           7.930   Prob(JB):                         0.00\n",
      "Kurtosis:                     170.127   Cond. No.                     1.60e+07\n",
      "==============================================================================\n",
      "\n",
      "Warnings:\n",
      "[1] Standard Errors assume that the covariance matrix of the errors is correctly specified.\n",
      "[2] The condition number is large, 1.6e+07. This might indicate that there are\n",
      "strong multicollinearity or other numerical problems.\n",
      "['tweets', 'retweets', 'followers sum', 'followers max', 'hour of day']\n"
     ]
    }
   ],
   "source": [
    "df, df_y, pred_y = train_lr(3)\n",
    "plot_recipe(df_y,pred_y)\n",
    "ols_regression(df, df_y)"
   ]
  },
  {
   "cell_type": "markdown",
   "metadata": {},
   "source": [
    "#### sb49"
   ]
  },
  {
   "cell_type": "code",
   "execution_count": 65,
   "metadata": {},
   "outputs": [
    {
     "name": "stdout",
     "output_type": "stream",
     "text": [
      "sb49\n",
      "MSE for test data =  16107134.315916983\n",
      "R2 score for test data =  0.804588854407114\n"
     ]
    },
    {
     "data": {
      "image/png": "[encoded data removed]",
      "text/plain": [
       "<matplotlib.figure.Figure at 0x7f9da9838588>"
      ]
     },
     "metadata": {},
     "output_type": "display_data"
    },
    {
     "name": "stdout",
     "output_type": "stream",
     "text": [
      "                            OLS Regression Results                            \n",
      "==============================================================================\n",
      "Dep. Variable:                      y   R-squared:                       0.805\n",
      "Model:                            OLS   Adj. R-squared:                  0.803\n",
      "Method:                 Least Squares   F-statistic:                     476.8\n",
      "Date:                Tue, 19 Mar 2019   Prob (F-statistic):          1.45e-202\n",
      "Time:                        01:15:52   Log-Likelihood:                -5684.1\n",
      "No. Observations:                 585   AIC:                         1.138e+04\n",
      "Df Residuals:                     579   BIC:                         1.141e+04\n",
      "Df Model:                           5                                         \n",
      "Covariance Type:            nonrobust                                         \n",
      "=================================================================================\n",
      "                    coef    std err          t      P>|t|      [0.025      0.975]\n",
      "---------------------------------------------------------------------------------\n",
      "const           171.9764    299.240      0.575      0.566    -415.752     759.705\n",
      "tweets            1.1364      0.087     13.053      0.000       0.965       1.307\n",
      "retweets         -0.1607      0.079     -2.046      0.041      -0.315      -0.006\n",
      "followers sum  9.744e-06   1.25e-05      0.781      0.435   -1.48e-05    3.43e-05\n",
      "followers max  9.544e-05   4.37e-05      2.184      0.029    9.62e-06       0.000\n",
      "hour of day     -14.0619     23.216     -0.606      0.545     -59.660      31.537\n",
      "==============================================================================\n",
      "Omnibus:                     1186.403   Durbin-Watson:                   1.673\n",
      "Prob(Omnibus):                  0.000   Jarque-Bera (JB):          2239749.831\n",
      "Skew:                          14.620   Prob(JB):                         0.00\n",
      "Kurtosis:                     304.715   Cond. No.                     1.43e+08\n",
      "==============================================================================\n",
      "\n",
      "Warnings:\n",
      "[1] Standard Errors assume that the covariance matrix of the errors is correctly specified.\n",
      "[2] The condition number is large, 1.43e+08. This might indicate that there are\n",
      "strong multicollinearity or other numerical problems.\n",
      "['tweets', 'retweets', 'followers sum', 'followers max', 'hour of day']\n"
     ]
    }
   ],
   "source": [
    "df, df_y, pred_y = train_lr(4)\n",
    "plot_recipe(df_y,pred_y)\n",
    "ols_regression(df, df_y)"
   ]
  },
  {
   "cell_type": "markdown",
   "metadata": {},
   "source": [
    "#### superbowl"
   ]
  },
  {
   "cell_type": "code",
   "execution_count": 66,
   "metadata": {},
   "outputs": [
    {
     "name": "stdout",
     "output_type": "stream",
     "text": [
      "superbowl\n",
      "MSE for test data =  52573154.30093935\n",
      "R2 score for test data =  0.7998348436989455\n"
     ]
    },
    {
     "data": {
      "image/png": "[encoded data removed]",
      "text/plain": [
       "<matplotlib.figure.Figure at 0x7f9df3e2f048>"
      ]
     },
     "metadata": {},
     "output_type": "display_data"
    },
    {
     "name": "stdout",
     "output_type": "stream",
     "text": [
      "                            OLS Regression Results                            \n",
      "==============================================================================\n",
      "Dep. Variable:                      y   R-squared:                       0.800\n",
      "Model:                            OLS   Adj. R-squared:                  0.798\n",
      "Method:                 Least Squares   F-statistic:                     462.7\n",
      "Date:                Tue, 19 Mar 2019   Prob (F-statistic):          1.51e-199\n",
      "Time:                        01:17:24   Log-Likelihood:                -6030.1\n",
      "No. Observations:                 585   AIC:                         1.207e+04\n",
      "Df Residuals:                     579   BIC:                         1.210e+04\n",
      "Df Model:                           5                                         \n",
      "Covariance Type:            nonrobust                                         \n",
      "=================================================================================\n",
      "                    coef    std err          t      P>|t|      [0.025      0.975]\n",
      "---------------------------------------------------------------------------------\n",
      "const          -150.5245    608.009     -0.248      0.805   -1344.696    1043.647\n",
      "tweets            2.2766      0.080     28.512      0.000       2.120       2.433\n",
      "retweets         -0.2543      0.046     -5.539      0.000      -0.344      -0.164\n",
      "followers sum    -0.0001    2.2e-05     -6.259      0.000      -0.000   -9.47e-05\n",
      "followers max     0.0007      0.000      4.884      0.000       0.000       0.001\n",
      "hour of day     -20.4414     43.757     -0.467      0.641    -106.383      65.500\n",
      "==============================================================================\n",
      "Omnibus:                      971.880   Durbin-Watson:                   2.283\n",
      "Prob(Omnibus):                  0.000   Jarque-Bera (JB):          1778202.995\n",
      "Skew:                           9.264   Prob(JB):                         0.00\n",
      "Kurtosis:                     272.460   Cond. No.                     2.22e+08\n",
      "==============================================================================\n",
      "\n",
      "Warnings:\n",
      "[1] Standard Errors assume that the covariance matrix of the errors is correctly specified.\n",
      "[2] The condition number is large, 2.22e+08. This might indicate that there are\n",
      "strong multicollinearity or other numerical problems.\n",
      "['tweets', 'retweets', 'followers sum', 'followers max', 'hour of day']\n"
     ]
    }
   ],
   "source": [
    "df, df_y, pred_y = train_lr(5)\n",
    "plot_recipe(df_y,pred_y)\n",
    "ols_regression(df, df_y)"
   ]
  },
  {
   "cell_type": "code",
   "execution_count": null,
   "metadata": {},
   "outputs": [],
   "source": []
  }
 ],
 "metadata": {
  "kernelspec": {
   "display_name": "Python 3",
   "language": "python",
   "name": "python3"
  },
  "language_info": {
   "codemirror_mode": {
    "name": "ipython",
    "version": 3
   },
   "file_extension": ".py",
   "mimetype": "text/x-python",
   "name": "python",
   "nbconvert_exporter": "python",
   "pygments_lexer": "ipython3",
   "version": "3.6.6"
  }
 },
 "nbformat": 4,
 "nbformat_minor": 2
}
