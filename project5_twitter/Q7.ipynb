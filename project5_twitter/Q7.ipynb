{
 "cells": [
  {
   "cell_type": "markdown",
   "metadata": {},
   "source": [
    "# Question 7"
   ]
  },
  {
   "cell_type": "code",
   "execution_count": 1,
   "metadata": {
    "scrolled": true
   },
   "outputs": [],
   "source": [
    "import json\n",
    "import datetime,time\n",
    "import pytz\n",
    "import numpy as np\n",
    "import matplotlib.pyplot as plt\n",
    "import pandas as pd\n",
    "from sklearn.linear_model import LinearRegression\n",
    "from sklearn.metrics import mean_squared_error, r2_score\n",
    "from statistics import mean\n",
    "import time"
   ]
  },
  {
   "cell_type": "code",
   "execution_count": 2,
   "metadata": {
    "scrolled": true
   },
   "outputs": [
    {
     "name": "stdout",
     "output_type": "stream",
     "text": [
      "files[0] => tweets_#gohawks.txt\n",
      "files[1] => tweets_#gopatriots.txt\n",
      "files[2] => tweets_#nfl.txt\n",
      "files[3] => tweets_#patriots.txt\n",
      "files[4] => tweets_#sb49.txt\n",
      "files[5] => tweets_#superbowl.txt\n"
     ]
    }
   ],
   "source": [
    "path = \"../../projects/project_5/ECE219_tweet_data/\"\n",
    "\n",
    "files = [\"tweets_#gohawks.txt\", \"tweets_#gopatriots.txt\", \\\n",
    "        \"tweets_#nfl.txt\", \"tweets_#patriots.txt\", \\\n",
    "        \"tweets_#sb49.txt\", \"tweets_#superbowl.txt\"]\n",
    "topics = [\"gohawks\", \"gopatriots\", \"nfl\", \"patriots\", \"sb49\", \"superbowl\"]\n",
    "\n",
    "for i, fl in enumerate(files):\n",
    "    print(\"files[\" + str(i) + \"] => \" + fl)"
   ]
  },
  {
   "cell_type": "markdown",
   "metadata": {},
   "source": [
    "#### Prepare for data"
   ]
  },
  {
   "cell_type": "code",
   "execution_count": 3,
   "metadata": {},
   "outputs": [],
   "source": [
    "def transfer_time(data_raw,time_type):\n",
    "    \n",
    "    pst_tz = pytz.timezone('America/Los_Angeles')\n",
    "    \n",
    "    # sort according to time\n",
    "    pddata_raw = pd.DataFrame(data_raw,columns=['time','tweets','retweets','followers','mentioned',\\\n",
    "                                                'media','active','author','favourites_count','title'])\n",
    "    pddata_raw = pddata_raw.sort_values(by = 'time')\n",
    "    pddata_raw = pddata_raw.reset_index(drop=True)               \n",
    "\n",
    "    # calculate hour index and minute index from time\n",
    "    if time_type == 'hour':\n",
    "        hour_accu = []\n",
    "        for index, row in pddata_raw.iterrows():  \n",
    "            p = datetime.datetime.fromtimestamp(row['time'], pst_tz)  \n",
    "            hour_accu.append(((p.month-1)*31+p.day-14)*24+p.hour)                             \n",
    "        pddata_raw['time'] = hour_accu\n",
    "    elif time_type == 'minute':\n",
    "        minu_accu = []\n",
    "        for index, row in pddata_raw.iterrows():  \n",
    "            p = datetime.datetime.fromtimestamp(row['time'], pst_tz)                    \n",
    "            minu_accu.append((((p.month-1)*31+p.day-14)*24 + (p.hour-0))*12 + p.minute//5)             \n",
    "        pddata_raw['time'] = minu_accu    \n",
    "    else:\n",
    "        print(\"Invalid time type\")\n",
    "        \n",
    "    return pddata_raw"
   ]
  },
  {
   "cell_type": "code",
   "execution_count": 4,
   "metadata": {},
   "outputs": [],
   "source": [
    "def generate_df(pddata_raw):\n",
    "    \"\"\"\n",
    "    Create a new dataframe with desired form\n",
    "    \"\"\"\n",
    "    df = pd.DataFrame([],columns=['time unit','tweets','retweets','followers sum','followers max',\\\n",
    "                                  'mentioned','media','active','author','favourites_count','title'])\n",
    "    \n",
    "    col = pddata_raw.columns.get_loc('time')\n",
    "    df['time unit'] = range(int(pddata_raw.iloc[len(pddata_raw.index)-1,col] - pddata_raw.iloc[0,col]+1))\n",
    "\n",
    "    df['tweets'] = pddata_raw.groupby(\"time\")['tweets'].sum()\n",
    "    df['retweets'] = pddata_raw.groupby(\"time\")['retweets'].sum()\n",
    "    df['followers sum'] = pddata_raw.groupby(\"time\")['followers'].sum()\n",
    "    df['followers max'] = pddata_raw.groupby(\"time\")[\"followers\"].max()\n",
    "    df['mentioned'] = pddata_raw.groupby(\"time\")['mentioned'].sum()\n",
    "    df['media'] = pddata_raw.groupby(\"time\")['media'].sum()\n",
    "    df['active'] = pddata_raw.groupby(\"time\")['active'].mean()  \n",
    "    df['author'] = pddata_raw.groupby(\"time\")['author'].nunique() # count number of not-repeating authors    \n",
    "    df['favourites_count'] = pddata_raw.groupby(\"time\")['favourites_count'].sum()\n",
    "    df['title'] = pddata_raw.groupby(\"time\")['title'].mean()\n",
    "            \n",
    "    # reset index of df\n",
    "    df = df.fillna(0).reset_index(drop=True)\n",
    "    \n",
    "    return df"
   ]
  },
  {
   "cell_type": "code",
   "execution_count": 5,
   "metadata": {},
   "outputs": [],
   "source": [
    "def prase_dataset(files):\n",
    "    \"\"\"\n",
    "    Prase x conponent of the dataset into pandas DataFrame including columns of:\n",
    "    tweets, retweets, total_followers, max_followers, mentioned, media, active, author, favourites_count, title\n",
    "    with lines of hours,\n",
    "    where mentioned: number of @ in tweets per hour\n",
    "          media: number of url in tweets per hour\n",
    "          active: a measure of active state of author\n",
    "          author: number of unique authors post tweet per hour\n",
    "          favourites_count: the total number of likes by this user\n",
    "          title: length of this tweet's title\n",
    "    Prase y of dataset as number of tweets in the next hour.\n",
    "    \"\"\"\n",
    "    start_time = time.mktime(time.strptime(\"2015-02-01 08:00:00\",'%Y-%m-%d %H:%M:%S'))\n",
    "    end_time = time.mktime(time.strptime(\"2015-02-01 20:00:00\",'%Y-%m-%d %H:%M:%S'))   \n",
    "\n",
    "    start_hour_idx = ((2-1)*31+1-14)*24+8\n",
    "    end_hour_idx = ((2-1)*31+1-14)*24+20\n",
    "    start_minute_idx = (((2-1)*31+1-14)*24 + (8-0))*12 + 0//5    \n",
    "        \n",
    "    # extract raw features\n",
    "    data_raw = [[],[],[]]\n",
    "    for file in files:\n",
    "        for line in open(path + file, 'r') :\n",
    "            row_tmp = []\n",
    "            a = json.loads(line)\n",
    "            citation_date = a['citation_date']\n",
    "            tweet = 1\n",
    "            retweet = a['metrics']['citations']['total']\n",
    "            foll = a['author']['followers']             \n",
    "            ment = len(a['tweet']['entities']['user_mentions'])        \n",
    "            medi = len(a['tweet']['extended_entities']['media']) if 'extended_entities' in a['tweet'] else 0\n",
    "            hist_tw = a['tweet']['user'][\"statuses_count\"]\n",
    "            hist_yr = a['tweet']['user']['created_at'][-4:]\n",
    "            acti = hist_tw/(2015-float(hist_yr)+1) \n",
    "            auth = a['author']['name']\n",
    "            favo = a['tweet']['user']['favourites_count']\n",
    "            titl = len(a['title'])\n",
    "\n",
    "            # append to row_tmp\n",
    "            row_tmp.append(citation_date)        \n",
    "            row_tmp.append(tweet)        \n",
    "            row_tmp.append(retweet)\n",
    "            row_tmp.append(foll)    \n",
    "            row_tmp.append(ment) \n",
    "            row_tmp.append(medi) \n",
    "            row_tmp.append(acti)  \n",
    "            row_tmp.append(auth)\n",
    "            row_tmp.append(favo)\n",
    "            row_tmp.append(titl)\n",
    "\n",
    "            # assign to 3 periods\n",
    "            if citation_date < start_time:\n",
    "                data_raw[0].append(row_tmp)\n",
    "            elif citation_date < end_time:\n",
    "                data_raw[1].append(row_tmp)\n",
    "            else:\n",
    "                data_raw[2].append(row_tmp)            \n",
    "\n",
    "    # generate raw pandas dataframe\n",
    "    pddata_raw_1 = transfer_time(data_raw[0],'hour')\n",
    "    pddata_raw_2 = transfer_time(data_raw[1],'minute')\n",
    "    pddata_raw_2['time'] = pddata_raw_2['time'] - start_minute_idx\n",
    "    pddata_raw_3 = transfer_time(data_raw[2],'hour')\n",
    "    pddata_raw_3['time'] = pddata_raw_3['time'] - end_hour_idx - 1    \n",
    "            \n",
    "    # generate df and df_y for each time slot\n",
    "    df_1 = generate_df(pddata_raw_1)  \n",
    "    df_y_1 = df_1.iloc[1:,1].reset_index(drop=True)\n",
    "    df_1 = df_1[:len(df_y_1)]\n",
    "    \n",
    "    df_2 = generate_df(pddata_raw_2)\n",
    "    df_y_2 = df_2.iloc[1:,1].reset_index(drop=True)\n",
    "    df_2 = df_2[:len(df_y_2)]\n",
    "   \n",
    "    df_3 = generate_df(pddata_raw_3)\n",
    "    df_y_3 = df_3.iloc[1:,1].reset_index(drop=True)\n",
    "    df_3 = df_3[:len(df_y_3)]\n",
    "    \n",
    "    return (df_1.iloc[:,1:],df_y_1), (df_2.iloc[:,1:],df_y_2), (df_3.iloc[:,1:],df_y_3)"
   ]
  },
  {
   "cell_type": "markdown",
   "metadata": {},
   "source": [
    "#### Train linear regression model"
   ]
  },
  {
   "cell_type": "code",
   "execution_count": 6,
   "metadata": {},
   "outputs": [],
   "source": [
    "def train_lr(files):\n",
    "    \"\"\"\n",
    "    This function gets data and train using a linear regression model\n",
    "    \"\"\"    \n",
    "    (df_1,df_y_1),(df_2,df_y_2),(df_3,df_y_3) = prase_dataset(files)\n",
    "    print('Parse data finished','\\n')\n",
    "\n",
    "    reg_1 = LinearRegression().fit(df_1, df_y_1)\n",
    "    pred_y_1 = reg_1.predict(df_1)\n",
    "    MSE_1 = mean_squared_error(df_y_1, pred_y_1)\n",
    "    R2_1 = r2_score(df_y_1, pred_y_1)    \n",
    "    print(topics[i], ' of time period 1')\n",
    "    print('MSE for test data = ',MSE_1)\n",
    "    print('R2 score for test data = ',R2_1,'\\n')   \n",
    "\n",
    "    reg_2 = LinearRegression().fit(df_2, df_y_2)\n",
    "    pred_y_2 = reg_2.predict(df_2)\n",
    "    MSE_2 = mean_squared_error(df_y_2, pred_y_2)\n",
    "    R2_2 = r2_score(df_y_2, pred_y_2)    \n",
    "    print(topics[i], ' of time period 2')\n",
    "    print('MSE for test data = ',MSE_2)\n",
    "    print('R2 score for test data = ',R2_2,'\\n') \n",
    "\n",
    "    reg_3 = LinearRegression().fit(df_3, df_y_3)\n",
    "    pred_y_3 = reg_3.predict(df_3)\n",
    "    MSE_3 = mean_squared_error(df_y_3, pred_y_3)\n",
    "    R2_3 = r2_score(df_y_3, pred_y_3)    \n",
    "    print(topics[i], ' of time period 3')\n",
    "    print('MSE for test data = ',MSE_3)\n",
    "    print('R2 score for test data = ',R2_3,'\\n') \n",
    "    \n",
    "    return (df_1, df_y_1, pred_y_1), (df_2, df_y_2, pred_y_2), (df_3, df_y_3, pred_y_3)"
   ]
  },
  {
   "cell_type": "markdown",
   "metadata": {},
   "source": [
    "## Results"
   ]
  },
  {
   "cell_type": "code",
   "execution_count": 8,
   "metadata": {
    "scrolled": false
   },
   "outputs": [
    {
     "name": "stdout",
     "output_type": "stream",
     "text": [
      "Parse data finished \n",
      "\n",
      "superbowl  of time period 1\n",
      "MSE for test data =  3875744.889767636\n",
      "R2 score for test data =  0.48313710207691474 \n",
      "\n",
      "superbowl  of time period 2\n",
      "MSE for test data =  13255242.358842317\n",
      "R2 score for test data =  0.8836219181473968 \n",
      "\n",
      "superbowl  of time period 3\n",
      "MSE for test data =  241287.50729199345\n",
      "R2 score for test data =  0.9213747152685308 \n",
      "\n"
     ]
    }
   ],
   "source": [
    "(df_1, df_y_1, pred_y_1), (df_2, df_y_2, pred_y_2), (df_3, df_y_3, pred_y_3) = train_lr(files)"
   ]
  },
  {
   "cell_type": "code",
   "execution_count": 9,
   "metadata": {},
   "outputs": [],
   "source": [
    "def plot_recipe(df_y, pred_y):\n",
    "    \"\"\"\n",
    "    This function plots fitted values vs true values\n",
    "    \"\"\"\n",
    "    plt.figure()\n",
    "    area = np.pi * (4)**2/4\n",
    "    plt.scatter(df_y, pred_y, s = area)\n",
    "    plt.plot([df_y.min(), df_y.max()], [df_y.min(), df_y.max()], 'k--', lw = 1)\n",
    "    plt.xlabel('true values')\n",
    "    plt.ylabel('fitted values')\n",
    "    plt.show()"
   ]
  },
  {
   "cell_type": "code",
   "execution_count": 10,
   "metadata": {},
   "outputs": [
    {
     "name": "stderr",
     "output_type": "stream",
     "text": [
      "/home/fs/anaconda3/lib/python3.6/site-packages/statsmodels/compat/pandas.py:56: FutureWarning: The pandas.core.datetools module is deprecated and will be removed in a future version. Please use the pandas.tseries module instead.\n",
      "  from pandas.core import datetools\n"
     ]
    }
   ],
   "source": [
    "import statsmodels.api as sm\n",
    "def ols_regression(df, df_y):\n",
    "    X2 = sm.add_constant(df)\n",
    "    y = df_y.as_matrix()\n",
    "    lm = sm.OLS(y, X2).fit()\n",
    "    print(lm.summary())\n",
    "    print(list(df))"
   ]
  },
  {
   "cell_type": "markdown",
   "metadata": {},
   "source": [
    "#### period 1"
   ]
  },
  {
   "cell_type": "code",
   "execution_count": 11,
   "metadata": {
    "scrolled": false
   },
   "outputs": [
    {
     "data": {
      "image/png": "[encoded data removed]",
      "text/plain": [
       "<matplotlib.figure.Figure at 0x7ff2f494a198>"
      ]
     },
     "metadata": {},
     "output_type": "display_data"
    },
    {
     "name": "stdout",
     "output_type": "stream",
     "text": [
      "                            OLS Regression Results                            \n",
      "==============================================================================\n",
      "Dep. Variable:                      y   R-squared:                       0.483\n",
      "Model:                            OLS   Adj. R-squared:                  0.471\n",
      "Method:                 Least Squares   F-statistic:                     40.01\n",
      "Date:                Wed, 20 Mar 2019   Prob (F-statistic):           2.34e-55\n",
      "Time:                        23:43:17   Log-Likelihood:                -3952.8\n",
      "No. Observations:                 439   AIC:                             7928.\n",
      "Df Residuals:                     428   BIC:                             7972.\n",
      "Df Model:                          10                                         \n",
      "Covariance Type:            nonrobust                                         \n",
      "====================================================================================\n",
      "                       coef    std err          t      P>|t|      [0.025      0.975]\n",
      "------------------------------------------------------------------------------------\n",
      "const             1.055e+04   1935.300      5.452      0.000    6747.589    1.44e+04\n",
      "tweets              -0.8838      0.720     -1.227      0.220      -2.299       0.532\n",
      "retweets            -0.0687      0.073     -0.941      0.347      -0.212       0.075\n",
      "followers sum     3.283e-05    1.3e-05      2.523      0.012    7.26e-06    5.84e-05\n",
      "followers max    -5.898e-05    5.7e-05     -1.034      0.302      -0.000    5.31e-05\n",
      "mentioned            0.4828      0.645      0.748      0.455      -0.785       1.751\n",
      "media                0.2407      0.924      0.261      0.795      -1.575       2.056\n",
      "active              -0.0380      0.033     -1.137      0.256      -0.104       0.028\n",
      "author               0.6625      0.874      0.758      0.449      -1.054       2.380\n",
      "favourites_count     0.0004      0.000      3.580      0.000       0.000       0.001\n",
      "title              -89.0435     17.991     -4.949      0.000    -124.405     -53.682\n",
      "==============================================================================\n",
      "Omnibus:                      733.672   Durbin-Watson:                   2.080\n",
      "Prob(Omnibus):                  0.000   Jarque-Bera (JB):           387886.087\n",
      "Skew:                           9.526   Prob(JB):                         0.00\n",
      "Kurtosis:                     147.370   Cond. No.                     5.38e+08\n",
      "==============================================================================\n",
      "\n",
      "Warnings:\n",
      "[1] Standard Errors assume that the covariance matrix of the errors is correctly specified.\n",
      "[2] The condition number is large, 5.38e+08. This might indicate that there are\n",
      "strong multicollinearity or other numerical problems.\n",
      "['tweets', 'retweets', 'followers sum', 'followers max', 'mentioned', 'media', 'active', 'author', 'favourites_count', 'title']\n"
     ]
    }
   ],
   "source": [
    "plot_recipe(df_y_1,pred_y_1)\n",
    "ols_regression(df_1, df_y_1)"
   ]
  },
  {
   "cell_type": "markdown",
   "metadata": {},
   "source": [
    "#### period 2"
   ]
  },
  {
   "cell_type": "code",
   "execution_count": 12,
   "metadata": {
    "scrolled": false
   },
   "outputs": [
    {
     "data": {
      "image/png": "[encoded data removed]",
      "text/plain": [
       "<matplotlib.figure.Figure at 0x7ff2f49577b8>"
      ]
     },
     "metadata": {},
     "output_type": "display_data"
    },
    {
     "name": "stdout",
     "output_type": "stream",
     "text": [
      "                            OLS Regression Results                            \n",
      "==============================================================================\n",
      "Dep. Variable:                      y   R-squared:                       0.884\n",
      "Model:                            OLS   Adj. R-squared:                  0.875\n",
      "Method:                 Least Squares   F-statistic:                     100.2\n",
      "Date:                Wed, 20 Mar 2019   Prob (F-statistic):           1.25e-56\n",
      "Time:                        23:43:44   Log-Likelihood:                -1375.5\n",
      "No. Observations:                 143   AIC:                             2773.\n",
      "Df Residuals:                     132   BIC:                             2806.\n",
      "Df Model:                          10                                         \n",
      "Covariance Type:            nonrobust                                         \n",
      "====================================================================================\n",
      "                       coef    std err          t      P>|t|      [0.025      0.975]\n",
      "------------------------------------------------------------------------------------\n",
      "const             2.902e+04   7407.538      3.918      0.000    1.44e+04    4.37e+04\n",
      "tweets              -2.3435      0.697     -3.363      0.001      -3.722      -0.965\n",
      "retweets            -0.0504      0.021     -2.393      0.018      -0.092      -0.009\n",
      "followers sum    -3.798e-05   1.58e-05     -2.404      0.018   -6.92e-05   -6.72e-06\n",
      "followers max     8.611e-05   5.68e-05      1.515      0.132   -2.63e-05       0.000\n",
      "mentioned           -0.2043      0.113     -1.814      0.072      -0.427       0.018\n",
      "media                1.6353      0.826      1.980      0.050       0.001       3.269\n",
      "active               0.2305      0.529      0.436      0.664      -0.816       1.277\n",
      "author               3.3262      0.826      4.026      0.000       1.692       4.961\n",
      "favourites_count     0.0004      0.000      3.202      0.002       0.000       0.001\n",
      "title             -297.2262     80.648     -3.685      0.000    -456.757    -137.696\n",
      "==============================================================================\n",
      "Omnibus:                       16.457   Durbin-Watson:                   1.963\n",
      "Prob(Omnibus):                  0.000   Jarque-Bera (JB):               48.526\n",
      "Skew:                           0.303   Prob(JB):                     2.90e-11\n",
      "Kurtosis:                       5.789   Cond. No.                     2.89e+09\n",
      "==============================================================================\n",
      "\n",
      "Warnings:\n",
      "[1] Standard Errors assume that the covariance matrix of the errors is correctly specified.\n",
      "[2] The condition number is large, 2.89e+09. This might indicate that there are\n",
      "strong multicollinearity or other numerical problems.\n",
      "['tweets', 'retweets', 'followers sum', 'followers max', 'mentioned', 'media', 'active', 'author', 'favourites_count', 'title']\n"
     ]
    }
   ],
   "source": [
    "plot_recipe(df_y_2,pred_y_2)\n",
    "ols_regression(df_2, df_y_2)"
   ]
  },
  {
   "cell_type": "markdown",
   "metadata": {},
   "source": [
    "#### period 3"
   ]
  },
  {
   "cell_type": "code",
   "execution_count": 13,
   "metadata": {},
   "outputs": [
    {
     "data": {
      "image/png": "[encoded data removed]",
      "text/plain": [
       "<matplotlib.figure.Figure at 0x7ff2fb3f77f0>"
      ]
     },
     "metadata": {},
     "output_type": "display_data"
    },
    {
     "name": "stdout",
     "output_type": "stream",
     "text": [
      "                            OLS Regression Results                            \n",
      "==============================================================================\n",
      "Dep. Variable:                      y   R-squared:                       0.921\n",
      "Model:                            OLS   Adj. R-squared:                  0.915\n",
      "Method:                 Least Squares   F-statistic:                     144.1\n",
      "Date:                Wed, 20 Mar 2019   Prob (F-statistic):           6.05e-63\n",
      "Time:                        23:44:06   Log-Likelihood:                -1020.5\n",
      "No. Observations:                 134   AIC:                             2063.\n",
      "Df Residuals:                     123   BIC:                             2095.\n",
      "Df Model:                          10                                         \n",
      "Covariance Type:            nonrobust                                         \n",
      "====================================================================================\n",
      "                       coef    std err          t      P>|t|      [0.025      0.975]\n",
      "------------------------------------------------------------------------------------\n",
      "const             -417.1751   1753.400     -0.238      0.812   -3887.923    3053.573\n",
      "tweets              -0.1081      0.343     -0.315      0.753      -0.787       0.571\n",
      "retweets             0.0034      0.015      0.236      0.814      -0.025       0.032\n",
      "followers sum     8.744e-06   6.33e-06      1.381      0.170   -3.78e-06    2.13e-05\n",
      "followers max    -2.613e-06   1.77e-05     -0.148      0.883   -3.76e-05    3.24e-05\n",
      "mentioned           -0.8237      0.326     -2.524      0.013      -1.470      -0.178\n",
      "media               -0.4423      1.003     -0.441      0.660      -2.427       1.542\n",
      "active              -0.0149      0.019     -0.764      0.446      -0.053       0.024\n",
      "author               1.5116      0.547      2.765      0.007       0.429       2.594\n",
      "favourites_count     0.0002   9.19e-05      2.564      0.012    5.37e-05       0.000\n",
      "title                7.3342     15.526      0.472      0.637     -23.399      38.067\n",
      "==============================================================================\n",
      "Omnibus:                       33.837   Durbin-Watson:                   1.683\n",
      "Prob(Omnibus):                  0.000   Jarque-Bera (JB):              247.159\n",
      "Skew:                           0.535   Prob(JB):                     2.14e-54\n",
      "Kurtosis:                       9.567   Cond. No.                     1.52e+09\n",
      "==============================================================================\n",
      "\n",
      "Warnings:\n",
      "[1] Standard Errors assume that the covariance matrix of the errors is correctly specified.\n",
      "[2] The condition number is large, 1.52e+09. This might indicate that there are\n",
      "strong multicollinearity or other numerical problems.\n",
      "['tweets', 'retweets', 'followers sum', 'followers max', 'mentioned', 'media', 'active', 'author', 'favourites_count', 'title']\n"
     ]
    }
   ],
   "source": [
    "plot_recipe(df_y_3,pred_y_3)\n",
    "ols_regression(df_3, df_y_3)"
   ]
  }
 ],
 "metadata": {
  "kernelspec": {
   "display_name": "Python 3",
   "language": "python",
   "name": "python3"
  },
  "language_info": {
   "codemirror_mode": {
    "name": "ipython",
    "version": 3
   },
   "file_extension": ".py",
   "mimetype": "text/x-python",
   "name": "python",
   "nbconvert_exporter": "python",
   "pygments_lexer": "ipython3",
   "version": "3.6.6"
  }
 },
 "nbformat": 4,
 "nbformat_minor": 2
}
