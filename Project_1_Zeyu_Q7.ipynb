{
 "cells": [
  {
   "cell_type": "code",
   "execution_count": null,
   "metadata": {},
   "outputs": [],
   "source": [
    "from matplotlib import pyplot as plt\n",
    "\n",
    "import numpy as np\n",
    "np.random.seed(42)\n",
    "import random\n",
    "random.seed(42)"
   ]
  },
  {
   "cell_type": "code",
   "execution_count": null,
   "metadata": {
    "scrolled": true
   },
   "outputs": [],
   "source": [
    "from matplotlib import pyplot as plt\n",
    "import numpy as np\n",
    "#plt.hist(train_dataset.target,bins=20, alpha=0.5, histtype='bar', ec='black',\n",
    "#        label=categories)"
   ]
  },
  {
   "cell_type": "code",
   "execution_count": null,
   "metadata": {},
   "outputs": [],
   "source": [
    "import nltk\n",
    "from nltk.corpus import stopwords\n",
    "#nltk.download('wordnet')\n",
    "#nltk.download('stopwords')\n",
    "# nltk.download('punkt')#, if you need \"tokenizers/punkt/english.pickle\", choose it\n",
    "# nltk.download('averaged_perceptron_tagger')\n"
   ]
  },
  {
   "cell_type": "code",
   "execution_count": null,
   "metadata": {},
   "outputs": [],
   "source": [
    "from nltk import pos_tag\n",
    "wnl = nltk.wordnet.WordNetLemmatizer()\n",
    "\n",
    "def penn2morphy(penntag):\n",
    "    \"\"\" Converts Penn Treebank tags to WordNet. \"\"\"\n",
    "    morphy_tag = {'NN':'n', 'JJ':'a',\n",
    "                  'VB':'v', 'RB':'r'}\n",
    "    try:\n",
    "        return morphy_tag[penntag[:2]]\n",
    "    except:\n",
    "        return 'n'\n",
    "\n",
    "def lemmatize_sent(list_word):\n",
    "    # Text input is string, returns array of lowercased strings(words).\n",
    "    return [wnl.lemmatize(word.lower(), pos=penn2morphy(tag)) \n",
    "            for word, tag in pos_tag(list_word)]"
   ]
  },
  {
   "cell_type": "code",
   "execution_count": null,
   "metadata": {},
   "outputs": [],
   "source": [
    "from sklearn.feature_extraction.text import CountVectorizer\n",
    "\n",
    "analyzer = CountVectorizer().build_analyzer()\n",
    "\n",
    "def stemmed_words(doc):\n",
    "    return (stemmer.stem(w) for w in analyzer(doc))\n",
    "\n",
    "def stem_lemma(doc):\n",
    "    return (word for word in lemmatize_sent(analyzer(doc)) if not word.isdigit())\n",
    "\n",
    "def stem_nolemma(doc):\n",
    "    return (word for word in analyzer(doc) if not word.isdigit())"
   ]
  },
  {
   "cell_type": "code",
   "execution_count": null,
   "metadata": {},
   "outputs": [],
   "source": [
    "vectorizer_df3_lemma = CountVectorizer(min_df=3, \n",
    "                             analyzer=stem_lemma, \n",
    "                             stop_words='english')\n",
    "vectorizer_df5_lemma = CountVectorizer(min_df=5, \n",
    "                             analyzer=stem_lemma, \n",
    "                             stop_words='english')\n",
    "vectorizer_df3_nolemma = CountVectorizer(min_df=3, \n",
    "                             analyzer=stem_nolemma, \n",
    "                             stop_words='english')\n",
    "vectorizer_df5_nolemma = CountVectorizer(min_df=5, \n",
    "                             analyzer=stem_nolemma, \n",
    "                             stop_words='english')\n"
   ]
  },
  {
   "cell_type": "code",
   "execution_count": null,
   "metadata": {},
   "outputs": [],
   "source": [
    "from sklearn.feature_extraction.text import TfidfTransformer\n",
    "\n",
    "from sklearn.base import BaseEstimator, TransformerMixin\n",
    "class SparseToDenseArray(BaseEstimator, TransformerMixin):\n",
    "    def __init__(self):\n",
    "        pass\n",
    "\n",
    "    def transform(self, X, *_):\n",
    "        if hasattr(X, 'toarray'):\n",
    "            return X.toarray()\n",
    "        return X\n",
    "\n",
    "    def fit(self, *_):\n",
    "        return self"
   ]
  },
  {
   "cell_type": "code",
   "execution_count": null,
   "metadata": {},
   "outputs": [],
   "source": [
    "import pandas as pd\n",
    "import numpy as np\n",
    "\n",
    "from sklearn.model_selection import GridSearchCV\n",
    "\n",
    "class EstimatorSelectionHelper:\n",
    "\n",
    "    def __init__(self, models, params):\n",
    "        if not set(models.keys()).issubset(set(params.keys())):\n",
    "            missing_params = list(set(models.keys()) - set(params.keys()))\n",
    "            raise ValueError(\"Some estimators are missing parameters: %s\" % missing_params)\n",
    "        self.models = models\n",
    "        self.params = params\n",
    "        self.keys = models.keys()\n",
    "        self.grid_searches = {}\n",
    "\n",
    "    def fit(self, X, y, cv=3, n_jobs=3, verbose=1, scoring=None, refit=False):\n",
    "        for key in self.keys:\n",
    "            print(\"Running GridSearchCV for %s.\" % key)\n",
    "            model = self.models[key]\n",
    "            params = self.params[key]\n",
    "            gs = GridSearchCV(model, params, cv=cv, n_jobs=n_jobs,\n",
    "                              verbose=verbose, scoring=scoring, refit=refit,\n",
    "                              return_train_score=True)\n",
    "            gs.fit(X,y)\n",
    "            self.grid_searches[key] = gs    \n",
    "\n",
    "    def score_summary(self, sort_by='mean_score'):\n",
    "        def row(key, scores, params):\n",
    "            d = {\n",
    "                 'estimator': key,\n",
    "                 'min_score': min(scores),\n",
    "                 'max_score': max(scores),\n",
    "                 'mean_score': np.mean(scores),\n",
    "                 'std_score': np.std(scores),\n",
    "            }\n",
    "            return pd.Series({**params,**d})\n",
    "\n",
    "        rows = []\n",
    "        for k in self.grid_searches:\n",
    "            print(k)\n",
    "            params = self.grid_searches[k].cv_results_['params']\n",
    "            scores = []\n",
    "            for i in range(self.grid_searches[k].cv):\n",
    "                key = \"split{}_test_score\".format(i)\n",
    "                r = self.grid_searches[k].cv_results_[key]        \n",
    "                scores.append(r.reshape(len(params),1))\n",
    "\n",
    "            all_scores = np.hstack(scores)\n",
    "            for p, s in zip(params,all_scores):\n",
    "                rows.append((row(k, s, p)))\n",
    "\n",
    "        df = pd.concat(rows, axis=1).T.sort_values([sort_by], ascending=False)\n",
    "\n",
    "        columns = ['estimator', 'min_score', 'mean_score', 'max_score', 'std_score']\n",
    "        columns = columns + [c for c in df.columns if c not in columns]\n",
    "\n",
    "        return df[columns]"
   ]
  },
  {
   "cell_type": "markdown",
   "metadata": {},
   "source": [
    "## Question 8"
   ]
  },
  {
   "cell_type": "markdown",
   "metadata": {},
   "source": [
    "### Part 1: Keep \"headers\" and \"footers\""
   ]
  },
  {
   "cell_type": "markdown",
   "metadata": {},
   "source": [
    "#### Classify the documents into two classes"
   ]
  },
  {
   "cell_type": "code",
   "execution_count": null,
   "metadata": {},
   "outputs": [],
   "source": [
    "from sklearn.datasets import fetch_20newsgroups\n",
    "categories = ['comp.graphics', 'comp.os.ms-windows.misc',\n",
    "'comp.sys.ibm.pc.hardware', 'comp.sys.mac.hardware',\n",
    "'rec.autos', 'rec.motorcycles',\n",
    "'rec.sport.baseball', 'rec.sport.hockey']\n",
    "train_dataset = fetch_20newsgroups(subset = 'train', categories = categories\n",
    ", shuffle = True, random_state = 42)\n",
    "test_dataset = fetch_20newsgroups(subset = 'test', categories = categories\n",
    ", shuffle = True, random_state = 42)"
   ]
  },
  {
   "cell_type": "code",
   "execution_count": null,
   "metadata": {},
   "outputs": [],
   "source": [
    "_, idx = np.unique(train_dataset.target, return_index=True)\n",
    "for i in range(len(idx)):\n",
    "    j = np.sort(idx)[i]\n",
    "    #print(train_dataset.target_names[i],': target index = ', train_dataset.target[j])\n",
    "\n",
    "#print(train_dataset.target[15:25])\n",
    "#print(train_dataset.target_names[15:25])"
   ]
  },
  {
   "cell_type": "code",
   "execution_count": null,
   "metadata": {},
   "outputs": [],
   "source": [
    "train_dataset.bintarget = np.zeros_like(train_dataset.target)\n",
    "test_dataset.bintarget = np.zeros_like(test_dataset.target)\n",
    "for y in [6, 7, 4, 2]:\n",
    "    train_dataset.bintarget[np.argwhere(train_dataset.target == y)] = 0\n",
    "    test_dataset.bintarget[np.argwhere(test_dataset.target == y)] = 0\n",
    "for y in [1, 3, 0, 5]:\n",
    "    train_dataset.bintarget[np.argwhere(train_dataset.target == y)] = 1\n",
    "    test_dataset.bintarget[np.argwhere(test_dataset.target == y)] = 1\n",
    "class_names = ['Computer Technology', 'Recreational Activity']\n",
    "#print(train_dataset.bintarget[:20])"
   ]
  },
  {
   "cell_type": "code",
   "execution_count": null,
   "metadata": {},
   "outputs": [],
   "source": [
    "from sklearn.model_selection import GridSearchCV\n",
    "from sklearn.pipeline import Pipeline\n",
    "from sklearn.svm import SVC, LinearSVC\n",
    "from sklearn.linear_model import LogisticRegression\n",
    "from sklearn.naive_bayes import GaussianNB\n",
    "from sklearn.decomposition import TruncatedSVD, NMF\n",
    "\n",
    "# used to cache results\n",
    "from tempfile import mkdtemp\n",
    "from shutil import rmtree\n",
    "from sklearn.externals.joblib import Memory\n",
    "# print(__doc__)\n",
    "location = mkdtemp()\n",
    "memory = Memory(location=location, verbose=10)\n",
    "\n",
    "pipeline1 = Pipeline([\n",
    "    ('vect', vectorizer_df3_lemma),\n",
    "    ('tfidf', TfidfTransformer()),\n",
    "    ('reduce_dim', TruncatedSVD(n_components=50, random_state=42)),\n",
    "    ('toarr', SparseToDenseArray()),\n",
    "    ('clf', SVC(kernel='linear', C=33.0)),\n",
    "],\n",
    "memory=memory\n",
    ")\n",
    "\n",
    "param_grid1 = [\n",
    "    {\n",
    "        'vect': [vectorizer_df3_lemma, \n",
    "                 vectorizer_df3_nolemma, \n",
    "                 vectorizer_df5_lemma, \n",
    "                 vectorizer_df5_nolemma],\n",
    "        'reduce_dim': [TruncatedSVD(n_components=50, random_state=42),\n",
    "                       NMF(n_components=50, init='random', random_state=42)],\n",
    "        'clf': [SVC(kernel='linear', C=33.0), \n",
    "                LogisticRegression(penalty='l1', C=3.3), \n",
    "                LogisticRegression(penalty='l2', C=3.3),\n",
    "                GaussianNB()]\n",
    "    }\n",
    "]\n",
    "grid1 = GridSearchCV(pipeline1, cv=5, n_jobs=1, param_grid=param_grid1, scoring='accuracy')\n",
    "grid1.fit(train_dataset.data, train_dataset.bintarget)\n",
    "rmtree(location)"
   ]
  },
  {
   "cell_type": "code",
   "execution_count": null,
   "metadata": {},
   "outputs": [],
   "source": [
    "pd.DataFrame(grid1.cv_results_)"
   ]
  },
  {
   "cell_type": "markdown",
   "metadata": {},
   "source": [
    "### Part 2: Remove \"headers\" and \"footers\""
   ]
  },
  {
   "cell_type": "markdown",
   "metadata": {},
   "source": [
    "#### Classify the documents into two classes"
   ]
  },
  {
   "cell_type": "code",
   "execution_count": null,
   "metadata": {},
   "outputs": [],
   "source": [
    "from sklearn.datasets import fetch_20newsgroups\n",
    "categories = ['comp.graphics', 'comp.os.ms-windows.misc',\n",
    "'comp.sys.ibm.pc.hardware', 'comp.sys.mac.hardware',\n",
    "'rec.autos', 'rec.motorcycles',\n",
    "'rec.sport.baseball', 'rec.sport.hockey']\n",
    "train_dataset = fetch_20newsgroups(subset = 'train', categories = categories\n",
    ", shuffle = True, random_state = 42, remove = ('headers', 'footers'))\n",
    "test_dataset = fetch_20newsgroups(subset = 'test', categories = categories\n",
    ", shuffle = True, random_state = 42, remove = ('headers', 'footers'))"
   ]
  },
  {
   "cell_type": "code",
   "execution_count": null,
   "metadata": {},
   "outputs": [],
   "source": [
    "_, idx = np.unique(train_dataset.target, return_index=True)\n",
    "for i in range(len(idx)):\n",
    "    j = np.sort(idx)[i]\n",
    "    #print(train_dataset.target_names[i],': target index = ', train_dataset.target[j])\n",
    "\n",
    "#print(train_dataset.target[15:25])\n",
    "#print(train_dataset.target_names[15:25])"
   ]
  },
  {
   "cell_type": "code",
   "execution_count": null,
   "metadata": {},
   "outputs": [],
   "source": [
    "train_dataset.bintarget = np.zeros_like(train_dataset.target)\n",
    "test_dataset.bintarget = np.zeros_like(test_dataset.target)\n",
    "for y in [6, 7, 4, 2]:\n",
    "    train_dataset.bintarget[np.argwhere(train_dataset.target == y)] = 0\n",
    "    test_dataset.bintarget[np.argwhere(test_dataset.target == y)] = 0\n",
    "for y in [1, 3, 0, 5]:\n",
    "    train_dataset.bintarget[np.argwhere(train_dataset.target == y)] = 1\n",
    "    test_dataset.bintarget[np.argwhere(test_dataset.target == y)] = 1\n",
    "class_names = ['Computer Technology', 'Recreational Activity']\n",
    "#print(train_dataset.bintarget[:20])"
   ]
  },
  {
   "cell_type": "code",
   "execution_count": null,
   "metadata": {},
   "outputs": [],
   "source": [
    "from sklearn.model_selection import GridSearchCV\n",
    "from sklearn.pipeline import Pipeline\n",
    "from sklearn.svm import SVC, LinearSVC\n",
    "from sklearn.linear_model import LogisticRegression\n",
    "from sklearn.naive_bayes import GaussianNB\n",
    "from sklearn.decomposition import TruncatedSVD, NMF\n",
    "\n",
    "# used to cache results\n",
    "from tempfile import mkdtemp\n",
    "from shutil import rmtree\n",
    "from sklearn.externals.joblib import Memory\n",
    "# print(__doc__)\n",
    "location = mkdtemp()\n",
    "memory = Memory(location=location, verbose=10)\n",
    "\n",
    "pipeline2 = Pipeline([\n",
    "    ('vect', vectorizer_df3_lemma),\n",
    "    ('tfidf', TfidfTransformer()),\n",
    "    ('reduce_dim', TruncatedSVD(n_components=50, random_state=42)),\n",
    "    ('toarr', SparseToDenseArray()),\n",
    "    ('clf', SVC(kernel='linear', C=33.0)),\n",
    "],\n",
    "memory=memory\n",
    ")\n",
    "\n",
    "param_grid2 = [\n",
    "    {\n",
    "        'vect': [vectorizer_df3_lemma, \n",
    "                 vectorizer_df3_nolemma, \n",
    "                 vectorizer_df5_lemma, \n",
    "                 vectorizer_df5_nolemma],\n",
    "        'reduce_dim': [TruncatedSVD(n_components=50, random_state=42),\n",
    "                       NMF(n_components=50, init='random', random_state=42)],\n",
    "        'clf': [SVC(kernel='linear', C=33.0), \n",
    "                LogisticRegression(penalty='l1', C=3.3), \n",
    "                LogisticRegression(penalty='l2', C=3.3),\n",
    "                GaussianNB()]\n",
    "    }\n",
    "]\n",
    "grid2 = GridSearchCV(pipeline2, cv=5, n_jobs=1, param_grid=param_grid2, scoring='accuracy')\n",
    "grid2.fit(train_dataset.data, train_dataset.bintarget)\n",
    "rmtree(location)"
   ]
  },
  {
   "cell_type": "code",
   "execution_count": null,
   "metadata": {},
   "outputs": [],
   "source": [
    "pd.DataFrame(grid2.cv_results_)"
   ]
  }
 ],
 "metadata": {
  "kernelspec": {
   "display_name": "Python 3",
   "language": "python",
   "name": "python3"
  },
  "language_info": {
   "codemirror_mode": {
    "name": "ipython",
    "version": 3
   },
   "file_extension": ".py",
   "mimetype": "text/x-python",
   "name": "python",
   "nbconvert_exporter": "python",
   "pygments_lexer": "ipython3",
   "version": "3.7.2"
  }
 },
 "nbformat": 4,
 "nbformat_minor": 2
}
