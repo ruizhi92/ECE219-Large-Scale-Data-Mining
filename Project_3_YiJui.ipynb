{
 "cells": [
  {
   "cell_type": "code",
   "execution_count": 1,
   "metadata": {},
   "outputs": [],
   "source": [
    "import csv\n",
    "import numpy as np\n",
    "import os"
   ]
  },
  {
   "cell_type": "markdown",
   "metadata": {},
   "source": [
    "loading the user_id and ratings"
   ]
  },
  {
   "cell_type": "code",
   "execution_count": 2,
   "metadata": {},
   "outputs": [],
   "source": [
    "file_path_ratings = os.path.expanduser('~/EE219/hw3/ml-latest-small/ratings.csv')\n",
    "file_path_movies = os.path.expanduser('~/EE219/hw3/ml-latest-small/movies.csv')\n",
    "\n",
    "movie_list = []\n",
    "user_id = []\n",
    "movie_id = []\n",
    "ratings = []\n",
    "\n",
    "# loading the user_id and ratings\n",
    "with open(file_path_ratings) as csvfile:\n",
    "    reader = csv.DictReader(csvfile)\n",
    "    for row in reader:\n",
    "        user_id.append(int(row['userId']))\n",
    "        movie_id.append(int(row['movieId']))\n",
    "        ratings.append(float(row['rating']))"
   ]
  },
  {
   "cell_type": "markdown",
   "metadata": {},
   "source": [
    "# Question 1"
   ]
  },
  {
   "cell_type": "code",
   "execution_count": 3,
   "metadata": {},
   "outputs": [
    {
     "name": "stdout",
     "output_type": "stream",
     "text": [
      "number of user= 610\n",
      "number of rated movie= 9724\n",
      "Sparsity= 0.016999683055613623\n"
     ]
    }
   ],
   "source": [
    "movie_list=np.zeros(max(movie_id)+1)\n",
    "movie_number=0\n",
    "user_number=0\n",
    "user_id_u=[]\n",
    "for id in user_id:\n",
    "    if id not in user_id_u:\n",
    "        user_id_u.append(id)\n",
    "        user_number=user_number+1\n",
    "print('number of user=',user_number)\n",
    "movie_id_u=[]\n",
    "for id in movie_id:\n",
    "    if id not in movie_id_u:\n",
    "        movie_list[id]=int(movie_number)\n",
    "        movie_id_u.append(id)\n",
    "        movie_number=movie_number+1\n",
    "print('number of rated movie=',movie_number)\n",
    "total_available_rating=len(user_id)\n",
    "total_possible_rating=user_number*movie_number\n",
    "print('Sparsity=',float(total_available_rating) / total_possible_rating)"
   ]
  },
  {
   "cell_type": "markdown",
   "metadata": {},
   "source": [
    "# Question 2"
   ]
  },
  {
   "cell_type": "code",
   "execution_count": 4,
   "metadata": {},
   "outputs": [],
   "source": [
    "R = np.zeros((user_number, movie_number))  \n",
    "W = np.zeros((user_number, movie_number))\n",
    "for i in range(len(user_id)):\n",
    "    x = user_id[i] - 1\n",
    "    y =  int(movie_list[movie_id[i]])\n",
    "    R[x,y] = ratings[i]\n",
    "    W[x,y]=1"
   ]
  },
  {
   "cell_type": "code",
   "execution_count": 5,
   "metadata": {},
   "outputs": [
    {
     "data": {
      "text/plain": [
       "780"
      ]
     },
     "execution_count": 5,
     "metadata": {},
     "output_type": "execute_result"
    }
   ],
   "source": [
    "np.sum(R,axis=0)\n",
    "sss=np.sum(W,axis=0)\n",
    "rating=np.sum(R,axis=0)/np.sum(W,axis=0)\n",
    "for i in range(movie_number):\n",
    "    if sss[i]<200:\n",
    "        rating[i]=5 \n",
    "movie_id_u[np.argmin(rating)]"
   ]
  },
  {
   "cell_type": "code",
   "execution_count": null,
   "metadata": {},
   "outputs": [],
   "source": []
  },
  {
   "cell_type": "code",
   "execution_count": null,
   "metadata": {},
   "outputs": [],
   "source": []
  },
  {
   "cell_type": "code",
   "execution_count": null,
   "metadata": {},
   "outputs": [],
   "source": []
  },
  {
   "cell_type": "code",
   "execution_count": null,
   "metadata": {},
   "outputs": [],
   "source": []
  },
  {
   "cell_type": "code",
   "execution_count": null,
   "metadata": {},
   "outputs": [],
   "source": []
  }
 ],
 "metadata": {
  "kernelspec": {
   "display_name": "Python 3",
   "language": "python",
   "name": "python3"
  },
  "language_info": {
   "codemirror_mode": {
    "name": "ipython",
    "version": 3
   },
   "file_extension": ".py",
   "mimetype": "text/x-python",
   "name": "python",
   "nbconvert_exporter": "python",
   "pygments_lexer": "ipython3",
   "version": "3.7.1"
  }
 },
 "nbformat": 4,
 "nbformat_minor": 2
}
