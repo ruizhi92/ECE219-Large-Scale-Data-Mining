{
 "cells": [
  {
   "cell_type": "code",
   "execution_count": 1,
   "metadata": {},
   "outputs": [],
   "source": [
    "import numpy as np\n",
    "import csv\n",
    "import os\n",
    "import math\n",
    "import random\n",
    "import pandas as pd\n",
    "import matplotlib.pyplot as plt\n",
    "random.seed(42)\n",
    "np.random.seed(42)"
   ]
  },
  {
   "cell_type": "code",
   "execution_count": 2,
   "metadata": {},
   "outputs": [],
   "source": [
    "from sklearn.model_selection import KFold\n",
    "from sklearn.linear_model import LinearRegression\n",
    "from sklearn.metrics import mean_squared_error\n",
    "from statistics import mean\n",
    "from sklearn.ensemble import RandomForestRegressor\n",
    "from sklearn.datasets import make_regression"
   ]
  },
  {
   "cell_type": "code",
   "execution_count": 3,
   "metadata": {},
   "outputs": [],
   "source": [
    "from sklearn.preprocessing import OneHotEncoder\n",
    "from sklearn.neural_network import MLPClassifier"
   ]
  },
  {
   "cell_type": "code",
   "execution_count": 26,
   "metadata": {},
   "outputs": [],
   "source": [
    "file_path= os.path.expanduser('~/EE219/hw4/network_backup_dataset.csv')\n",
    "df=pd.read_csv(file_path, sep=',',header='infer')"
   ]
  },
  {
   "cell_type": "code",
   "execution_count": 27,
   "metadata": {},
   "outputs": [],
   "source": [
    "def day_of_week_num(days):\n",
    "    convert = {'Monday': 1, 'Tuesday': 2, 'Wednesday': 3, 'Thursday': 4, 'Friday': 5, 'Saturday': 6, 'Sunday': 7}\n",
    "    \n",
    "    num = []\n",
    "    for i in range(0, len(days)):\n",
    "        num.append(convert[days[i]])\n",
    "    return num\n",
    "\n",
    "#df['day_number'] = 7*(df['Week #'] - 1) + day_of_week_num(df['Day of Week'])"
   ]
  },
  {
   "cell_type": "code",
   "execution_count": 28,
   "metadata": {},
   "outputs": [
    {
     "data": {
      "text/html": [
       "<div>\n",
       "<style scoped>\n",
       "    .dataframe tbody tr th:only-of-type {\n",
       "        vertical-align: middle;\n",
       "    }\n",
       "\n",
       "    .dataframe tbody tr th {\n",
       "        vertical-align: top;\n",
       "    }\n",
       "\n",
       "    .dataframe thead th {\n",
       "        text-align: right;\n",
       "    }\n",
       "</style>\n",
       "<table border=\"1\" class=\"dataframe\">\n",
       "  <thead>\n",
       "    <tr style=\"text-align: right;\">\n",
       "      <th></th>\n",
       "      <th>Week #</th>\n",
       "      <th>Day of Week</th>\n",
       "      <th>Backup Start Time - Hour of Day</th>\n",
       "      <th>Work-Flow-ID</th>\n",
       "      <th>File Name</th>\n",
       "      <th>Size of Backup (GB)</th>\n",
       "      <th>Backup Time (hour)</th>\n",
       "    </tr>\n",
       "  </thead>\n",
       "  <tbody>\n",
       "    <tr>\n",
       "      <th>0</th>\n",
       "      <td>1</td>\n",
       "      <td>Monday</td>\n",
       "      <td>1</td>\n",
       "      <td>work_flow_0</td>\n",
       "      <td>File_0</td>\n",
       "      <td>0.0</td>\n",
       "      <td>0</td>\n",
       "    </tr>\n",
       "    <tr>\n",
       "      <th>1</th>\n",
       "      <td>1</td>\n",
       "      <td>Monday</td>\n",
       "      <td>1</td>\n",
       "      <td>work_flow_2</td>\n",
       "      <td>File_12</td>\n",
       "      <td>0.0</td>\n",
       "      <td>0</td>\n",
       "    </tr>\n",
       "    <tr>\n",
       "      <th>2</th>\n",
       "      <td>1</td>\n",
       "      <td>Monday</td>\n",
       "      <td>1</td>\n",
       "      <td>work_flow_2</td>\n",
       "      <td>File_13</td>\n",
       "      <td>0.0</td>\n",
       "      <td>0</td>\n",
       "    </tr>\n",
       "    <tr>\n",
       "      <th>3</th>\n",
       "      <td>1</td>\n",
       "      <td>Monday</td>\n",
       "      <td>1</td>\n",
       "      <td>work_flow_2</td>\n",
       "      <td>File_14</td>\n",
       "      <td>0.0</td>\n",
       "      <td>0</td>\n",
       "    </tr>\n",
       "    <tr>\n",
       "      <th>4</th>\n",
       "      <td>1</td>\n",
       "      <td>Monday</td>\n",
       "      <td>1</td>\n",
       "      <td>work_flow_2</td>\n",
       "      <td>File_16</td>\n",
       "      <td>0.0</td>\n",
       "      <td>0</td>\n",
       "    </tr>\n",
       "  </tbody>\n",
       "</table>\n",
       "</div>"
      ],
      "text/plain": [
       "   Week # Day of Week  Backup Start Time - Hour of Day Work-Flow-ID File Name  \\\n",
       "0       1      Monday                                1  work_flow_0    File_0   \n",
       "1       1      Monday                                1  work_flow_2   File_12   \n",
       "2       1      Monday                                1  work_flow_2   File_13   \n",
       "3       1      Monday                                1  work_flow_2   File_14   \n",
       "4       1      Monday                                1  work_flow_2   File_16   \n",
       "\n",
       "   Size of Backup (GB)  Backup Time (hour)  \n",
       "0                  0.0                   0  \n",
       "1                  0.0                   0  \n",
       "2                  0.0                   0  \n",
       "3                  0.0                   0  \n",
       "4                  0.0                   0  "
      ]
     },
     "execution_count": 28,
     "metadata": {},
     "output_type": "execute_result"
    }
   ],
   "source": [
    "df.head()"
   ]
  },
  {
   "cell_type": "code",
   "execution_count": 29,
   "metadata": {},
   "outputs": [],
   "source": [
    "\n",
    "def trim_by_last_num(id):    \n",
    "    num = []\n",
    "    for i in range(0, len(id)):\n",
    "        mystr=id[i]\n",
    "        myst=mystr[-2:]\n",
    "        if myst[0]=='_':\n",
    "            myst=mystr[-1:]\n",
    "        num.append(myst)\n",
    "    return num\n",
    "df['Day of Week'] = day_of_week_num(df['Day of Week'])\n",
    "df['Work-Flow-ID'] = trim_by_last_num(df['Work-Flow-ID'])\n",
    "df['File Name'] = trim_by_last_num(df['File Name'])\n",
    "df_y=df['Size of Backup (GB)']\n",
    "df=df.drop(['Size of Backup (GB)','Backup Time (hour)'], axis = 1)\n",
    "kf = KFold(n_splits=10,random_state=42,shuffle=True)"
   ]
  },
  {
   "cell_type": "code",
   "execution_count": 30,
   "metadata": {},
   "outputs": [
    {
     "data": {
      "text/html": [
       "<div>\n",
       "<style scoped>\n",
       "    .dataframe tbody tr th:only-of-type {\n",
       "        vertical-align: middle;\n",
       "    }\n",
       "\n",
       "    .dataframe tbody tr th {\n",
       "        vertical-align: top;\n",
       "    }\n",
       "\n",
       "    .dataframe thead th {\n",
       "        text-align: right;\n",
       "    }\n",
       "</style>\n",
       "<table border=\"1\" class=\"dataframe\">\n",
       "  <thead>\n",
       "    <tr style=\"text-align: right;\">\n",
       "      <th></th>\n",
       "      <th>Week #</th>\n",
       "      <th>Day of Week</th>\n",
       "      <th>Backup Start Time - Hour of Day</th>\n",
       "      <th>Work-Flow-ID</th>\n",
       "      <th>File Name</th>\n",
       "    </tr>\n",
       "  </thead>\n",
       "  <tbody>\n",
       "    <tr>\n",
       "      <th>0</th>\n",
       "      <td>1</td>\n",
       "      <td>1</td>\n",
       "      <td>1</td>\n",
       "      <td>0</td>\n",
       "      <td>0</td>\n",
       "    </tr>\n",
       "    <tr>\n",
       "      <th>1</th>\n",
       "      <td>1</td>\n",
       "      <td>1</td>\n",
       "      <td>1</td>\n",
       "      <td>2</td>\n",
       "      <td>12</td>\n",
       "    </tr>\n",
       "    <tr>\n",
       "      <th>2</th>\n",
       "      <td>1</td>\n",
       "      <td>1</td>\n",
       "      <td>1</td>\n",
       "      <td>2</td>\n",
       "      <td>13</td>\n",
       "    </tr>\n",
       "    <tr>\n",
       "      <th>3</th>\n",
       "      <td>1</td>\n",
       "      <td>1</td>\n",
       "      <td>1</td>\n",
       "      <td>2</td>\n",
       "      <td>14</td>\n",
       "    </tr>\n",
       "    <tr>\n",
       "      <th>4</th>\n",
       "      <td>1</td>\n",
       "      <td>1</td>\n",
       "      <td>1</td>\n",
       "      <td>2</td>\n",
       "      <td>16</td>\n",
       "    </tr>\n",
       "  </tbody>\n",
       "</table>\n",
       "</div>"
      ],
      "text/plain": [
       "   Week #  Day of Week  Backup Start Time - Hour of Day Work-Flow-ID File Name\n",
       "0       1            1                                1            0         0\n",
       "1       1            1                                1            2        12\n",
       "2       1            1                                1            2        13\n",
       "3       1            1                                1            2        14\n",
       "4       1            1                                1            2        16"
      ]
     },
     "execution_count": 30,
     "metadata": {},
     "output_type": "execute_result"
    }
   ],
   "source": [
    "df.head()"
   ]
  },
  {
   "cell_type": "code",
   "execution_count": 31,
   "metadata": {},
   "outputs": [],
   "source": [
    "import graphviz \n",
    "from sklearn import tree\n",
    "feature_list0=['Week index','Day of Week','Backup Time','Work-Flow-ID','File Name']"
   ]
  },
  {
   "cell_type": "code",
   "execution_count": null,
   "metadata": {},
   "outputs": [],
   "source": []
  },
  {
   "cell_type": "code",
   "execution_count": 32,
   "metadata": {},
   "outputs": [
    {
     "data": {
      "text/plain": [
       "'random_forest.png.pdf'"
      ]
     },
     "execution_count": 32,
     "metadata": {},
     "output_type": "execute_result"
    }
   ],
   "source": [
    "# visualize the random forest\n",
    "\n",
    "forest1 =  RandomForestRegressor(oob_score=True,max_features=5,max_depth=4,random_state=42)\n",
    "\n",
    "forest1.set_params(n_estimators=20)\n",
    "X = df.iloc[:200,:].values\n",
    "y = df_y.iloc[:200].values\n",
    "\n",
    "\n",
    "forest1.fit(X, y)\n",
    "tree1 = forest1.estimators_[1]\n",
    "dot_data = tree.export_graphviz(tree1, out_file=None, feature_names=feature_list0, \n",
    "                                class_names=\"charges\",   filled=True, rounded=True,  special_characters=True)\n",
    "graph = graphviz.Source(dot_data)\n",
    "graph.render('random_forest.png', view=True)"
   ]
  },
  {
   "cell_type": "code",
   "execution_count": 8,
   "metadata": {},
   "outputs": [],
   "source": []
  },
  {
   "cell_type": "code",
   "execution_count": null,
   "metadata": {},
   "outputs": [],
   "source": []
  },
  {
   "cell_type": "code",
   "execution_count": null,
   "metadata": {},
   "outputs": [],
   "source": []
  },
  {
   "cell_type": "code",
   "execution_count": null,
   "metadata": {},
   "outputs": [],
   "source": []
  },
  {
   "cell_type": "code",
   "execution_count": null,
   "metadata": {},
   "outputs": [],
   "source": []
  },
  {
   "cell_type": "code",
   "execution_count": null,
   "metadata": {},
   "outputs": [],
   "source": []
  }
 ],
 "metadata": {
  "kernelspec": {
   "display_name": "Python 3",
   "language": "python",
   "name": "python3"
  },
  "language_info": {
   "codemirror_mode": {
    "name": "ipython",
    "version": 3
   },
   "file_extension": ".py",
   "mimetype": "text/x-python",
   "name": "python",
   "nbconvert_exporter": "python",
   "pygments_lexer": "ipython3",
   "version": "3.7.1"
  }
 },
 "nbformat": 4,
 "nbformat_minor": 2
}
