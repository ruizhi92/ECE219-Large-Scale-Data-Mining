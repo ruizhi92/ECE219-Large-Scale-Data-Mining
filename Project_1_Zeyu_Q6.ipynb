{
 "cells": [
  {
   "cell_type": "code",
   "execution_count": 2,
   "metadata": {},
   "outputs": [],
   "source": [
    "from matplotlib import pyplot as plt\n",
    "\n",
    "import numpy as np\n",
    "np.random.seed(42)\n",
    "import random\n",
    "random.seed(42)"
   ]
  },
  {
   "cell_type": "code",
   "execution_count": 3,
   "metadata": {},
   "outputs": [],
   "source": [
    "from sklearn.datasets import fetch_20newsgroups\n",
    "categories = ['comp.graphics', 'comp.os.ms-windows.misc',\n",
    "'comp.sys.ibm.pc.hardware', 'comp.sys.mac.hardware',\n",
    "'rec.autos', 'rec.motorcycles',\n",
    "'rec.sport.baseball', 'rec.sport.hockey']\n",
    "train_dataset = fetch_20newsgroups(subset = 'train', categories = categories\n",
    ", shuffle = True, random_state = 42)\n",
    "test_dataset = fetch_20newsgroups(subset = 'test', categories = categories\n",
    ", shuffle = True, random_state = 42)"
   ]
  },
  {
   "cell_type": "code",
   "execution_count": 4,
   "metadata": {
    "scrolled": true
   },
   "outputs": [
    {
     "data": {
      "text/plain": [
       "(array([584.,   0., 591.,   0.,   0., 590.,   0.,   0., 578.,   0.,   0.,\n",
       "        594.,   0.,   0., 598.,   0.,   0., 597.,   0., 600.]),\n",
       " array([0.  , 0.35, 0.7 , 1.05, 1.4 , 1.75, 2.1 , 2.45, 2.8 , 3.15, 3.5 ,\n",
       "        3.85, 4.2 , 4.55, 4.9 , 5.25, 5.6 , 5.95, 6.3 , 6.65, 7.  ]),\n",
       " <a list of 20 Patch objects>)"
      ]
     },
     "execution_count": 4,
     "metadata": {},
     "output_type": "execute_result"
    },
    {
     "data": {
      "image/png": "[encoded data removed]",
      "text/plain": [
       "<Figure size 432x288 with 1 Axes>"
      ]
     },
     "metadata": {
      "needs_background": "light"
     },
     "output_type": "display_data"
    }
   ],
   "source": [
    "from matplotlib import pyplot as plt\n",
    "import numpy as np\n",
    "plt.hist(train_dataset.target,bins=20, alpha=0.5, histtype='bar', ec='black',\n",
    "        label=categories)"
   ]
  },
  {
   "cell_type": "code",
   "execution_count": 5,
   "metadata": {},
   "outputs": [],
   "source": [
    "import nltk\n",
    "from nltk import pos_tag\n",
    "# nltk.download('punkt')#, if you need \"tokenizers/punkt/english.pickle\", choose it\n",
    "# nltk.download('averaged_perceptron_tagger')\n",
    "\n",
    "wnl = nltk.wordnet.WordNetLemmatizer()\n",
    "\n",
    "def penn2morphy(penntag):\n",
    "    \"\"\" Converts Penn Treebank tags to WordNet. \"\"\"\n",
    "    morphy_tag = {'NN':'n', 'JJ':'a',\n",
    "                  'VB':'v', 'RB':'r'}\n",
    "    try:\n",
    "        return morphy_tag[penntag[:2]]\n",
    "    except:\n",
    "        return 'n'\n",
    "\n",
    "def lemmatize_sent(list_word):\n",
    "    # Text input is string, returns array of lowercased strings(words).\n",
    "    return [wnl.lemmatize(word.lower(), pos=penn2morphy(tag)) \n",
    "            for word, tag in pos_tag(list_word)]"
   ]
  },
  {
   "cell_type": "code",
   "execution_count": 6,
   "metadata": {},
   "outputs": [],
   "source": [
    "from sklearn.feature_extraction.text import CountVectorizer\n",
    "\n",
    "analyzer = CountVectorizer().build_analyzer()\n",
    "\n",
    "def stemmed_words(doc):\n",
    "    return (stemmer.stem(w) for w in analyzer(doc))\n",
    "\n",
    "def stem_rmv_punc(doc):\n",
    "    return (word for word in lemmatize_sent(analyzer(doc)) if not word.isdigit())"
   ]
  },
  {
   "cell_type": "code",
   "execution_count": 7,
   "metadata": {},
   "outputs": [
    {
     "name": "stdout",
     "output_type": "stream",
     "text": [
      "train count size  (4732, 16600)\n",
      "test count size  (3150, 16600)\n"
     ]
    }
   ],
   "source": [
    "vectorizer = CountVectorizer(min_df=3, \n",
    "                             analyzer=stem_rmv_punc, \n",
    "                             stop_words='english')\n",
    "\n",
    "# fit_tranform train data\n",
    "X_train_counts = vectorizer.fit_transform(train_dataset.data)\n",
    "print(\"train count size \", X_train_counts.shape)\n",
    "\n",
    "\n",
    "X_test_counts = vectorizer.transform(test_dataset.data)\n",
    "print(\"test count size \", X_test_counts.shape)\n",
    "\n",
    "# vectorizer.get_feature_names()"
   ]
  },
  {
   "cell_type": "code",
   "execution_count": 8,
   "metadata": {},
   "outputs": [],
   "source": [
    "from sklearn.feature_extraction.text import TfidfTransformer\n",
    "tfidf_transformer = TfidfTransformer()\n",
    "\n",
    "# fit_tranform train data\n",
    "X_train_tfidf = tfidf_transformer.fit_transform(X_train_counts)\n",
    "#print(X_train_tfidf.shape)\n",
    "#print('-' * 20)\n",
    "#print(X_train_counts.toarray()[:10,:5])\n",
    "#print('-' * 20)\n",
    "#print(X_train_tfidf.toarray()[:10,:5])\n",
    "\n",
    "# transform test data\n",
    "X_test_tfidf = tfidf_transformer.transform(X_test_counts)\n",
    "#print(X_test_tfidf.shape)\n",
    "#print('-' * 20)\n",
    "#print(X_test_counts.toarray()[:10,:5])\n",
    "#print('-' * 20)\n",
    "#print(X_test_tfidf.toarray()[:10,:5])"
   ]
  },
  {
   "cell_type": "code",
   "execution_count": 9,
   "metadata": {},
   "outputs": [
    {
     "name": "stdout",
     "output_type": "stream",
     "text": [
      "(4732, 50)\n"
     ]
    }
   ],
   "source": [
    "from sklearn.decomposition import TruncatedSVD\n",
    "\n",
    "svd = TruncatedSVD(n_components=50, random_state=42)\n",
    "X_train_reduced = svd.fit_transform(X_train_tfidf)\n",
    "print(X_train_reduced.shape)"
   ]
  },
  {
   "cell_type": "markdown",
   "metadata": {},
   "source": [
    "## Question 6"
   ]
  },
  {
   "cell_type": "markdown",
   "metadata": {},
   "source": [
    "### Naive Bayes with GaussianNB"
   ]
  },
  {
   "cell_type": "markdown",
   "metadata": {},
   "source": [
    "#### Classify the documents into two classes"
   ]
  },
  {
   "cell_type": "code",
   "execution_count": 10,
   "metadata": {},
   "outputs": [
    {
     "name": "stdout",
     "output_type": "stream",
     "text": [
      "comp.graphics : target index =  6\n",
      "comp.os.ms-windows.misc : target index =  7\n",
      "comp.sys.ibm.pc.hardware : target index =  4\n",
      "comp.sys.mac.hardware : target index =  2\n",
      "rec.autos : target index =  1\n",
      "rec.motorcycles : target index =  3\n",
      "rec.sport.baseball : target index =  0\n",
      "rec.sport.hockey : target index =  5\n"
     ]
    }
   ],
   "source": [
    "_, idx = np.unique(train_dataset.target, return_index=True)\n",
    "for i in range(len(idx)):\n",
    "    j = np.sort(idx)[i]\n",
    "    print(train_dataset.target_names[i],': target index = ', train_dataset.target[j])\n",
    "\n",
    "#print(train_dataset.target[15:25])\n",
    "#print(train_dataset.target_names[15:25])"
   ]
  },
  {
   "cell_type": "code",
   "execution_count": 11,
   "metadata": {},
   "outputs": [],
   "source": [
    "train_dataset.bintarget = np.zeros_like(train_dataset.target)\n",
    "test_dataset.bintarget = np.zeros_like(test_dataset.target)\n",
    "for y in [6, 7, 4, 2]:\n",
    "    train_dataset.bintarget[np.argwhere(train_dataset.target == y)] = 0\n",
    "    test_dataset.bintarget[np.argwhere(test_dataset.target == y)] = 0\n",
    "for y in [1, 3, 0, 5]:\n",
    "    train_dataset.bintarget[np.argwhere(train_dataset.target == y)] = 1\n",
    "    test_dataset.bintarget[np.argwhere(test_dataset.target == y)] = 1\n",
    "class_names = ['Computer Technology', 'Recreational Activity']\n",
    "#print(train_dataset.bintarget[:20])"
   ]
  },
  {
   "cell_type": "markdown",
   "metadata": {},
   "source": [
    "#### Train GaussianNB"
   ]
  },
  {
   "cell_type": "code",
   "execution_count": 12,
   "metadata": {},
   "outputs": [],
   "source": [
    "from sklearn.feature_extraction.text import TfidfTransformer\n",
    "\n",
    "from sklearn.naive_bayes import GaussianNB\n",
    "\n",
    "from sklearn.base import BaseEstimator, TransformerMixin\n",
    "class SparseToDenseArray(BaseEstimator, TransformerMixin):\n",
    "    def __init__(self):\n",
    "        pass\n",
    "\n",
    "    def transform(self, X, *_):\n",
    "        if hasattr(X, 'toarray'):\n",
    "            return X.toarray()\n",
    "        return X\n",
    "\n",
    "    def fit(self, *_):\n",
    "        return self\n",
    "\n",
    "from sklearn.decomposition import TruncatedSVD, NMF\n",
    "\n",
    "# nmf = NMF(n_components=50, init='random', random_state=42)\n",
    "\n",
    "# \"The purpose of the pipeline is to assemble several steps that can \n",
    "#  be cross-validated together while setting different parameters.\"\n",
    "from sklearn.pipeline import Pipeline\n",
    "pipeline = Pipeline([\n",
    "    ('vect', vectorizer),\n",
    "    ('tfidf', TfidfTransformer()),\n",
    "    ('reduce_dim', TruncatedSVD(n_components=50, random_state=42)),\n",
    "    ('toarr', SparseToDenseArray()),\n",
    "    ('clf', GaussianNB()),\n",
    "])\n",
    "\n"
   ]
  },
  {
   "cell_type": "code",
   "execution_count": 13,
   "metadata": {},
   "outputs": [],
   "source": [
    "from sklearn.metrics import confusion_matrix\n",
    "from sklearn.metrics import roc_curve\n",
    "from sklearn.metrics import auc\n",
    "\n",
    "import matplotlib.pyplot as plt\n",
    "%matplotlib inline"
   ]
  },
  {
   "cell_type": "code",
   "execution_count": 14,
   "metadata": {},
   "outputs": [],
   "source": [
    "def plot_roc(fpr, tpr):\n",
    "    fig, ax = plt.subplots()\n",
    "\n",
    "    roc_auc = auc(fpr,tpr)\n",
    "\n",
    "    ax.plot(fpr, tpr, lw=2, label= 'area under curve = %0.4f' % roc_auc)\n",
    "\n",
    "    ax.grid(color='0.7', linestyle='--', linewidth=1)\n",
    "\n",
    "    ax.set_xlim([-0.1, 1.1])\n",
    "    ax.set_ylim([0.0, 1.05])\n",
    "    ax.set_xlabel('False Positive Rate',fontsize=15)\n",
    "    ax.set_ylabel('True Positive Rate',fontsize=15)\n",
    "\n",
    "    ax.legend(loc=\"lower right\")\n",
    "\n",
    "    for label in ax.get_xticklabels()+ax.get_yticklabels():\n",
    "        label.set_fontsize(15)\n",
    "\n",
    "def fit_predict_and_plot_roc(pipe, train_data, train_label, test_data, test_label):\n",
    "    pipe.fit(train_data, train_label)\n",
    "\n",
    "    if hasattr(pipe, 'decision_function'):\n",
    "        prob_score = pipe.decision_function(test_data)\n",
    "        fpr, tpr, _ = roc_curve(test_label, prob_score)\n",
    "    else:\n",
    "        prob_score = pipe.predict_proba(test_data)\n",
    "        fpr, tpr, _ = roc_curve(test_label, prob_score[:,1])\n",
    "\n",
    "    plot_roc(fpr, tpr)\n",
    "#     return pipe"
   ]
  },
  {
   "cell_type": "code",
   "execution_count": 15,
   "metadata": {},
   "outputs": [
    {
     "data": {
      "image/png": "[encoded data removed]",
      "text/plain": [
       "<Figure size 432x288 with 1 Axes>"
      ]
     },
     "metadata": {
      "needs_background": "light"
     },
     "output_type": "display_data"
    }
   ],
   "source": [
    "fit_predict_and_plot_roc(pipeline, train_dataset.data, train_dataset.bintarget, test_dataset.data, test_dataset.bintarget)"
   ]
  },
  {
   "cell_type": "markdown",
   "metadata": {},
   "source": [
    "#### Confusion Matrix"
   ]
  },
  {
   "cell_type": "code",
   "execution_count": 16,
   "metadata": {},
   "outputs": [],
   "source": [
    "pred = pipeline.predict(test_dataset.data)"
   ]
  },
  {
   "cell_type": "code",
   "execution_count": 17,
   "metadata": {},
   "outputs": [
    {
     "name": "stdout",
     "output_type": "stream",
     "text": [
      "accuracy: 0.7542857142857143\n",
      "recall: 0.6340996168582376\n",
      "precision: 0.8316582914572864\n",
      "f1_score: 0.7195652173913044\n"
     ]
    }
   ],
   "source": [
    "from sklearn.metrics import accuracy_score\n",
    "from sklearn.metrics import precision_score\n",
    "from sklearn.metrics import recall_score\n",
    "from sklearn.metrics import f1_score\n",
    "\n",
    "print('accuracy:', accuracy_score(test_dataset.bintarget, pred))\n",
    "print('recall:', recall_score(test_dataset.bintarget, pred))\n",
    "print('precision:', precision_score(test_dataset.bintarget, pred))\n",
    "print('f1_score:', f1_score(test_dataset.bintarget, pred))"
   ]
  },
  {
   "cell_type": "code",
   "execution_count": 18,
   "metadata": {},
   "outputs": [],
   "source": [
    "import itertools\n",
    "from sklearn.metrics import confusion_matrix\n",
    "\n",
    "def plot_confusion_matrix(cm, classes,\n",
    "                          normalize=False,\n",
    "                          title='Confusion matrix',\n",
    "                          cmap=plt.cm.Blues):\n",
    "    \"\"\"\n",
    "    This function prints and plots the confusion matrix.\n",
    "    Normalization can be applied by setting `normalize=True`.\n",
    "    \"\"\"\n",
    "    if normalize:\n",
    "        cm = cm.astype('float') / cm.sum(axis=1)[:, np.newaxis]\n",
    "        print(\"Normalized confusion matrix\")\n",
    "    else:\n",
    "        print('Confusion matrix, without normalization')\n",
    "\n",
    "    print(cm)\n",
    "\n",
    "    plt.imshow(cm, interpolation='nearest', cmap=cmap)\n",
    "    plt.title(title)\n",
    "    plt.colorbar()\n",
    "    tick_marks = np.arange(len(classes))\n",
    "    plt.xticks(tick_marks, classes, rotation=45)\n",
    "    plt.yticks(tick_marks, classes)\n",
    "\n",
    "    fmt = '.2f' if normalize else 'd'\n",
    "    thresh = cm.max() / 2.\n",
    "    for i, j in itertools.product(range(cm.shape[0]), range(cm.shape[1])):\n",
    "        plt.text(j, i, format(cm[i, j], fmt),\n",
    "                 horizontalalignment=\"center\",\n",
    "                 color=\"white\" if cm[i, j] > thresh else \"black\")\n",
    "\n",
    "    plt.ylabel('True label')\n",
    "    plt.xlabel('Predicted label')\n",
    "    plt.tight_layout()\n"
   ]
  },
  {
   "cell_type": "code",
   "execution_count": 19,
   "metadata": {},
   "outputs": [
    {
     "name": "stdout",
     "output_type": "stream",
     "text": [
      "Confusion matrix, without normalization\n",
      "[[1383  201]\n",
      " [ 573  993]]\n",
      "Normalized confusion matrix\n",
      "[[0.87 0.13]\n",
      " [0.37 0.63]]\n"
     ]
    },
    {
     "data": {
      "image/png": "[encoded data removed]",
      "text/plain": [
       "<Figure size 432x288 with 2 Axes>"
      ]
     },
     "metadata": {
      "needs_background": "light"
     },
     "output_type": "display_data"
    },
    {
     "data": {
      "image/png": "[encoded data removed]",
      "text/plain": [
       "<Figure size 432x288 with 2 Axes>"
      ]
     },
     "metadata": {
      "needs_background": "light"
     },
     "output_type": "display_data"
    }
   ],
   "source": [
    "# Compute confusion matrix\n",
    "cnf_matrix = confusion_matrix(test_dataset.bintarget, pred)\n",
    "np.set_printoptions(precision=2)\n",
    "\n",
    "# Plot non-normalized confusion matrix\n",
    "plt.figure()\n",
    "plot_confusion_matrix(cnf_matrix, classes=class_names,\n",
    "                      title='Confusion matrix, without normalization')\n",
    "\n",
    "# Plot normalized confusion matrix\n",
    "plt.figure()\n",
    "plot_confusion_matrix(cnf_matrix, classes=class_names, normalize=True,\n",
    "                      title='Normalized confusion matrix')\n",
    "\n",
    "plt.show()"
   ]
  }
 ],
 "metadata": {
  "kernelspec": {
   "display_name": "Python 3",
   "language": "python",
   "name": "python3"
  },
  "language_info": {
   "codemirror_mode": {
    "name": "ipython",
    "version": 3
   },
   "file_extension": ".py",
   "mimetype": "text/x-python",
   "name": "python",
   "nbconvert_exporter": "python",
   "pygments_lexer": "ipython3",
   "version": "3.7.1"
  }
 },
 "nbformat": 4,
 "nbformat_minor": 2
}
