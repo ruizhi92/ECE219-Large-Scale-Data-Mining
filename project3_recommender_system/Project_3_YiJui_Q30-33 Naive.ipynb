{
 "cells": [
  {
   "cell_type": "code",
   "execution_count": 1,
   "metadata": {},
   "outputs": [],
   "source": [
    "import csv\n",
    "import numpy as np\n",
    "import os\n",
    "import math\n",
    "import random\n",
    "random.seed(42)\n",
    "np.random.seed(42)"
   ]
  },
  {
   "cell_type": "code",
   "execution_count": 2,
   "metadata": {},
   "outputs": [],
   "source": [
    "from sklearn.decomposition import NMF\n",
    "from surprise import Reader\n",
    "from surprise import AlgoBase\n",
    "from surprise import Dataset\n",
    "from surprise import evaluate\n",
    "from surprise import accuracy\n",
    "from sklearn.model_selection import KFold"
   ]
  },
  {
   "cell_type": "code",
   "execution_count": 3,
   "metadata": {},
   "outputs": [],
   "source": [
    "file_path_ratings = os.path.expanduser('ml-latest-small/ratings.csv')\n",
    "file_path_movies = os.path.expanduser('ml-latest-small/movies.csv')\n",
    "\n",
    "movie_list = dict()\n",
    "user_id = []\n",
    "movie_id = []\n",
    "ratings = []\n",
    "\n",
    "# loading the user_id and ratings\n",
    "with open(file_path_ratings) as csvfile:\n",
    "    reader = csv.DictReader(csvfile)\n",
    "    for row in reader:\n",
    "        user_id.append(int(row['userId']))\n",
    "        movie_id.append(int(row['movieId']))\n",
    "        ratings.append(float(row['rating']))"
   ]
  },
  {
   "cell_type": "code",
   "execution_count": 4,
   "metadata": {},
   "outputs": [
    {
     "name": "stdout",
     "output_type": "stream",
     "text": [
      "number of user= 610\n",
      "number of rated movie= 9724\n",
      "Sparsity= 0.016999683055613623\n"
     ]
    }
   ],
   "source": [
    "#movie_list=np.zeros(max(movie_id)+1)\n",
    "movie_number=0\n",
    "user_number=0\n",
    "user_id_u=[]\n",
    "for id in user_id:\n",
    "    if id not in user_id_u:\n",
    "        user_id_u.append(id)\n",
    "        user_number=user_number+1\n",
    "print('number of user=',user_number)\n",
    "movie_id_u=[]\n",
    "for id in movie_id:\n",
    "    if id not in movie_id_u:\n",
    "        movie_list[id]=int(movie_number)\n",
    "        movie_id_u.append(id)\n",
    "        movie_number=movie_number+1\n",
    "print('number of rated movie=',movie_number)\n",
    "total_available_rating=len(user_id)\n",
    "total_possible_rating=user_number*movie_number\n",
    "print('Sparsity=',float(total_available_rating) / total_possible_rating)"
   ]
  },
  {
   "cell_type": "code",
   "execution_count": 5,
   "metadata": {},
   "outputs": [],
   "source": [
    "R = np.zeros((user_number, movie_number))  \n",
    "W = np.zeros((user_number, movie_number))\n",
    "for i in range(len(user_id)):\n",
    "    x = user_id[i] - 1\n",
    "    y =  int(movie_list[movie_id[i]])\n",
    "    R[x,y] = ratings[i]\n",
    "    W[x,y]=1"
   ]
  },
  {
   "cell_type": "code",
   "execution_count": 6,
   "metadata": {},
   "outputs": [
    {
     "data": {
      "text/plain": [
       "780"
      ]
     },
     "execution_count": 6,
     "metadata": {},
     "output_type": "execute_result"
    }
   ],
   "source": [
    "np.sum(R,axis=0)\n",
    "sss=np.sum(W,axis=0)\n",
    "rating=np.sum(R,axis=0)/np.sum(W,axis=0)\n",
    "for i in range(movie_number):\n",
    "    if sss[i]<200:\n",
    "        rating[i]=5 \n",
    "movie_id_u[np.argmin(rating)]"
   ]
  },
  {
   "cell_type": "markdown",
   "metadata": {},
   "source": [
    "# Question 30"
   ]
  },
  {
   "cell_type": "code",
   "execution_count": 7,
   "metadata": {},
   "outputs": [
    {
     "name": "stdout",
     "output_type": "stream",
     "text": [
      "(610, 9724)\n",
      "(610,)\n"
     ]
    }
   ],
   "source": [
    "print(R.shape)\n",
    "avg=np.sum(R,axis=1)/np.sum(W,axis=1)\n",
    "print(avg.shape)"
   ]
  },
  {
   "cell_type": "code",
   "execution_count": 8,
   "metadata": {},
   "outputs": [
    {
     "data": {
      "text/plain": [
       "array([[1.00000e+00, 1.00000e+00, 4.00000e+00],\n",
       "       [1.00000e+00, 3.00000e+00, 4.00000e+00],\n",
       "       [1.00000e+00, 6.00000e+00, 4.00000e+00],\n",
       "       ...,\n",
       "       [6.10000e+02, 1.68250e+05, 5.00000e+00],\n",
       "       [6.10000e+02, 1.68252e+05, 5.00000e+00],\n",
       "       [6.10000e+02, 1.70875e+05, 3.00000e+00]])"
      ]
     },
     "execution_count": 8,
     "metadata": {},
     "output_type": "execute_result"
    }
   ],
   "source": [
    "data = []\n",
    "data.append(user_id)\n",
    "data.append(movie_id)\n",
    "data.append(ratings)\n",
    "data = np.transpose(data)\n",
    "data"
   ]
  },
  {
   "cell_type": "code",
   "execution_count": 9,
   "metadata": {},
   "outputs": [
    {
     "name": "stdout",
     "output_type": "stream",
     "text": [
      "TRAIN_index: [     0      1      2 ... 100833 100834 100835] TEST_index: [    23     35     53 ... 100811 100814 100820]\n",
      "TRAIN_index: [     0      1      2 ... 100832 100833 100834] TEST_index: [     8     39     75 ... 100803 100807 100835]\n",
      "TRAIN_index: [     0      1      2 ... 100833 100834 100835] TEST_index: [    12     34     54 ... 100792 100799 100808]\n",
      "TRAIN_index: [     0      1      2 ... 100833 100834 100835] TEST_index: [     4      6      7 ... 100823 100827 100829]\n",
      "TRAIN_index: [     0      1      2 ... 100833 100834 100835] TEST_index: [    21     32     33 ... 100801 100806 100813]\n",
      "TRAIN_index: [     1      2      3 ... 100833 100834 100835] TEST_index: [     0     11     13 ... 100824 100830 100832]\n",
      "TRAIN_index: [     0      2      4 ... 100833 100834 100835] TEST_index: [     1      3      9 ... 100800 100819 100825]\n",
      "TRAIN_index: [     0      1      2 ... 100832 100833 100835] TEST_index: [    14     16     29 ... 100812 100828 100834]\n",
      "TRAIN_index: [     0      1      2 ... 100832 100834 100835] TEST_index: [     5     15     18 ... 100826 100831 100833]\n",
      "TRAIN_index: [     0      1      3 ... 100833 100834 100835] TEST_index: [     2     28     55 ... 100815 100818 100821]\n",
      "average RMSE= 0.9346786847813551\n"
     ]
    }
   ],
   "source": [
    "kf = KFold(n_splits=10,random_state=42,shuffle=True)\n",
    "RMSE_avg=0\n",
    "RMSE_list=[]\n",
    "for train_index, test_index in kf.split(data):\n",
    "    print(\"TRAIN_index:\", train_index, \"TEST_index:\", test_index)\n",
    "    RMSE=0\n",
    "    for index in test_index:\n",
    "        pred=avg[int(data[index,0]-1)]\n",
    "        RMSE=RMSE+(data[index,2]-pred)*(data[index,2]-pred)\n",
    "        #print(pred,data[index,2])\n",
    "    RMSE_avg=RMSE_avg+math.sqrt(RMSE/len(test_index))   \n",
    "    RMSE_list.append(math.sqrt(RMSE/len(test_index)))\n",
    "RMSE_avg=RMSE_avg/10    \n",
    "#print(RMSE_list)\n",
    "print('average RMSE=',RMSE_avg)"
   ]
  },
  {
   "cell_type": "markdown",
   "metadata": {},
   "source": [
    "# Question 31"
   ]
  },
  {
   "cell_type": "code",
   "execution_count": 10,
   "metadata": {},
   "outputs": [],
   "source": [
    "# user defined functions\n",
    "def PopTrim(test_index, movieFreq):\n",
    "    new_index=[]\n",
    "    for index in test_index:\n",
    "        if movieFreq[movie_list[data[index,1]]] > 2:\n",
    "            new_index.append(index)\n",
    "    return new_index\n",
    "\n",
    "def UnpopTrim(test_index, movieFreq):\n",
    "    new_index=[]\n",
    "    for index in test_index:\n",
    "        if movieFreq[movie_list[data[index,1]]] <= 2:\n",
    "            new_index.append(index)\n",
    "    return new_index\n",
    "\n",
    "def HighVarTrim(testset, movieFreq, movieVar):\n",
    "    new_index=[]\n",
    "    for index in test_index:\n",
    "        if movieVar[movie_list[data[index,1]]] >= 2 and movieFreq[movie_list[data[index,1]]] >= 5:\n",
    "            new_index.append(index)\n",
    "            \n",
    "    return new_index\n",
    "movieFreq = np.sum(R != 0, axis = 0)\n",
    "movieFreq_dict = {m: movieFreq[movie_list[m]] for m in movie_list.keys()}\n",
    "movieVar = [np.var([e for e in row if e != 0]) for row in np.transpose(R)]\n",
    "movieVar_dict = {m: movieVar[movie_list[m]] for m in movie_list.keys()}"
   ]
  },
  {
   "cell_type": "code",
   "execution_count": 11,
   "metadata": {},
   "outputs": [
    {
     "name": "stdout",
     "output_type": "stream",
     "text": [
      "TRAIN_index: [     0      1      2 ... 100833 100834 100835] TEST_index: [    23     35     53 ... 100811 100814 100820]\n",
      "TRAIN_index: [     0      1      2 ... 100832 100833 100834] TEST_index: [     8     39     75 ... 100803 100807 100835]\n",
      "TRAIN_index: [     0      1      2 ... 100833 100834 100835] TEST_index: [    12     34     54 ... 100792 100799 100808]\n",
      "TRAIN_index: [     0      1      2 ... 100833 100834 100835] TEST_index: [     4      6      7 ... 100823 100827 100829]\n",
      "TRAIN_index: [     0      1      2 ... 100833 100834 100835] TEST_index: [    21     32     33 ... 100801 100806 100813]\n",
      "TRAIN_index: [     1      2      3 ... 100833 100834 100835] TEST_index: [     0     11     13 ... 100824 100830 100832]\n",
      "TRAIN_index: [     0      2      4 ... 100833 100834 100835] TEST_index: [     1      3      9 ... 100800 100819 100825]\n",
      "TRAIN_index: [     0      1      2 ... 100832 100833 100835] TEST_index: [    14     16     29 ... 100812 100828 100834]\n",
      "TRAIN_index: [     0      1      2 ... 100832 100834 100835] TEST_index: [     5     15     18 ... 100826 100831 100833]\n",
      "TRAIN_index: [     0      1      3 ... 100833 100834 100835] TEST_index: [     2     28     55 ... 100815 100818 100821]\n",
      "average RMSE= 0.9322922328020201\n"
     ]
    }
   ],
   "source": [
    "RMSE_avg=0\n",
    "RMSE_list=[]\n",
    "for train_index, test_index in kf.split(data):\n",
    "    print(\"TRAIN_index:\", train_index, \"TEST_index:\", test_index)    \n",
    "    RMSE=0\n",
    "    trimmed_index=PopTrim(test_index, movieFreq)\n",
    "    #print(trimmed_index)\n",
    "    for index in trimmed_index:\n",
    "        pred=avg[int(data[index,0]-1)]\n",
    "        RMSE=RMSE+(data[index,2]-pred)*(data[index,2]-pred)\n",
    "        #print(pred,data[index,2])\n",
    "    RMSE_avg=RMSE_avg+math.sqrt(RMSE/len(trimmed_index))   \n",
    "    RMSE_list.append(math.sqrt(RMSE/len(trimmed_index)))\n",
    "RMSE_avg=RMSE_avg/10    \n",
    "#print(RMSE_list)\n",
    "print('average RMSE=',RMSE_avg)"
   ]
  },
  {
   "cell_type": "markdown",
   "metadata": {},
   "source": [
    "# Question 32"
   ]
  },
  {
   "cell_type": "code",
   "execution_count": 12,
   "metadata": {},
   "outputs": [
    {
     "name": "stdout",
     "output_type": "stream",
     "text": [
      "TRAIN_index: [     0      1      2 ... 100833 100834 100835] TEST_index: [    23     35     53 ... 100811 100814 100820]\n",
      "TRAIN_index: [     0      1      2 ... 100832 100833 100834] TEST_index: [     8     39     75 ... 100803 100807 100835]\n",
      "TRAIN_index: [     0      1      2 ... 100833 100834 100835] TEST_index: [    12     34     54 ... 100792 100799 100808]\n",
      "TRAIN_index: [     0      1      2 ... 100833 100834 100835] TEST_index: [     4      6      7 ... 100823 100827 100829]\n",
      "TRAIN_index: [     0      1      2 ... 100833 100834 100835] TEST_index: [    21     32     33 ... 100801 100806 100813]\n",
      "TRAIN_index: [     1      2      3 ... 100833 100834 100835] TEST_index: [     0     11     13 ... 100824 100830 100832]\n",
      "TRAIN_index: [     0      2      4 ... 100833 100834 100835] TEST_index: [     1      3      9 ... 100800 100819 100825]\n",
      "TRAIN_index: [     0      1      2 ... 100832 100833 100835] TEST_index: [    14     16     29 ... 100812 100828 100834]\n",
      "TRAIN_index: [     0      1      2 ... 100832 100834 100835] TEST_index: [     5     15     18 ... 100826 100831 100833]\n",
      "TRAIN_index: [     0      1      3 ... 100833 100834 100835] TEST_index: [     2     28     55 ... 100815 100818 100821]\n",
      "average RMSE= 0.9711408873803059\n"
     ]
    }
   ],
   "source": [
    "RMSE_avg=0\n",
    "RMSE_list=[]\n",
    "for train_index, test_index in kf.split(data):\n",
    "    print(\"TRAIN_index:\", train_index, \"TEST_index:\", test_index)    \n",
    "    RMSE=0\n",
    "    trimmed_index=UnpopTrim(test_index, movieFreq)\n",
    "    #print(trimmed_index)\n",
    "    for index in trimmed_index:\n",
    "        pred=avg[int(data[index,0]-1)]\n",
    "        RMSE=RMSE+(data[index,2]-pred)*(data[index,2]-pred)\n",
    "        #print(pred,data[index,2])\n",
    "    RMSE_avg=RMSE_avg+math.sqrt(RMSE/len(trimmed_index))   \n",
    "    RMSE_list.append(math.sqrt(RMSE/len(trimmed_index)))\n",
    "RMSE_avg=RMSE_avg/10    \n",
    "#print(RMSE_list)\n",
    "print('average RMSE=',RMSE_avg)"
   ]
  },
  {
   "cell_type": "markdown",
   "metadata": {},
   "source": [
    "# Question 33"
   ]
  },
  {
   "cell_type": "code",
   "execution_count": 13,
   "metadata": {},
   "outputs": [
    {
     "name": "stdout",
     "output_type": "stream",
     "text": [
      "TRAIN_index: [     0      1      2 ... 100833 100834 100835] TEST_index: [    23     35     53 ... 100811 100814 100820]\n",
      "TRAIN_index: [     0      1      2 ... 100832 100833 100834] TEST_index: [     8     39     75 ... 100803 100807 100835]\n",
      "TRAIN_index: [     0      1      2 ... 100833 100834 100835] TEST_index: [    12     34     54 ... 100792 100799 100808]\n",
      "TRAIN_index: [     0      1      2 ... 100833 100834 100835] TEST_index: [     4      6      7 ... 100823 100827 100829]\n",
      "TRAIN_index: [     0      1      2 ... 100833 100834 100835] TEST_index: [    21     32     33 ... 100801 100806 100813]\n",
      "TRAIN_index: [     1      2      3 ... 100833 100834 100835] TEST_index: [     0     11     13 ... 100824 100830 100832]\n",
      "TRAIN_index: [     0      2      4 ... 100833 100834 100835] TEST_index: [     1      3      9 ... 100800 100819 100825]\n",
      "TRAIN_index: [     0      1      2 ... 100832 100833 100835] TEST_index: [    14     16     29 ... 100812 100828 100834]\n",
      "TRAIN_index: [     0      1      2 ... 100832 100834 100835] TEST_index: [     5     15     18 ... 100826 100831 100833]\n",
      "TRAIN_index: [     0      1      3 ... 100833 100834 100835] TEST_index: [     2     28     55 ... 100815 100818 100821]\n",
      "average RMSE= 1.4535715353696466\n"
     ]
    }
   ],
   "source": [
    "RMSE_avg=0\n",
    "RMSE_list=[]\n",
    "for train_index, test_index in kf.split(data):\n",
    "    print(\"TRAIN_index:\", train_index, \"TEST_index:\", test_index)    \n",
    "    RMSE=0\n",
    "    trimmed_index=HighVarTrim(test_index, movieFreq,movieVar)\n",
    "    #print(trimmed_index)\n",
    "    for index in trimmed_index:\n",
    "        pred=avg[int(data[index,0]-1)]\n",
    "        RMSE=RMSE+(data[index,2]-pred)*(data[index,2]-pred)\n",
    "        #print(pred,data[index,2])\n",
    "    RMSE_avg=RMSE_avg+math.sqrt(RMSE/len(trimmed_index))   \n",
    "    RMSE_list.append(math.sqrt(RMSE/len(trimmed_index)))\n",
    "RMSE_avg=RMSE_avg/10    \n",
    "#print(RMSE_list)\n",
    "print('average RMSE=',RMSE_avg)"
   ]
  },
  {
   "cell_type": "markdown",
   "metadata": {},
   "source": [
    "# code below only for test"
   ]
  },
  {
   "cell_type": "code",
   "execution_count": null,
   "metadata": {},
   "outputs": [],
   "source": [
    "reader = Reader(line_format='user item rating timestamp', sep=',', skip_lines=1)\n",
    "data = Dataset.load_from_file('ml-latest-small/ratings.csv', reader)"
   ]
  },
  {
   "cell_type": "code",
   "execution_count": null,
   "metadata": {},
   "outputs": [],
   "source": [
    "data.split(n_folds=10)\n",
    "#kf = KFold(n_splits=10)"
   ]
  },
  {
   "cell_type": "code",
   "execution_count": null,
   "metadata": {},
   "outputs": [],
   "source": [
    "class MyOwnAlgorithm(AlgoBase):\n",
    "\n",
    "    def __init__(self):\n",
    "        # Always call base method before doing anything.\n",
    "        AlgoBase.__init__(self)      \n",
    "    \n",
    "\n",
    "    def estimate(self, uid, iid):        \n",
    "        print(uid,iid,avg[uid-1])\n",
    "        return avg[uid-1]\n",
    "    \n",
    "algo = MyOwnAlgorithm()\n",
    "\n",
    "for trainset, testset in data.folds(): #kf.split(data):\n",
    "    # train and test algorithm.\n",
    "    predictions = algo.test(testset)\n",
    "    print(predictions)\n",
    "    # Compute and print Root Mean Squared Error\n",
    "    rmse = accuracy.rmse(predictions, verbose=True)"
   ]
  },
  {
   "cell_type": "code",
   "execution_count": null,
   "metadata": {},
   "outputs": [],
   "source": [
    "# print(avg.shape)\n",
    "print(avg[11],R[11,int(movie_list[6132])])\n",
    "print(avg[318],R[318,int(movie_list[1421])])"
   ]
  },
  {
   "cell_type": "code",
   "execution_count": null,
   "metadata": {},
   "outputs": [],
   "source": [
    "uid = str(20)  # raw user id (as in the ratings file). They are **strings**!\n",
    "iid = str(3114)  # raw item id (as in the ratings file). They are **strings**!\n",
    "\n",
    "# get a prediction for specific users and items.\n",
    "pred = algo.predict(uid, iid, verbose=True)"
   ]
  },
  {
   "cell_type": "code",
   "execution_count": null,
   "metadata": {},
   "outputs": [],
   "source": [
    "kf = KFold(n_splits=2)\n",
    "for trainset, testset in kf.split(data):\n",
    "    print(trainset.shape)"
   ]
  },
  {
   "cell_type": "code",
   "execution_count": null,
   "metadata": {
    "scrolled": false
   },
   "outputs": [],
   "source": [
    "#X = np.array([[1, 2], [3, 4], [1, 2], [3, 4]])\n",
    "#y = np.array([1, 2, 3, 4])\n",
    "kf = KFold(n_splits=10)\n",
    "kf.get_n_splits(R)\n",
    "for train_index, test_index in kf.split(R):\n",
    "    \n",
    "    #print(train_index)\n",
    "    print(train_index.shape[0],test_index.shape)"
   ]
  },
  {
   "cell_type": "code",
   "execution_count": null,
   "metadata": {},
   "outputs": [],
   "source": [
    "kf.Splits(R)"
   ]
  },
  {
   "cell_type": "code",
   "execution_count": null,
   "metadata": {
    "scrolled": true
   },
   "outputs": [],
   "source": [
    "R"
   ]
  }
 ],
 "metadata": {
  "kernelspec": {
   "display_name": "Python 3",
   "language": "python",
   "name": "python3"
  },
  "language_info": {
   "codemirror_mode": {
    "name": "ipython",
    "version": 3
   },
   "file_extension": ".py",
   "mimetype": "text/x-python",
   "name": "python",
   "nbconvert_exporter": "python",
   "pygments_lexer": "ipython3",
   "version": "3.6.6"
  }
 },
 "nbformat": 4,
 "nbformat_minor": 2
}
